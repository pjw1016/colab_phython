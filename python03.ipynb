{
  "nbformat": 4,
  "nbformat_minor": 0,
  "metadata": {
    "colab": {
      "provenance": [],
      "authorship_tag": "ABX9TyPE8THVh+QDYpkXRdWfMHjf",
      "include_colab_link": true
    },
    "kernelspec": {
      "name": "python3",
      "display_name": "Python 3"
    },
    "language_info": {
      "name": "python"
    }
  },
  "cells": [
    {
      "cell_type": "markdown",
      "metadata": {
        "id": "view-in-github",
        "colab_type": "text"
      },
      "source": [
        "<a href=\"https://colab.research.google.com/github/pjw1016/colab_phython/blob/main/python03.ipynb\" target=\"_parent\"><img src=\"https://colab.research.google.com/assets/colab-badge.svg\" alt=\"Open In Colab\"/></a>"
      ]
    },
    {
      "cell_type": "markdown",
      "source": [
        "# <파이썬 프로그래밍 기초(3)>"
      ],
      "metadata": {
        "id": "tFeI7lPSDtTw"
      }
    },
    {
      "cell_type": "markdown",
      "source": [
        "**문자열**"
      ],
      "metadata": {
        "id": "c-lo9oUQa9-M"
      }
    },
    {
      "cell_type": "code",
      "execution_count": 1,
      "metadata": {
        "colab": {
          "base_uri": "https://localhost:8080/"
        },
        "id": "NmVdytjbDnw7",
        "outputId": "1a144d50-6aad-4221-ca26-b23a3dbe4aaf"
      },
      "outputs": [
        {
          "output_type": "stream",
          "name": "stdout",
          "text": [
            "a\n"
          ]
        }
      ],
      "source": [
        "msg = 'abcdefg'  # 문자열\n",
        "print(msg[0])"
      ]
    },
    {
      "cell_type": "code",
      "source": [
        "msg = '가나다라마바사아'\n",
        "print(msg[0])"
      ],
      "metadata": {
        "colab": {
          "base_uri": "https://localhost:8080/"
        },
        "id": "5Ai_7sZFWJ6_",
        "outputId": "f31509bb-fe1a-4200-c33b-03cb3d923f29"
      },
      "execution_count": 2,
      "outputs": [
        {
          "output_type": "stream",
          "name": "stdout",
          "text": [
            "가\n"
          ]
        }
      ]
    },
    {
      "cell_type": "code",
      "source": [
        "#msg[0] = 'a'  # 문자열은 인덱스를 활용하여 값 변경 불가능"
      ],
      "metadata": {
        "id": "L8z0xoPcWYgf"
      },
      "execution_count": 3,
      "outputs": []
    },
    {
      "cell_type": "markdown",
      "source": [
        "**튜플**"
      ],
      "metadata": {
        "id": "SuL488yFa_i9"
      }
    },
    {
      "cell_type": "code",
      "source": [
        "tup1 = (1,2,3,)\n",
        "print(tup1[2])"
      ],
      "metadata": {
        "colab": {
          "base_uri": "https://localhost:8080/"
        },
        "id": "lS5Ko5fQWaGv",
        "outputId": "596d90df-67bf-4c6c-fee6-ff5accd0dd3e"
      },
      "execution_count": 4,
      "outputs": [
        {
          "output_type": "stream",
          "name": "stdout",
          "text": [
            "3\n"
          ]
        }
      ]
    },
    {
      "cell_type": "code",
      "source": [
        "#tup1[0] = 10  # 튜플은 값 변경 불가"
      ],
      "metadata": {
        "id": "csIek-fzWigO"
      },
      "execution_count": 5,
      "outputs": []
    },
    {
      "cell_type": "code",
      "source": [
        "lst1 = list(tup1)  # 튜플을 리스트로 형 변환\n",
        "print(lst1)"
      ],
      "metadata": {
        "colab": {
          "base_uri": "https://localhost:8080/"
        },
        "id": "bwkog2xkWrb_",
        "outputId": "3f5026e6-68eb-4cf6-ae2b-974d06d89152"
      },
      "execution_count": 6,
      "outputs": [
        {
          "output_type": "stream",
          "name": "stdout",
          "text": [
            "[1, 2, 3]\n"
          ]
        }
      ]
    },
    {
      "cell_type": "code",
      "source": [
        "lst1 = list(msg)  # 문자열을 리스트로 형 변환\n",
        "print(lst1)"
      ],
      "metadata": {
        "colab": {
          "base_uri": "https://localhost:8080/"
        },
        "id": "lFQys-oSXEIO",
        "outputId": "1eea3a8e-b85b-42b8-faff-81ec4dbb6bc6"
      },
      "execution_count": 7,
      "outputs": [
        {
          "output_type": "stream",
          "name": "stdout",
          "text": [
            "['가', '나', '다', '라', '마', '바', '사', '아']\n"
          ]
        }
      ]
    },
    {
      "cell_type": "code",
      "source": [
        "'가' in lst1  # '가'가 리스트 안에 있는지 T/F 판단"
      ],
      "metadata": {
        "colab": {
          "base_uri": "https://localhost:8080/"
        },
        "id": "xK9WluHQXGFO",
        "outputId": "277a9895-b10c-4512-c24f-4dd2e63da021"
      },
      "execution_count": 8,
      "outputs": [
        {
          "output_type": "execute_result",
          "data": {
            "text/plain": [
              "True"
            ]
          },
          "metadata": {},
          "execution_count": 8
        }
      ]
    },
    {
      "cell_type": "code",
      "source": [
        "'가' in msg  # '가'가 리스트 안에 있는지 T/F 판단"
      ],
      "metadata": {
        "colab": {
          "base_uri": "https://localhost:8080/"
        },
        "id": "koyAUJKIXNru",
        "outputId": "c98a7eb3-6d13-4ccd-c6bf-30fd32fccb68"
      },
      "execution_count": 9,
      "outputs": [
        {
          "output_type": "execute_result",
          "data": {
            "text/plain": [
              "True"
            ]
          },
          "metadata": {},
          "execution_count": 9
        }
      ]
    },
    {
      "cell_type": "markdown",
      "source": [
        "**실습01**"
      ],
      "metadata": {
        "id": "UEgydnJbb-2F"
      }
    },
    {
      "cell_type": "code",
      "source": [
        "# 멤버 리스트에서 '김'이 들어간 사람 찾기\n",
        "members = ['윤하원','손형민','오수성','박지원','조재홍',\n",
        "           '이재권','이상욱','강호현','정송희','서민지',\n",
        "           '이랑','백지윤','류효주','이재현','김종현',\n",
        "           '이대현','이효재','두소김','이득규','김재헌',\n",
        "           '김준영','김영경']"
      ],
      "metadata": {
        "id": "3vmIBoRPXQfu"
      },
      "execution_count": 10,
      "outputs": []
    },
    {
      "cell_type": "code",
      "source": [
        "for name in members:  # members 리스트의 요소를 순차적으로 조회\n",
        "  if '김' in name:  # 요소에 '김'이 있으면 출력\n",
        "    print(name)"
      ],
      "metadata": {
        "colab": {
          "base_uri": "https://localhost:8080/"
        },
        "id": "7k6TqpIkX0Jt",
        "outputId": "a9aea70b-99c9-4cab-f25a-a0d42d071ece"
      },
      "execution_count": 11,
      "outputs": [
        {
          "output_type": "stream",
          "name": "stdout",
          "text": [
            "김종현\n",
            "두소김\n",
            "김재헌\n",
            "김준영\n",
            "김영경\n"
          ]
        }
      ]
    },
    {
      "cell_type": "markdown",
      "source": [
        "- 이 방식은 성씨가 '김'인 사람뿐만 아니라 이름에 '김'이 들어간 사람도 출력하는 한계가 있음"
      ],
      "metadata": {
        "id": "GpKn16dFG6HA"
      }
    },
    {
      "cell_type": "markdown",
      "source": [
        "**딕셔너리**"
      ],
      "metadata": {
        "id": "WKqP8eeMcCXE"
      }
    },
    {
      "cell_type": "code",
      "source": [
        "dict1 = {'a':1, 'b':2, 'c':3}\n",
        "print(dict1['a'])"
      ],
      "metadata": {
        "colab": {
          "base_uri": "https://localhost:8080/"
        },
        "id": "i2ObJEGLYCZu",
        "outputId": "c9dbd16e-5783-45bb-c7d4-4b5ea5a62364"
      },
      "execution_count": 12,
      "outputs": [
        {
          "output_type": "stream",
          "name": "stdout",
          "text": [
            "1\n"
          ]
        }
      ]
    },
    {
      "cell_type": "code",
      "source": [
        "dict1['d'] = 4  # 없는 키에 값을 할당하게되면 insert발생\n",
        "print(dict1)"
      ],
      "metadata": {
        "colab": {
          "base_uri": "https://localhost:8080/"
        },
        "id": "E5jQ30lAZBK9",
        "outputId": "c8e8d5e4-c75f-4934-b36a-f7435e7f3d2d"
      },
      "execution_count": 13,
      "outputs": [
        {
          "output_type": "stream",
          "name": "stdout",
          "text": [
            "{'a': 1, 'b': 2, 'c': 3, 'd': 4}\n"
          ]
        }
      ]
    },
    {
      "cell_type": "code",
      "source": [
        "dict1['a'] = 10  # 있는 키에 값을 할당하게되면 update발생\n",
        "print(dict1)"
      ],
      "metadata": {
        "colab": {
          "base_uri": "https://localhost:8080/"
        },
        "id": "lk6ShlqfZI7d",
        "outputId": "19a9f212-7c7e-43e6-880d-ab81205c083a"
      },
      "execution_count": 14,
      "outputs": [
        {
          "output_type": "stream",
          "name": "stdout",
          "text": [
            "{'a': 10, 'b': 2, 'c': 3, 'd': 4}\n"
          ]
        }
      ]
    },
    {
      "cell_type": "code",
      "source": [
        "#print(dict1['e'])  # 없는 키를 출력하려고 하면 오류 발생"
      ],
      "metadata": {
        "id": "ZnWZcW_AZRf9"
      },
      "execution_count": 15,
      "outputs": []
    },
    {
      "cell_type": "code",
      "source": [
        "print(dict1.get('e', '없음'))  # get('e', '없음'): e가 없으면 없음을 출력"
      ],
      "metadata": {
        "colab": {
          "base_uri": "https://localhost:8080/"
        },
        "id": "bntntrj3ZXEv",
        "outputId": "afa93440-8f5a-4056-cc86-b300ff101ec2"
      },
      "execution_count": 16,
      "outputs": [
        {
          "output_type": "stream",
          "name": "stdout",
          "text": [
            "없음\n"
          ]
        }
      ]
    },
    {
      "cell_type": "markdown",
      "source": [
        "- get(a, b): key로 a가 없으면 b를 리턴함(key로 a가 있다면 그 키의 value를 리턴)\n",
        "- 오류방지를 위해 사용\n",
        "- 만약 인자 b를 지정하지 않으면 None이 출력됨"
      ],
      "metadata": {
        "id": "i-E7ur3mdA4z"
      }
    },
    {
      "cell_type": "code",
      "source": [
        "dict1['d'] = None  # 키에 해당하는 값을 지우는 방법(틀린 방법)\n",
        "print(dict1)  # 키에 해당하는 값이 지워지지 않음"
      ],
      "metadata": {
        "colab": {
          "base_uri": "https://localhost:8080/"
        },
        "id": "5gBCvQqbc8M8",
        "outputId": "348523a8-599e-47a0-9bdc-6fb8716c0da8"
      },
      "execution_count": 17,
      "outputs": [
        {
          "output_type": "stream",
          "name": "stdout",
          "text": [
            "{'a': 10, 'b': 2, 'c': 3, 'd': None}\n"
          ]
        }
      ]
    },
    {
      "cell_type": "code",
      "source": [
        "del(dict1['d'])  # 키에 해당하는 값을 지우는 방법(옳은 방법)\n",
        "print(dict1)  # 키에 해당하는 값이 잘 지워짐"
      ],
      "metadata": {
        "colab": {
          "base_uri": "https://localhost:8080/"
        },
        "id": "7xs0s9UZdgrb",
        "outputId": "48565bf1-2b77-49b8-be91-28d9b3334a90"
      },
      "execution_count": 18,
      "outputs": [
        {
          "output_type": "stream",
          "name": "stdout",
          "text": [
            "{'a': 10, 'b': 2, 'c': 3}\n"
          ]
        }
      ]
    },
    {
      "cell_type": "code",
      "source": [
        "# 딕셔너리에 for문 적용하기\n",
        "for n in dict1:\n",
        "  print(n)"
      ],
      "metadata": {
        "colab": {
          "base_uri": "https://localhost:8080/"
        },
        "id": "hBEn7RwPdv3L",
        "outputId": "d4e4c31b-442a-4098-abe5-63d891a59153"
      },
      "execution_count": 19,
      "outputs": [
        {
          "output_type": "stream",
          "name": "stdout",
          "text": [
            "a\n",
            "b\n",
            "c\n"
          ]
        }
      ]
    },
    {
      "cell_type": "markdown",
      "source": [
        "- 딕셔너리를 for문에 돌리면 키가 출력됨"
      ],
      "metadata": {
        "id": "KWqYewWFeI6r"
      }
    },
    {
      "cell_type": "code",
      "source": [
        "dict1.keys()"
      ],
      "metadata": {
        "colab": {
          "base_uri": "https://localhost:8080/"
        },
        "id": "SIo79VZCeHa6",
        "outputId": "690e2949-fa8a-48fb-b386-6415db000239"
      },
      "execution_count": 20,
      "outputs": [
        {
          "output_type": "execute_result",
          "data": {
            "text/plain": [
              "dict_keys(['a', 'b', 'c'])"
            ]
          },
          "metadata": {},
          "execution_count": 20
        }
      ]
    },
    {
      "cell_type": "markdown",
      "source": [
        "- 딕셔너리의 키값만 출력하는 방법"
      ],
      "metadata": {
        "id": "FBqV0PHGIGEQ"
      }
    },
    {
      "cell_type": "code",
      "source": [
        "dict1.values()"
      ],
      "metadata": {
        "colab": {
          "base_uri": "https://localhost:8080/"
        },
        "id": "jtQyNtppeQ8L",
        "outputId": "1d832892-6402-4aa4-f91a-73e654d25ad3"
      },
      "execution_count": 21,
      "outputs": [
        {
          "output_type": "execute_result",
          "data": {
            "text/plain": [
              "dict_values([10, 2, 3])"
            ]
          },
          "metadata": {},
          "execution_count": 21
        }
      ]
    },
    {
      "cell_type": "markdown",
      "source": [
        "- 딕셔너리의 value만 출력하는 방법"
      ],
      "metadata": {
        "id": "-0z55l6zIIzP"
      }
    },
    {
      "cell_type": "code",
      "source": [
        "if 'e' in dict1.keys():\n",
        "  print(dict1['e'])"
      ],
      "metadata": {
        "id": "5mHtG8nneSQc"
      },
      "execution_count": 22,
      "outputs": []
    },
    {
      "cell_type": "markdown",
      "source": [
        "- get() 사용 하지 않고 오류 없이 키가 있는지 여부를 체크하는 방법"
      ],
      "metadata": {
        "id": "WCGf9BtgeqdL"
      }
    },
    {
      "cell_type": "code",
      "source": [
        "# txt 문자열 안에 있는 각 문자가 몇 개 있는지 딕셔너리로 출력하기\n",
        "txt = 'i am a boy. you are a girl.'"
      ],
      "metadata": {
        "id": "nUBeNS3cenRr"
      },
      "execution_count": 23,
      "outputs": []
    },
    {
      "cell_type": "code",
      "source": [
        "#ch_cnt = {}\n",
        "\n",
        "#for c in txt:\n",
        "#  ch_cnt[c] += 1  # 이렇게 하면 key가 없는 경우 에러 발생"
      ],
      "metadata": {
        "id": "4qhj0oek3sII"
      },
      "execution_count": 24,
      "outputs": []
    },
    {
      "cell_type": "markdown",
      "source": [
        "- c라는 키가 ch_cnt 딕셔너리에 존재하지 않으면, 파이썬은 ch_cnt[c] 값을 찾을 수 없기 때문에 KeyError가 발생"
      ],
      "metadata": {
        "id": "_Xm2OLvfJvlH"
      }
    },
    {
      "cell_type": "code",
      "source": [
        "# 방법1\n",
        "char_count = {}  # 딕셔너리를 만들기 위한 빈 세트 만들기\n",
        "\n",
        "for ch in txt:  # txt 문자열에서 하나씩 조회하기\n",
        "    if ch in char_count:  # char_count 세트에 ch가 있다면\n",
        "        char_count[ch] += 1  # 해당 ch 키에 해당하는 값을 1 증가시킴(update)\n",
        "    else:  # char_count 세트에 ch가 없다면\n",
        "        char_count[ch] = 1  # ch를 키로하고 값은 1로 insert\n",
        "\n",
        "print(char_count)"
      ],
      "metadata": {
        "colab": {
          "base_uri": "https://localhost:8080/"
        },
        "id": "3Y1Uwniifcaq",
        "outputId": "808fa054-5c8f-4254-80bf-2bb2762977f3"
      },
      "execution_count": 25,
      "outputs": [
        {
          "output_type": "stream",
          "name": "stdout",
          "text": [
            "{'i': 2, ' ': 7, 'a': 4, 'm': 1, 'b': 1, 'o': 2, 'y': 2, '.': 2, 'u': 1, 'r': 2, 'e': 1, 'g': 1, 'l': 1}\n"
          ]
        }
      ]
    },
    {
      "cell_type": "markdown",
      "source": [
        "- 딕셔너리는 없는 key에 접근하려고 할 때 오류가 발생함\n",
        "- 따라서 key가 있는 경우와 없는 경우를 if문으로 분리하여 접근할 필요가 있음"
      ],
      "metadata": {
        "id": "ekd4Qi8y4N7g"
      }
    },
    {
      "cell_type": "code",
      "source": [
        "# 방법2\n",
        "char_count = {}  # 딕셔너리를 만들기 위한 빈 세트 만들기\n",
        "\n",
        "for ch in txt:  # txt 문자열에서 하나씩 조회하기\n",
        "    if ch in char_count.keys():  # char_count 딕셔너리에 ch라는 key가 있다면\n",
        "        char_count[ch] += 1  # 해당 ch 키에 해당하는 값을 1 증가시킴(update)\n",
        "    else:  # char_count 딕셔너리에 ch라는 key가 없다면\n",
        "        char_count[ch] = 1  # ch를 키로하고 값은 1로 insert\n",
        "\n",
        "print(char_count)"
      ],
      "metadata": {
        "colab": {
          "base_uri": "https://localhost:8080/"
        },
        "id": "0xe_-P_hf7k6",
        "outputId": "47166be9-6d3a-4708-8987-a19aeea49851"
      },
      "execution_count": 26,
      "outputs": [
        {
          "output_type": "stream",
          "name": "stdout",
          "text": [
            "{'i': 2, ' ': 7, 'a': 4, 'm': 1, 'b': 1, 'o': 2, 'y': 2, '.': 2, 'u': 1, 'r': 2, 'e': 1, 'g': 1, 'l': 1}\n"
          ]
        }
      ]
    },
    {
      "cell_type": "code",
      "source": [
        "# 방법3(개선된 방법): get() 사용하기\n",
        "char_count = {}  # 딕셔너리를 만들기 위한 빈 세트 만들기\n",
        "\n",
        "for ch in txt:  # txt 문자열에서 하나씩 조회하기\n",
        "  char_count[ch] = char_count.get(ch, 0) + 1  # 기존 value 가져와서 +1 update (없으면 key의 value로 0을 insert)\n",
        "\n",
        "print(char_count)"
      ],
      "metadata": {
        "colab": {
          "base_uri": "https://localhost:8080/"
        },
        "id": "QkpAhMzGhKIJ",
        "outputId": "2c1e5203-c6f4-4c67-e18e-b50cc51a9fbb"
      },
      "execution_count": 27,
      "outputs": [
        {
          "output_type": "stream",
          "name": "stdout",
          "text": [
            "{'i': 2, ' ': 7, 'a': 4, 'm': 1, 'b': 1, 'o': 2, 'y': 2, '.': 2, 'u': 1, 'r': 2, 'e': 1, 'g': 1, 'l': 1}\n"
          ]
        }
      ]
    },
    {
      "cell_type": "markdown",
      "source": [
        "**문자열**"
      ],
      "metadata": {
        "id": "RAT96vvV6dvv"
      }
    },
    {
      "cell_type": "code",
      "source": [
        "ss = 'abc' + 'def'  # 문자열의 합은 concatenate\n",
        "print(ss)"
      ],
      "metadata": {
        "colab": {
          "base_uri": "https://localhost:8080/"
        },
        "id": "MjA--3ep6cYN",
        "outputId": "44113dc7-a69f-4f0c-bf89-67add1faf0de"
      },
      "execution_count": 28,
      "outputs": [
        {
          "output_type": "stream",
          "name": "stdout",
          "text": [
            "abcdef\n"
          ]
        }
      ]
    },
    {
      "cell_type": "code",
      "source": [
        "ss = 'abc' * 3\n",
        "print(ss)"
      ],
      "metadata": {
        "colab": {
          "base_uri": "https://localhost:8080/"
        },
        "id": "StQKjuwU6iZd",
        "outputId": "c89f3887-7dd2-4b0b-b07a-dd6125e62941"
      },
      "execution_count": 29,
      "outputs": [
        {
          "output_type": "stream",
          "name": "stdout",
          "text": [
            "abcabcabc\n"
          ]
        }
      ]
    },
    {
      "cell_type": "code",
      "source": [
        "len(ss)"
      ],
      "metadata": {
        "colab": {
          "base_uri": "https://localhost:8080/"
        },
        "id": "Aw16NiWu6qb9",
        "outputId": "6f9c147b-d1e8-4a55-c808-57c05cc3947c"
      },
      "execution_count": 30,
      "outputs": [
        {
          "output_type": "execute_result",
          "data": {
            "text/plain": [
              "9"
            ]
          },
          "metadata": {},
          "execution_count": 30
        }
      ]
    },
    {
      "cell_type": "code",
      "source": [
        "'abc' == 'abc'"
      ],
      "metadata": {
        "colab": {
          "base_uri": "https://localhost:8080/"
        },
        "id": "tZ2XaBEC617d",
        "outputId": "f48e8891-bbc4-4cf0-a52b-1135393c0068"
      },
      "execution_count": 31,
      "outputs": [
        {
          "output_type": "execute_result",
          "data": {
            "text/plain": [
              "True"
            ]
          },
          "metadata": {},
          "execution_count": 31
        }
      ]
    },
    {
      "cell_type": "code",
      "source": [
        "print(txt)\n",
        "print(txt.split())  # 문자열을 공백 기준으로 나눠 줌"
      ],
      "metadata": {
        "colab": {
          "base_uri": "https://localhost:8080/"
        },
        "id": "6DkKrlKU632d",
        "outputId": "812bebe6-3211-4406-93da-08dc6c854104"
      },
      "execution_count": 32,
      "outputs": [
        {
          "output_type": "stream",
          "name": "stdout",
          "text": [
            "i am a boy. you are a girl.\n",
            "['i', 'am', 'a', 'boy.', 'you', 'are', 'a', 'girl.']\n"
          ]
        }
      ]
    },
    {
      "cell_type": "markdown",
      "source": [
        "- 이 방식은 'boy.'과 같이 마침표(.)도 글자로 인식하기 때문에 다소 한계가 있음"
      ],
      "metadata": {
        "id": "uDFL5e128KAu"
      }
    },
    {
      "cell_type": "code",
      "source": [
        "print(txt.split('.'))  # 마침표를 기준으로 나누기"
      ],
      "metadata": {
        "colab": {
          "base_uri": "https://localhost:8080/"
        },
        "id": "k4ieCWdC8f5t",
        "outputId": "ab61cf87-6190-4034-a8e1-43f0b37e3117"
      },
      "execution_count": 33,
      "outputs": [
        {
          "output_type": "stream",
          "name": "stdout",
          "text": [
            "['i am a boy', ' you are a girl', '']\n"
          ]
        }
      ]
    },
    {
      "cell_type": "code",
      "source": [
        "txt.find('boy')  # 몇 번째 인덱스에 boy가 나오는지 출력"
      ],
      "metadata": {
        "colab": {
          "base_uri": "https://localhost:8080/"
        },
        "id": "8HERpoNiAF0e",
        "outputId": "070a8e02-f5f6-48ac-a66c-d01df6d05be0"
      },
      "execution_count": 34,
      "outputs": [
        {
          "output_type": "execute_result",
          "data": {
            "text/plain": [
              "7"
            ]
          },
          "metadata": {},
          "execution_count": 34
        }
      ]
    },
    {
      "cell_type": "code",
      "source": [
        "txt.find('a')  # 만약 찾으려는 값이 중복이라면 제일 첫 번째로 등장하는 인덱스를 출력"
      ],
      "metadata": {
        "colab": {
          "base_uri": "https://localhost:8080/"
        },
        "id": "5HLa0llpEOSj",
        "outputId": "675475c7-7b23-4da2-d51d-4bd57cda39bf"
      },
      "execution_count": 35,
      "outputs": [
        {
          "output_type": "execute_result",
          "data": {
            "text/plain": [
              "2"
            ]
          },
          "metadata": {},
          "execution_count": 35
        }
      ]
    },
    {
      "cell_type": "markdown",
      "source": [
        "- 찾는 문자가 여러 개일 경우 제일 먼저 나오는 인덱스 출력"
      ],
      "metadata": {
        "id": "b-c_ItbvEQps"
      }
    },
    {
      "cell_type": "code",
      "source": [
        "txt.replace('boy', 'Boy')"
      ],
      "metadata": {
        "colab": {
          "base_uri": "https://localhost:8080/",
          "height": 35
        },
        "id": "Sp6oBh0bEHh5",
        "outputId": "467b9493-74ce-4d1a-c9c2-dd749eb1de0f"
      },
      "execution_count": 36,
      "outputs": [
        {
          "output_type": "execute_result",
          "data": {
            "text/plain": [
              "'i am a Boy. you are a girl.'"
            ],
            "application/vnd.google.colaboratory.intrinsic+json": {
              "type": "string"
            }
          },
          "metadata": {},
          "execution_count": 36
        }
      ]
    },
    {
      "cell_type": "markdown",
      "source": [
        "- 문자열은 수정이 불가능함\n",
        "- replace는 기존 문자열을 바꾸는게 아니라 새로운 문자열을 출력한 거임\n",
        "- 이를 변수에 저장하지 않으면 새로운 문자열 출력은 사라지게 됨"
      ],
      "metadata": {
        "id": "u1UaekY5EdB5"
      }
    },
    {
      "cell_type": "code",
      "source": [
        "print(txt)"
      ],
      "metadata": {
        "colab": {
          "base_uri": "https://localhost:8080/"
        },
        "id": "5tERfN_MEbaJ",
        "outputId": "07db731c-8729-4821-c6c6-41b6c23ba8c7"
      },
      "execution_count": 37,
      "outputs": [
        {
          "output_type": "stream",
          "name": "stdout",
          "text": [
            "i am a boy. you are a girl.\n"
          ]
        }
      ]
    },
    {
      "cell_type": "code",
      "source": [
        "txt.upper()  # 대문자 변환"
      ],
      "metadata": {
        "colab": {
          "base_uri": "https://localhost:8080/",
          "height": 35
        },
        "id": "EfCMQHvJE0mc",
        "outputId": "713f572c-79cb-483a-cbb0-033caa2da668"
      },
      "execution_count": 38,
      "outputs": [
        {
          "output_type": "execute_result",
          "data": {
            "text/plain": [
              "'I AM A BOY. YOU ARE A GIRL.'"
            ],
            "application/vnd.google.colaboratory.intrinsic+json": {
              "type": "string"
            }
          },
          "metadata": {},
          "execution_count": 38
        }
      ]
    },
    {
      "cell_type": "markdown",
      "source": [
        "- 기존의 문자열을 수정하는 것이 아니라 새로운 문자열 출력한 것임"
      ],
      "metadata": {
        "id": "pkyZ9keFE6dB"
      }
    },
    {
      "cell_type": "code",
      "source": [
        "txt.lower()  # 소문자 변환"
      ],
      "metadata": {
        "colab": {
          "base_uri": "https://localhost:8080/",
          "height": 35
        },
        "id": "8WwVZadTE25o",
        "outputId": "1c11ca61-e082-4571-a026-ff6eed8d4b5e"
      },
      "execution_count": 39,
      "outputs": [
        {
          "output_type": "execute_result",
          "data": {
            "text/plain": [
              "'i am a boy. you are a girl.'"
            ],
            "application/vnd.google.colaboratory.intrinsic+json": {
              "type": "string"
            }
          },
          "metadata": {},
          "execution_count": 39
        }
      ]
    },
    {
      "cell_type": "code",
      "source": [
        "txt.startswith('i')  # 문자의 시작이 i로 시작하는지 여부"
      ],
      "metadata": {
        "colab": {
          "base_uri": "https://localhost:8080/"
        },
        "id": "9aUKQuteFCVM",
        "outputId": "f76fec26-72e8-4ceb-a979-b7e1b5f97aa2"
      },
      "execution_count": 40,
      "outputs": [
        {
          "output_type": "execute_result",
          "data": {
            "text/plain": [
              "True"
            ]
          },
          "metadata": {},
          "execution_count": 40
        }
      ]
    },
    {
      "cell_type": "code",
      "source": [
        "txt.endswith('i am')  # 문자의 끝이 i am으로 끝나는지 여부"
      ],
      "metadata": {
        "colab": {
          "base_uri": "https://localhost:8080/"
        },
        "id": "yx_bC-P1FOYI",
        "outputId": "b03a880a-4654-4c67-b128-f17ec66b0471"
      },
      "execution_count": 41,
      "outputs": [
        {
          "output_type": "execute_result",
          "data": {
            "text/plain": [
              "False"
            ]
          },
          "metadata": {},
          "execution_count": 41
        }
      ]
    },
    {
      "cell_type": "code",
      "source": [
        "# 멤버 리스트에서 '김'이 들어간 사람 찾기(개선)\n",
        "members = ['윤하원','손형민','오수성','박지원','조재홍',\n",
        "           '이재권','이상욱','강호현','정송희','서민지',\n",
        "           '이랑','백지윤','류효주','이재현','김종현',\n",
        "           '이대현','이효재','두소김','이득규','김재헌',\n",
        "           '김준영','김영경']\n",
        "\n",
        "for name in members:  # members 리스트의 요소를 순차적으로 조회\n",
        "  if name.startswith('김'):  # 요소에 '김'이 있으면 출력\n",
        "    print(name)"
      ],
      "metadata": {
        "colab": {
          "base_uri": "https://localhost:8080/"
        },
        "id": "NfiNYLClFMLI",
        "outputId": "e1dba6cc-4615-4871-e328-4dc4bf7cf74f"
      },
      "execution_count": 42,
      "outputs": [
        {
          "output_type": "stream",
          "name": "stdout",
          "text": [
            "김종현\n",
            "김재헌\n",
            "김준영\n",
            "김영경\n"
          ]
        }
      ]
    },
    {
      "cell_type": "markdown",
      "source": [
        "- 이 경우 '두소김'은 출력되지 않음"
      ],
      "metadata": {
        "id": "-eMOnmJhFznC"
      }
    },
    {
      "cell_type": "code",
      "source": [
        "# [문제] 사용자 지정 함수로 성씨 입력시 이름 모두 출력하기\n",
        "members = ['윤하원','손형민','오수성','박지원','조재홍',\n",
        "           '이재권','이상욱','강호현','정송희','서민지',\n",
        "           '이랑','백지윤','류효주','이재현','김종현',\n",
        "           '이대현','이효재','두소진','이득규','김재헌',\n",
        "           '김준영','김영경']\n",
        "\n",
        "def my_find_names(lst, wd):\n",
        "  ret = []  # 리턴할 리스트 초기화\n",
        "  ##### Edit here #####\n",
        "  for name in members:\n",
        "    if name.startswith(wd):  # name의 첫번째 단어가 wd면 ret 리스트에 append\n",
        "      ret.append(name)\n",
        "  #####################\n",
        "  return ret\n",
        "\n",
        "print(my_find_names(members, '김')) # ['김종현', '김재헌','김준영','김영경']\n",
        "print(my_find_names(members, '윤')) # ['윤하원']"
      ],
      "metadata": {
        "colab": {
          "base_uri": "https://localhost:8080/"
        },
        "id": "GjvqbHKmF3Ja",
        "outputId": "29053267-cd02-4119-c9db-b01ee2e66f07"
      },
      "execution_count": 43,
      "outputs": [
        {
          "output_type": "stream",
          "name": "stdout",
          "text": [
            "['김종현', '김재헌', '김준영', '김영경']\n",
            "['윤하원']\n"
          ]
        }
      ]
    },
    {
      "cell_type": "code",
      "source": [
        "# [문제] 사용자 지정 함수로 성씨 입력시 이름 모두 출력하기(이름의 두 번째 문자열은 '*' 표시)\n",
        "members = ['윤하원','손형민','오수성','박지원','조재홍',\n",
        "           '이재권','이상욱','강호현','정송희','서민지',\n",
        "           '이랑','백지윤','류효주','이재현','김종현',\n",
        "           '이대현','이효재','두소진','이득규','김재헌',\n",
        "           '김준영','김영경']\n",
        "\n",
        "def my_find_names(lst, wd):\n",
        "  ret = []\n",
        "  ##### Edit here #####\n",
        "  for name in members:\n",
        "    if name.startswith(wd):\n",
        "      name = name.replace(name[1],'*')  # ret.append(name.replace(name[1], '*')) 이렇게 한방에 작성해도 됨\n",
        "      ret.append(name)\n",
        "  #####################\n",
        "  return ret\n",
        "\n",
        "print(my_find_names(members, '김')) # ['김*현', '김*헌','김*영','김*경']\n",
        "print(my_find_names(members, '윤')) # ['윤*원']"
      ],
      "metadata": {
        "colab": {
          "base_uri": "https://localhost:8080/"
        },
        "id": "astdvqb1I1EY",
        "outputId": "d4e3d6d8-ab17-4828-8205-6bc84728cec6"
      },
      "execution_count": 44,
      "outputs": [
        {
          "output_type": "stream",
          "name": "stdout",
          "text": [
            "['김*현', '김*헌', '김*영', '김*경']\n",
            "['윤*원']\n"
          ]
        }
      ]
    },
    {
      "cell_type": "code",
      "source": [
        "lst1 = [1,2,3]\n",
        "lst2 = [1,2,3]\n",
        "lst1[0] = 10\n",
        "print(lst1)\n",
        "print(lst2)"
      ],
      "metadata": {
        "colab": {
          "base_uri": "https://localhost:8080/"
        },
        "id": "yK8pptuoLWLm",
        "outputId": "e3d6bc2c-ce72-41d1-fe77-fe351a72590d"
      },
      "execution_count": 45,
      "outputs": [
        {
          "output_type": "stream",
          "name": "stdout",
          "text": [
            "[10, 2, 3]\n",
            "[1, 2, 3]\n"
          ]
        }
      ]
    },
    {
      "cell_type": "code",
      "source": [
        "lst1 = [1,2,3]\n",
        "lst2 = lst1  # lst1을 lst2에 할당\n",
        "lst1[0] = 10\n",
        "print(lst1)\n",
        "print(lst2)  # lst1만 바꿔도 lst2에도 영향을 줌(지양해야함)"
      ],
      "metadata": {
        "colab": {
          "base_uri": "https://localhost:8080/"
        },
        "id": "ZYJMUT9CMGtV",
        "outputId": "b737f5b5-965f-4c7f-cb51-e548484a18a2"
      },
      "execution_count": 46,
      "outputs": [
        {
          "output_type": "stream",
          "name": "stdout",
          "text": [
            "[10, 2, 3]\n",
            "[10, 2, 3]\n"
          ]
        }
      ]
    },
    {
      "cell_type": "markdown",
      "source": [
        "- lst1을 lst2에 할당을 해버리면 lst2의 포인터(화살표)가 lst1 주소를 가리키게 됨\n",
        "- 따라서 lst1을 수정하면 lst2에도 영향을 주는 상황이 발생(지양해야 함)"
      ],
      "metadata": {
        "id": "uOsFqQ3gMpFm"
      }
    },
    {
      "cell_type": "code",
      "source": [
        "# 위의 문제 해결법(1): list() 형변환하여 새로운 리스트 만들어서 할당하기\n",
        "lst1 = [1,2,3]\n",
        "lst2 = list(lst1)  # lst2에 lst1의 새로운 리스트를 할당함\n",
        "lst1[0] = 10\n",
        "print(lst1)\n",
        "print(lst2)  # lst1을 바꿔도 영향 없음"
      ],
      "metadata": {
        "colab": {
          "base_uri": "https://localhost:8080/"
        },
        "id": "lSTj94x5MWqI",
        "outputId": "ee8053e6-b24e-4e9d-afd6-9388783a0e99"
      },
      "execution_count": 47,
      "outputs": [
        {
          "output_type": "stream",
          "name": "stdout",
          "text": [
            "[10, 2, 3]\n",
            "[1, 2, 3]\n"
          ]
        }
      ]
    },
    {
      "cell_type": "code",
      "source": [
        "# 위의 문제 해결법(2): copy()를 사용하여 원본 리스트를 복제 후 새로운 리스트로 할당하기\n",
        "lst1 = [1,2,3]\n",
        "lst2 = lst1.copy()  #lst1을 카피해서 lst2에 복사\n",
        "lst1[0] = 10\n",
        "print(lst1)\n",
        "print(lst2)  # lst1을 바꿔도 영향 없음"
      ],
      "metadata": {
        "colab": {
          "base_uri": "https://localhost:8080/"
        },
        "id": "rOWtUSEeNRUV",
        "outputId": "a4adb2b4-71ce-45fc-c848-0b91146a173a"
      },
      "execution_count": 48,
      "outputs": [
        {
          "output_type": "stream",
          "name": "stdout",
          "text": [
            "[10, 2, 3]\n",
            "[1, 2, 3]\n"
          ]
        }
      ]
    },
    {
      "cell_type": "code",
      "source": [
        "# [문제] 성씨를 key로 하고 그에 해당하는 이름 리스트를 Value로 하는 딕셔너리 만들기\n",
        "members = ['윤하원','손형민','오수성','박지원','조재홍',\n",
        "           '이재권','이상욱','강호현','정송희','서민지',\n",
        "           '이랑','백지윤','류효주','이재현','김종현',\n",
        "           '이대현','이효재','두소진','이득규','김재헌',\n",
        "           '김준영','김영경']\n",
        "\n",
        "name_dic = {}\n",
        "\n",
        "for name in members:\n",
        "  if name[0] in name_dic.keys():\n",
        "    name_dic[name[0]].append(name)\n",
        "  else:\n",
        "    name_dic[name[0]] = [name]  # Value의 형식을 리스트로 정했으면 할당도 리스트 형식으로 해야 함\n",
        "\n",
        "print(name_dic)"
      ],
      "metadata": {
        "colab": {
          "base_uri": "https://localhost:8080/"
        },
        "id": "KiF1Q_gkNpEZ",
        "outputId": "8c092df8-2976-4597-d0a9-a914be25b491"
      },
      "execution_count": 49,
      "outputs": [
        {
          "output_type": "stream",
          "name": "stdout",
          "text": [
            "{'윤': ['윤하원'], '손': ['손형민'], '오': ['오수성'], '박': ['박지원'], '조': ['조재홍'], '이': ['이재권', '이상욱', '이랑', '이재현', '이대현', '이효재', '이득규'], '강': ['강호현'], '정': ['정송희'], '서': ['서민지'], '백': ['백지윤'], '류': ['류효주'], '김': ['김종현', '김재헌', '김준영', '김영경'], '두': ['두소진']}\n"
          ]
        }
      ]
    },
    {
      "cell_type": "markdown",
      "source": [
        "- 내 풀이 방식"
      ],
      "metadata": {
        "id": "KKbLFeaiRy00"
      }
    },
    {
      "cell_type": "code",
      "source": [
        "# ???강사님 풀이방식\n",
        "members = ['윤하원','손형민','오수성','박지원','조재홍',\n",
        "           '이재권','이상욱','강호현','정송희','서민지',\n",
        "           '이랑','백지윤','류효주','이재현','김종현',\n",
        "           '이대현','이효재','두소진','이득규','김재헌',\n",
        "           '김준영','김영경']\n",
        "\n",
        "fn_names = {}\n",
        "\n",
        "for name in members:\n",
        "  fn_names[name[0]] = fn_names.get(name[0], []) + [name]  # 이때 list(name)이라고 쓰면 이상하게 출력됨\n",
        "print(fn_names)"
      ],
      "metadata": {
        "colab": {
          "base_uri": "https://localhost:8080/"
        },
        "id": "ZSmX7_v3Rw3C",
        "outputId": "9ee11340-06d4-4150-ea9e-56b255e02954"
      },
      "execution_count": 50,
      "outputs": [
        {
          "output_type": "stream",
          "name": "stdout",
          "text": [
            "{'윤': ['윤하원'], '손': ['손형민'], '오': ['오수성'], '박': ['박지원'], '조': ['조재홍'], '이': ['이재권', '이상욱', '이랑', '이재현', '이대현', '이효재', '이득규'], '강': ['강호현'], '정': ['정송희'], '서': ['서민지'], '백': ['백지윤'], '류': ['류효주'], '김': ['김종현', '김재헌', '김준영', '김영경'], '두': ['두소진']}\n"
          ]
        }
      ]
    },
    {
      "cell_type": "markdown",
      "source": [
        "- 강사님 풀이 방식: get() 사용\n",
        "- fn_names에 키가 없으면 빈 리스트([])를 key의 value로 insert\n",
        "- fn_names에 키가 있으면 [name]을 key의 value로 update\n",
        "- 여기서 '+ [name]'과 같이 리스트 형태로 +를 해야 기존의 리스트에 이어서 append가 됨(리스트 + 리스트는 append와 같음)\n",
        "- 주의: [name]이 아니라 list(name)이라고 하면 이름 문자열이 한 글자씩 쪼개어져 리스트로 출력됨\n",
        "  ex. 박지원 => ['박', '지', '원']"
      ],
      "metadata": {
        "id": "sYRvm4b3R4F7"
      }
    },
    {
      "cell_type": "code",
      "source": [
        "# 가장 성이 많은 사람들의 key(성)와 값(개수) 출력\n",
        "members = ['윤하원','손형민','오수성','박지원','조재홍',\n",
        "           '이재권','이상욱','강호현','정송희','서민지',\n",
        "           '이랑','백지윤','류효주','이재현','김종현',\n",
        "           '이대현','이효재','두소진','이득규','김재헌',\n",
        "           '김준영','김영경']\n",
        "\n",
        "fn_names = {}\n",
        "\n",
        "for name in members:\n",
        "  fn_names[name[0]] = list(fn_names.get(name[0], []) + [name])\n",
        "#==========\n",
        "max = 0\n",
        "max_name = ''  # 이름 받을 변수를 공백으로 초기화\n",
        "\n",
        "for key in fn_names:  # 딕셔너리를 for문에 돌리면 key가 출력됨(값이 아님!)\n",
        "  if max < len(fn_names[key]):  # fn_names 딕셔너리의 key에 해당하는 값(이름 리스트)의 길이가 max보다 크면,\n",
        "    max_name = key  # max_name을 현재 key로 업데이트\n",
        "    max = len(fn_names[key])  # max도 업데이트\n",
        "\n",
        "print(max_name, ':', max)"
      ],
      "metadata": {
        "colab": {
          "base_uri": "https://localhost:8080/"
        },
        "id": "n-ieZCz4UL4B",
        "outputId": "a8b47398-d343-40ae-9932-6f950ced039b"
      },
      "execution_count": 51,
      "outputs": [
        {
          "output_type": "stream",
          "name": "stdout",
          "text": [
            "이 : 7\n"
          ]
        }
      ]
    },
    {
      "cell_type": "code",
      "source": [
        "# 가장 성이 많은 사람들의 key(성)와 값(이름) 출력\n",
        "members = ['윤하원','손형민','오수성','박지원','조재홍',\n",
        "           '이재권','이상욱','강호현','정송희','서민지',\n",
        "           '이랑','백지윤','류효주','이재현','김종현',\n",
        "           '이대현','이효재','두소진','이득규','김재헌',\n",
        "           '김준영','김영경']\n",
        "\n",
        "fn_names = {}\n",
        "\n",
        "for name in members:\n",
        "  fn_names[name[0]] = list(fn_names.get(name[0], []) + [name])\n",
        "#==========\n",
        "max = 0\n",
        "max_name = ''\n",
        "\n",
        "for key in fn_names:\n",
        "  if max < len(fn_names[key]):\n",
        "    max = len(fn_names[key])\n",
        "    max_name = key\n",
        "\n",
        "print(max_name, \":\", fn_names[max_name])"
      ],
      "metadata": {
        "colab": {
          "base_uri": "https://localhost:8080/"
        },
        "id": "_t-TlTOnXXbg",
        "outputId": "c3dc1efd-3547-4767-b968-efb4b7a910f5"
      },
      "execution_count": 52,
      "outputs": [
        {
          "output_type": "stream",
          "name": "stdout",
          "text": [
            "이 : ['이재권', '이상욱', '이랑', '이재현', '이대현', '이효재', '이득규']\n"
          ]
        }
      ]
    },
    {
      "cell_type": "code",
      "source": [
        "# [문제] 워드 개수 세기(가장 많이 나오는 단어 랭킹 10위 출력)\n",
        "# 1. space 를 기준으로 word 를 구분하고\n",
        "# 2. 3글자 이하는 제외하고\n",
        "# 3. 가장 많이 나오는 단어 Top 10 를 returen 해주는 함수\n",
        "#    예시 : top_ten_word(msg)\n",
        "msg = '''\n",
        "I am happy to join with you today in what will go down in history as the greatest demonstration for freedom in the history of our nation.\n",
        "\n",
        "Five score years ago, a great American, in whose symbolic shadow we stand today, signed the Emancipation Proclamation. This momentous decree came as a great beacon light of hope to millions of Negro slaves who had been seared in the flames of withering injustice. It came as a joyous daybreak to end the long night of their captivity.\n",
        "\n",
        "But one hundred years later, the Negro still is not free. One hundred years later, the life of the Negro is still sadly crippled by the manacles of segregation and the chains of discrimination. One hundred years later, the Negro lives on a lonely island of poverty in the midst of a vast ocean of material prosperity. One hundred years later, the Negro is still languishing in the corners of American society and finds himself an exile in his own land. So we have come here today to dramatize a shameful condition.\n",
        "\n",
        "In a sense we have come to our nation's capital to cash a check. When the architects of our republic wrote the magnificent words of the Constitution and the Declaration of Independence, they were signing a promissory note to which every American was to fall heir. This note was a promise that all men, -yes, black men as well as white men,- would be guaranteed the unalienable rights of life, liberty, and the pursuit of happiness.\n",
        "\n",
        "It is obvious today that America has defaulted on this promissory note insofar as her citizens of color are concerned. Instead of honoring this sacred obligation, America has given the Negro people a bad check, a check which has come back marked \"insufficient funds.\" But we refuse to believe that the bank of justice is bankrupt. We refuse to believe that there are insufficient funds in the great vaults of opportunity of this nation. So we have come to cash this check — a check that will give us upon demand the riches of freedom and the security of justice.\n",
        "\n",
        "We have also come to this hallowed spot to remind America of the fierce urgency of now. This is no time to engage in the luxury of cooling off or to take the tranquilizing drug of gradualism. Now is the time to make real the promises of democracy. Now is the time to rise from the dark and desolate valley of segregation to the sunlit path of racial justice. Now is the time to lift our nation from the quick sands of racial injustice to the solid rock of brotherhood. Now is the time to make justice a reality for all of God's children.\n",
        "\n",
        "It would be fatal for the nation to overlook the urgency of the moment. This sweltering summer of the Negro's legitimate discontent will not pass until there is an invigorating autumn of freedom and equality. Nineteen sixty-three is not an end, but a beginning. Those who hope that the Negro needed to blow off steam and will now be content will have a rude awakening if the nation returns to business as usual. There will be neither rest nor tranquility in America until the Negro is granted his citizenship rights. The whirlwinds of revolt will continue to shake the foundations of our nation until the bright day of justice emerges.\n",
        "\n",
        "But there is something that I must say to my people who stand on the warm threshold which leads into the palace of justice. In the process of gaining our rightful place we must not be guilty of wrongful deeds. Let us not seek to satisfy our thirst for freedom by drinking from the cup of bitterness and hatred.\n",
        "\n",
        "We must forever conduct our struggle on the high plane of dignity and discipline. We must not allow our creative protest to degenerate into physical violence. Again and again we must rise to the majestic heights of meeting physical force with soul force. The marvelous new militancy which has engulfed the Negro community must not lead us to a distrust of all white people, for many of our white brothers, as evidenced by their presence here today, have come to realize that their destiny is tied up with our destiny. They have come to realize that their freedom is inextricably bound to our freedom. We cannot walk alone.\n",
        "\n",
        "As we walk, we must make the pledge that we shall always march ahead. We cannot turn back. There are those who are asking the devotees of civil rights, \"When will you be satisfied?\" We can never be satisfied as long as the Negro is the victim of the unspeakable horrors of police brutality. We can never be satisfied, as long as our bodies, heavy with the fatigue of travel, cannot gain lodging in the motels of the highways and the hotels of the cities. We cannot be satisfied as long as the Negro's basic mobility is from a smaller ghetto to a larger one. We can never be satisfied as long as our children are stripped of their selfhood and robbed of their dignity by signs stating \"For Whites Only\". We cannot be satisfied as long as a Negro in Mississippi cannot vote and a Negro in New York believes he has nothing for which to vote. No, no, we are not satisfied, and we will not be satisfied until justice rolls down like waters and righteousness like a mighty stream.\n",
        "\n",
        "I am not unmindful that some of you have come here out of great trials and tribulations. Some of you have come fresh from narrow jail cells. Some of you have come from areas where your quest for freedom left you battered by the storms of persecution and staggered by the winds of police brutality. You have been the veterans of creative suffering. Continue to work with the faith that unearned suffering is redemptive.\n",
        "\n",
        "Go back to Mississippi, go back to Alabama, go back to South Carolina, go back to Georgia, go back to Louisiana, go back to the slums and ghettos of our northern cities, knowing that somehow this situation can and will be changed. Let us not wallow in the valley of despair.\n",
        "\n",
        "I say to you today, my friends, so even though we face the difficulties of today and tomorrow, I still have a dream. It is a dream deeply rooted in the American dream.\n",
        "\n",
        "I have a dream that one day this nation will rise up and live out the true meaning of its creed: \"We hold these truths to be self-evident: that all men are created equal.\"\n",
        "\n",
        "I have a dream that one day on the red hills of Georgia the sons of former slaves and the sons of former slave owners will be able to sit down together at the table of brotherhood.\n",
        "\n",
        "I have a dream that one day even the state of Mississippi, a state sweltering with the heat of injustice, sweltering with the heat of oppression, will be transformed into an oasis of freedom and justice.\n",
        "\n",
        "I have a dream that my four little children will one day live in a nation where they will not be judged by the color of their skin, but by the content of their character.\n",
        "\n",
        "I have a dream today.\n",
        "\n",
        "I have a dream that one day, down in Alabama, with its vicious racists, with its governor having his lips dripping with the words of interposition and nullification; one day right there in Alabama, little black boys and black girls will be able to join hands with little white boys and white girls as sisters and brothers.\n",
        "\n",
        "I have a dream today.\n",
        "\n",
        "I have a dream that one day every valley shall be exalted, every hill and mountain shall be made low, the rough places will be made plain, and the crooked places will be made straight, and the glory of the Lord shall be revealed, and all flesh shall see it together.\n",
        "\n",
        "This is our hope. This is the faith that I go back to the South with. With this faith we will be able to hew out of the mountain of despair a stone of hope. With this faith we will be able to transform the jangling discords of our nation into a beautiful symphony of brotherhood. With this faith we will be able to work together, to pray together, to struggle together, to go to jail together, to stand up for freedom together, knowing that we will be free one day.\n",
        "\n",
        "This will be the day when all of God's children will be able to sing with a new meaning, \"My country, 'tis of thee, sweet land of liberty, of thee I sing. Land where my fathers died, land of the pilgrim's pride, from every mountainside, let freedom ring.\"\n",
        "\n",
        "And if America is to be a great nation this must become true.\n",
        "\n",
        "So let freedom ring from the prodigious hilltops of New Hampshire.\n",
        "\n",
        "Let freedom ring from the mighty mountains of New York. Let freedom ring from the heightening Alleghenies of Pennsylvania!\n",
        "\n",
        "Let freedom ring from the snowcapped Rockies of Colorado!\n",
        "\n",
        "Let freedom ring from the curvaceous slopes of California!\n",
        "\n",
        "But not only that; let freedom ring from Stone Mountain of Georgia!\n",
        "\n",
        "Let freedom ring from Lookout Mountain of Tennessee!\n",
        "\n",
        "Let freedom ring from every hill and molehill of Mississippi.\n",
        "\n",
        "From every mountainside, let freedom ring.\n",
        "\n",
        "And when this happens, when we allow freedom to ring, when we let it ring from every village and every hamlet, from every state and every city, we will be able to speed up that day when all of God's children, black men and white men, Jews and Gentiles, Protestants and Catholics, will be able to join hands and sing in the words of the old Negro spiritual,\n",
        "\n",
        "\"Free at last! Free at last! Thank God Almighty, we are free at last!\"\n",
        "'''\n",
        "print(msg)"
      ],
      "metadata": {
        "colab": {
          "base_uri": "https://localhost:8080/"
        },
        "id": "IShLkRpvXqgx",
        "outputId": "3be12fbb-db89-45ad-c7a1-a4cc9f20f09b"
      },
      "execution_count": 53,
      "outputs": [
        {
          "output_type": "stream",
          "name": "stdout",
          "text": [
            "\n",
            "I am happy to join with you today in what will go down in history as the greatest demonstration for freedom in the history of our nation.\n",
            "\n",
            "Five score years ago, a great American, in whose symbolic shadow we stand today, signed the Emancipation Proclamation. This momentous decree came as a great beacon light of hope to millions of Negro slaves who had been seared in the flames of withering injustice. It came as a joyous daybreak to end the long night of their captivity.\n",
            "\n",
            "But one hundred years later, the Negro still is not free. One hundred years later, the life of the Negro is still sadly crippled by the manacles of segregation and the chains of discrimination. One hundred years later, the Negro lives on a lonely island of poverty in the midst of a vast ocean of material prosperity. One hundred years later, the Negro is still languishing in the corners of American society and finds himself an exile in his own land. So we have come here today to dramatize a shameful condition.\n",
            "\n",
            "In a sense we have come to our nation's capital to cash a check. When the architects of our republic wrote the magnificent words of the Constitution and the Declaration of Independence, they were signing a promissory note to which every American was to fall heir. This note was a promise that all men, -yes, black men as well as white men,- would be guaranteed the unalienable rights of life, liberty, and the pursuit of happiness.\n",
            "\n",
            "It is obvious today that America has defaulted on this promissory note insofar as her citizens of color are concerned. Instead of honoring this sacred obligation, America has given the Negro people a bad check, a check which has come back marked \"insufficient funds.\" But we refuse to believe that the bank of justice is bankrupt. We refuse to believe that there are insufficient funds in the great vaults of opportunity of this nation. So we have come to cash this check — a check that will give us upon demand the riches of freedom and the security of justice.\n",
            "\n",
            "We have also come to this hallowed spot to remind America of the fierce urgency of now. This is no time to engage in the luxury of cooling off or to take the tranquilizing drug of gradualism. Now is the time to make real the promises of democracy. Now is the time to rise from the dark and desolate valley of segregation to the sunlit path of racial justice. Now is the time to lift our nation from the quick sands of racial injustice to the solid rock of brotherhood. Now is the time to make justice a reality for all of God's children.\n",
            "\n",
            "It would be fatal for the nation to overlook the urgency of the moment. This sweltering summer of the Negro's legitimate discontent will not pass until there is an invigorating autumn of freedom and equality. Nineteen sixty-three is not an end, but a beginning. Those who hope that the Negro needed to blow off steam and will now be content will have a rude awakening if the nation returns to business as usual. There will be neither rest nor tranquility in America until the Negro is granted his citizenship rights. The whirlwinds of revolt will continue to shake the foundations of our nation until the bright day of justice emerges.\n",
            "\n",
            "But there is something that I must say to my people who stand on the warm threshold which leads into the palace of justice. In the process of gaining our rightful place we must not be guilty of wrongful deeds. Let us not seek to satisfy our thirst for freedom by drinking from the cup of bitterness and hatred.\n",
            "\n",
            "We must forever conduct our struggle on the high plane of dignity and discipline. We must not allow our creative protest to degenerate into physical violence. Again and again we must rise to the majestic heights of meeting physical force with soul force. The marvelous new militancy which has engulfed the Negro community must not lead us to a distrust of all white people, for many of our white brothers, as evidenced by their presence here today, have come to realize that their destiny is tied up with our destiny. They have come to realize that their freedom is inextricably bound to our freedom. We cannot walk alone.\n",
            "\n",
            "As we walk, we must make the pledge that we shall always march ahead. We cannot turn back. There are those who are asking the devotees of civil rights, \"When will you be satisfied?\" We can never be satisfied as long as the Negro is the victim of the unspeakable horrors of police brutality. We can never be satisfied, as long as our bodies, heavy with the fatigue of travel, cannot gain lodging in the motels of the highways and the hotels of the cities. We cannot be satisfied as long as the Negro's basic mobility is from a smaller ghetto to a larger one. We can never be satisfied as long as our children are stripped of their selfhood and robbed of their dignity by signs stating \"For Whites Only\". We cannot be satisfied as long as a Negro in Mississippi cannot vote and a Negro in New York believes he has nothing for which to vote. No, no, we are not satisfied, and we will not be satisfied until justice rolls down like waters and righteousness like a mighty stream.\n",
            "\n",
            "I am not unmindful that some of you have come here out of great trials and tribulations. Some of you have come fresh from narrow jail cells. Some of you have come from areas where your quest for freedom left you battered by the storms of persecution and staggered by the winds of police brutality. You have been the veterans of creative suffering. Continue to work with the faith that unearned suffering is redemptive.\n",
            "\n",
            "Go back to Mississippi, go back to Alabama, go back to South Carolina, go back to Georgia, go back to Louisiana, go back to the slums and ghettos of our northern cities, knowing that somehow this situation can and will be changed. Let us not wallow in the valley of despair.\n",
            "\n",
            "I say to you today, my friends, so even though we face the difficulties of today and tomorrow, I still have a dream. It is a dream deeply rooted in the American dream.\n",
            "\n",
            "I have a dream that one day this nation will rise up and live out the true meaning of its creed: \"We hold these truths to be self-evident: that all men are created equal.\"\n",
            "\n",
            "I have a dream that one day on the red hills of Georgia the sons of former slaves and the sons of former slave owners will be able to sit down together at the table of brotherhood.\n",
            "\n",
            "I have a dream that one day even the state of Mississippi, a state sweltering with the heat of injustice, sweltering with the heat of oppression, will be transformed into an oasis of freedom and justice.\n",
            "\n",
            "I have a dream that my four little children will one day live in a nation where they will not be judged by the color of their skin, but by the content of their character.\n",
            "\n",
            "I have a dream today.\n",
            "\n",
            "I have a dream that one day, down in Alabama, with its vicious racists, with its governor having his lips dripping with the words of interposition and nullification; one day right there in Alabama, little black boys and black girls will be able to join hands with little white boys and white girls as sisters and brothers.\n",
            "\n",
            "I have a dream today.\n",
            "\n",
            "I have a dream that one day every valley shall be exalted, every hill and mountain shall be made low, the rough places will be made plain, and the crooked places will be made straight, and the glory of the Lord shall be revealed, and all flesh shall see it together.\n",
            "\n",
            "This is our hope. This is the faith that I go back to the South with. With this faith we will be able to hew out of the mountain of despair a stone of hope. With this faith we will be able to transform the jangling discords of our nation into a beautiful symphony of brotherhood. With this faith we will be able to work together, to pray together, to struggle together, to go to jail together, to stand up for freedom together, knowing that we will be free one day.\n",
            "\n",
            "This will be the day when all of God's children will be able to sing with a new meaning, \"My country, 'tis of thee, sweet land of liberty, of thee I sing. Land where my fathers died, land of the pilgrim's pride, from every mountainside, let freedom ring.\"\n",
            "\n",
            "And if America is to be a great nation this must become true.\n",
            "\n",
            "So let freedom ring from the prodigious hilltops of New Hampshire.\n",
            "\n",
            "Let freedom ring from the mighty mountains of New York. Let freedom ring from the heightening Alleghenies of Pennsylvania!\n",
            "\n",
            "Let freedom ring from the snowcapped Rockies of Colorado!\n",
            "\n",
            "Let freedom ring from the curvaceous slopes of California!\n",
            "\n",
            "But not only that; let freedom ring from Stone Mountain of Georgia!\n",
            "\n",
            "Let freedom ring from Lookout Mountain of Tennessee!\n",
            "\n",
            "Let freedom ring from every hill and molehill of Mississippi.\n",
            "\n",
            "From every mountainside, let freedom ring.\n",
            "\n",
            "And when this happens, when we allow freedom to ring, when we let it ring from every village and every hamlet, from every state and every city, we will be able to speed up that day when all of God's children, black men and white men, Jews and Gentiles, Protestants and Catholics, will be able to join hands and sing in the words of the old Negro spiritual,\n",
            "\n",
            "\"Free at last! Free at last! Thank God Almighty, we are free at last!\"\n",
            "\n"
          ]
        }
      ]
    },
    {
      "cell_type": "markdown",
      "source": [
        "내 풀이(1)"
      ],
      "metadata": {
        "id": "2Fz5D8oPxhS_"
      }
    },
    {
      "cell_type": "code",
      "source": [
        "# 단어를 공백 기준으로 리스트에 집어넣기\n",
        "msg = msg.lower()  # 모두 소문자로 바꾸기\n",
        "msg = msg.replace('\\n', ' ')  # 엔터를 공백으로 처리하기\n",
        "msg_wd1 = msg.split()  # 공백을 기준으로 나누기\n",
        "print(msg_wd1)"
      ],
      "metadata": {
        "colab": {
          "base_uri": "https://localhost:8080/"
        },
        "id": "TCcG_9l8X5mS",
        "outputId": "47ccda8d-1ab1-4dab-f550-d0bea98e4cba"
      },
      "execution_count": 54,
      "outputs": [
        {
          "output_type": "stream",
          "name": "stdout",
          "text": [
            "['i', 'am', 'happy', 'to', 'join', 'with', 'you', 'today', 'in', 'what', 'will', 'go', 'down', 'in', 'history', 'as', 'the', 'greatest', 'demonstration', 'for', 'freedom', 'in', 'the', 'history', 'of', 'our', 'nation.', 'five', 'score', 'years', 'ago,', 'a', 'great', 'american,', 'in', 'whose', 'symbolic', 'shadow', 'we', 'stand', 'today,', 'signed', 'the', 'emancipation', 'proclamation.', 'this', 'momentous', 'decree', 'came', 'as', 'a', 'great', 'beacon', 'light', 'of', 'hope', 'to', 'millions', 'of', 'negro', 'slaves', 'who', 'had', 'been', 'seared', 'in', 'the', 'flames', 'of', 'withering', 'injustice.', 'it', 'came', 'as', 'a', 'joyous', 'daybreak', 'to', 'end', 'the', 'long', 'night', 'of', 'their', 'captivity.', 'but', 'one', 'hundred', 'years', 'later,', 'the', 'negro', 'still', 'is', 'not', 'free.', 'one', 'hundred', 'years', 'later,', 'the', 'life', 'of', 'the', 'negro', 'is', 'still', 'sadly', 'crippled', 'by', 'the', 'manacles', 'of', 'segregation', 'and', 'the', 'chains', 'of', 'discrimination.', 'one', 'hundred', 'years', 'later,', 'the', 'negro', 'lives', 'on', 'a', 'lonely', 'island', 'of', 'poverty', 'in', 'the', 'midst', 'of', 'a', 'vast', 'ocean', 'of', 'material', 'prosperity.', 'one', 'hundred', 'years', 'later,', 'the', 'negro', 'is', 'still', 'languishing', 'in', 'the', 'corners', 'of', 'american', 'society', 'and', 'finds', 'himself', 'an', 'exile', 'in', 'his', 'own', 'land.', 'so', 'we', 'have', 'come', 'here', 'today', 'to', 'dramatize', 'a', 'shameful', 'condition.', 'in', 'a', 'sense', 'we', 'have', 'come', 'to', 'our', \"nation's\", 'capital', 'to', 'cash', 'a', 'check.', 'when', 'the', 'architects', 'of', 'our', 'republic', 'wrote', 'the', 'magnificent', 'words', 'of', 'the', 'constitution', 'and', 'the', 'declaration', 'of', 'independence,', 'they', 'were', 'signing', 'a', 'promissory', 'note', 'to', 'which', 'every', 'american', 'was', 'to', 'fall', 'heir.', 'this', 'note', 'was', 'a', 'promise', 'that', 'all', 'men,', '-yes,', 'black', 'men', 'as', 'well', 'as', 'white', 'men,-', 'would', 'be', 'guaranteed', 'the', 'unalienable', 'rights', 'of', 'life,', 'liberty,', 'and', 'the', 'pursuit', 'of', 'happiness.', 'it', 'is', 'obvious', 'today', 'that', 'america', 'has', 'defaulted', 'on', 'this', 'promissory', 'note', 'insofar', 'as', 'her', 'citizens', 'of', 'color', 'are', 'concerned.', 'instead', 'of', 'honoring', 'this', 'sacred', 'obligation,', 'america', 'has', 'given', 'the', 'negro', 'people', 'a', 'bad', 'check,', 'a', 'check', 'which', 'has', 'come', 'back', 'marked', '\"insufficient', 'funds.\"', 'but', 'we', 'refuse', 'to', 'believe', 'that', 'the', 'bank', 'of', 'justice', 'is', 'bankrupt.', 'we', 'refuse', 'to', 'believe', 'that', 'there', 'are', 'insufficient', 'funds', 'in', 'the', 'great', 'vaults', 'of', 'opportunity', 'of', 'this', 'nation.', 'so', 'we', 'have', 'come', 'to', 'cash', 'this', 'check', '—', 'a', 'check', 'that', 'will', 'give', 'us', 'upon', 'demand', 'the', 'riches', 'of', 'freedom', 'and', 'the', 'security', 'of', 'justice.', 'we', 'have', 'also', 'come', 'to', 'this', 'hallowed', 'spot', 'to', 'remind', 'america', 'of', 'the', 'fierce', 'urgency', 'of', 'now.', 'this', 'is', 'no', 'time', 'to', 'engage', 'in', 'the', 'luxury', 'of', 'cooling', 'off', 'or', 'to', 'take', 'the', 'tranquilizing', 'drug', 'of', 'gradualism.', 'now', 'is', 'the', 'time', 'to', 'make', 'real', 'the', 'promises', 'of', 'democracy.', 'now', 'is', 'the', 'time', 'to', 'rise', 'from', 'the', 'dark', 'and', 'desolate', 'valley', 'of', 'segregation', 'to', 'the', 'sunlit', 'path', 'of', 'racial', 'justice.', 'now', 'is', 'the', 'time', 'to', 'lift', 'our', 'nation', 'from', 'the', 'quick', 'sands', 'of', 'racial', 'injustice', 'to', 'the', 'solid', 'rock', 'of', 'brotherhood.', 'now', 'is', 'the', 'time', 'to', 'make', 'justice', 'a', 'reality', 'for', 'all', 'of', \"god's\", 'children.', 'it', 'would', 'be', 'fatal', 'for', 'the', 'nation', 'to', 'overlook', 'the', 'urgency', 'of', 'the', 'moment.', 'this', 'sweltering', 'summer', 'of', 'the', \"negro's\", 'legitimate', 'discontent', 'will', 'not', 'pass', 'until', 'there', 'is', 'an', 'invigorating', 'autumn', 'of', 'freedom', 'and', 'equality.', 'nineteen', 'sixty-three', 'is', 'not', 'an', 'end,', 'but', 'a', 'beginning.', 'those', 'who', 'hope', 'that', 'the', 'negro', 'needed', 'to', 'blow', 'off', 'steam', 'and', 'will', 'now', 'be', 'content', 'will', 'have', 'a', 'rude', 'awakening', 'if', 'the', 'nation', 'returns', 'to', 'business', 'as', 'usual.', 'there', 'will', 'be', 'neither', 'rest', 'nor', 'tranquility', 'in', 'america', 'until', 'the', 'negro', 'is', 'granted', 'his', 'citizenship', 'rights.', 'the', 'whirlwinds', 'of', 'revolt', 'will', 'continue', 'to', 'shake', 'the', 'foundations', 'of', 'our', 'nation', 'until', 'the', 'bright', 'day', 'of', 'justice', 'emerges.', 'but', 'there', 'is', 'something', 'that', 'i', 'must', 'say', 'to', 'my', 'people', 'who', 'stand', 'on', 'the', 'warm', 'threshold', 'which', 'leads', 'into', 'the', 'palace', 'of', 'justice.', 'in', 'the', 'process', 'of', 'gaining', 'our', 'rightful', 'place', 'we', 'must', 'not', 'be', 'guilty', 'of', 'wrongful', 'deeds.', 'let', 'us', 'not', 'seek', 'to', 'satisfy', 'our', 'thirst', 'for', 'freedom', 'by', 'drinking', 'from', 'the', 'cup', 'of', 'bitterness', 'and', 'hatred.', 'we', 'must', 'forever', 'conduct', 'our', 'struggle', 'on', 'the', 'high', 'plane', 'of', 'dignity', 'and', 'discipline.', 'we', 'must', 'not', 'allow', 'our', 'creative', 'protest', 'to', 'degenerate', 'into', 'physical', 'violence.', 'again', 'and', 'again', 'we', 'must', 'rise', 'to', 'the', 'majestic', 'heights', 'of', 'meeting', 'physical', 'force', 'with', 'soul', 'force.', 'the', 'marvelous', 'new', 'militancy', 'which', 'has', 'engulfed', 'the', 'negro', 'community', 'must', 'not', 'lead', 'us', 'to', 'a', 'distrust', 'of', 'all', 'white', 'people,', 'for', 'many', 'of', 'our', 'white', 'brothers,', 'as', 'evidenced', 'by', 'their', 'presence', 'here', 'today,', 'have', 'come', 'to', 'realize', 'that', 'their', 'destiny', 'is', 'tied', 'up', 'with', 'our', 'destiny.', 'they', 'have', 'come', 'to', 'realize', 'that', 'their', 'freedom', 'is', 'inextricably', 'bound', 'to', 'our', 'freedom.', 'we', 'cannot', 'walk', 'alone.', 'as', 'we', 'walk,', 'we', 'must', 'make', 'the', 'pledge', 'that', 'we', 'shall', 'always', 'march', 'ahead.', 'we', 'cannot', 'turn', 'back.', 'there', 'are', 'those', 'who', 'are', 'asking', 'the', 'devotees', 'of', 'civil', 'rights,', '\"when', 'will', 'you', 'be', 'satisfied?\"', 'we', 'can', 'never', 'be', 'satisfied', 'as', 'long', 'as', 'the', 'negro', 'is', 'the', 'victim', 'of', 'the', 'unspeakable', 'horrors', 'of', 'police', 'brutality.', 'we', 'can', 'never', 'be', 'satisfied,', 'as', 'long', 'as', 'our', 'bodies,', 'heavy', 'with', 'the', 'fatigue', 'of', 'travel,', 'cannot', 'gain', 'lodging', 'in', 'the', 'motels', 'of', 'the', 'highways', 'and', 'the', 'hotels', 'of', 'the', 'cities.', 'we', 'cannot', 'be', 'satisfied', 'as', 'long', 'as', 'the', \"negro's\", 'basic', 'mobility', 'is', 'from', 'a', 'smaller', 'ghetto', 'to', 'a', 'larger', 'one.', 'we', 'can', 'never', 'be', 'satisfied', 'as', 'long', 'as', 'our', 'children', 'are', 'stripped', 'of', 'their', 'selfhood', 'and', 'robbed', 'of', 'their', 'dignity', 'by', 'signs', 'stating', '\"for', 'whites', 'only\".', 'we', 'cannot', 'be', 'satisfied', 'as', 'long', 'as', 'a', 'negro', 'in', 'mississippi', 'cannot', 'vote', 'and', 'a', 'negro', 'in', 'new', 'york', 'believes', 'he', 'has', 'nothing', 'for', 'which', 'to', 'vote.', 'no,', 'no,', 'we', 'are', 'not', 'satisfied,', 'and', 'we', 'will', 'not', 'be', 'satisfied', 'until', 'justice', 'rolls', 'down', 'like', 'waters', 'and', 'righteousness', 'like', 'a', 'mighty', 'stream.', 'i', 'am', 'not', 'unmindful', 'that', 'some', 'of', 'you', 'have', 'come', 'here', 'out', 'of', 'great', 'trials', 'and', 'tribulations.', 'some', 'of', 'you', 'have', 'come', 'fresh', 'from', 'narrow', 'jail', 'cells.', 'some', 'of', 'you', 'have', 'come', 'from', 'areas', 'where', 'your', 'quest', 'for', 'freedom', 'left', 'you', 'battered', 'by', 'the', 'storms', 'of', 'persecution', 'and', 'staggered', 'by', 'the', 'winds', 'of', 'police', 'brutality.', 'you', 'have', 'been', 'the', 'veterans', 'of', 'creative', 'suffering.', 'continue', 'to', 'work', 'with', 'the', 'faith', 'that', 'unearned', 'suffering', 'is', 'redemptive.', 'go', 'back', 'to', 'mississippi,', 'go', 'back', 'to', 'alabama,', 'go', 'back', 'to', 'south', 'carolina,', 'go', 'back', 'to', 'georgia,', 'go', 'back', 'to', 'louisiana,', 'go', 'back', 'to', 'the', 'slums', 'and', 'ghettos', 'of', 'our', 'northern', 'cities,', 'knowing', 'that', 'somehow', 'this', 'situation', 'can', 'and', 'will', 'be', 'changed.', 'let', 'us', 'not', 'wallow', 'in', 'the', 'valley', 'of', 'despair.', 'i', 'say', 'to', 'you', 'today,', 'my', 'friends,', 'so', 'even', 'though', 'we', 'face', 'the', 'difficulties', 'of', 'today', 'and', 'tomorrow,', 'i', 'still', 'have', 'a', 'dream.', 'it', 'is', 'a', 'dream', 'deeply', 'rooted', 'in', 'the', 'american', 'dream.', 'i', 'have', 'a', 'dream', 'that', 'one', 'day', 'this', 'nation', 'will', 'rise', 'up', 'and', 'live', 'out', 'the', 'true', 'meaning', 'of', 'its', 'creed:', '\"we', 'hold', 'these', 'truths', 'to', 'be', 'self-evident:', 'that', 'all', 'men', 'are', 'created', 'equal.\"', 'i', 'have', 'a', 'dream', 'that', 'one', 'day', 'on', 'the', 'red', 'hills', 'of', 'georgia', 'the', 'sons', 'of', 'former', 'slaves', 'and', 'the', 'sons', 'of', 'former', 'slave', 'owners', 'will', 'be', 'able', 'to', 'sit', 'down', 'together', 'at', 'the', 'table', 'of', 'brotherhood.', 'i', 'have', 'a', 'dream', 'that', 'one', 'day', 'even', 'the', 'state', 'of', 'mississippi,', 'a', 'state', 'sweltering', 'with', 'the', 'heat', 'of', 'injustice,', 'sweltering', 'with', 'the', 'heat', 'of', 'oppression,', 'will', 'be', 'transformed', 'into', 'an', 'oasis', 'of', 'freedom', 'and', 'justice.', 'i', 'have', 'a', 'dream', 'that', 'my', 'four', 'little', 'children', 'will', 'one', 'day', 'live', 'in', 'a', 'nation', 'where', 'they', 'will', 'not', 'be', 'judged', 'by', 'the', 'color', 'of', 'their', 'skin,', 'but', 'by', 'the', 'content', 'of', 'their', 'character.', 'i', 'have', 'a', 'dream', 'today.', 'i', 'have', 'a', 'dream', 'that', 'one', 'day,', 'down', 'in', 'alabama,', 'with', 'its', 'vicious', 'racists,', 'with', 'its', 'governor', 'having', 'his', 'lips', 'dripping', 'with', 'the', 'words', 'of', 'interposition', 'and', 'nullification;', 'one', 'day', 'right', 'there', 'in', 'alabama,', 'little', 'black', 'boys', 'and', 'black', 'girls', 'will', 'be', 'able', 'to', 'join', 'hands', 'with', 'little', 'white', 'boys', 'and', 'white', 'girls', 'as', 'sisters', 'and', 'brothers.', 'i', 'have', 'a', 'dream', 'today.', 'i', 'have', 'a', 'dream', 'that', 'one', 'day', 'every', 'valley', 'shall', 'be', 'exalted,', 'every', 'hill', 'and', 'mountain', 'shall', 'be', 'made', 'low,', 'the', 'rough', 'places', 'will', 'be', 'made', 'plain,', 'and', 'the', 'crooked', 'places', 'will', 'be', 'made', 'straight,', 'and', 'the', 'glory', 'of', 'the', 'lord', 'shall', 'be', 'revealed,', 'and', 'all', 'flesh', 'shall', 'see', 'it', 'together.', 'this', 'is', 'our', 'hope.', 'this', 'is', 'the', 'faith', 'that', 'i', 'go', 'back', 'to', 'the', 'south', 'with.', 'with', 'this', 'faith', 'we', 'will', 'be', 'able', 'to', 'hew', 'out', 'of', 'the', 'mountain', 'of', 'despair', 'a', 'stone', 'of', 'hope.', 'with', 'this', 'faith', 'we', 'will', 'be', 'able', 'to', 'transform', 'the', 'jangling', 'discords', 'of', 'our', 'nation', 'into', 'a', 'beautiful', 'symphony', 'of', 'brotherhood.', 'with', 'this', 'faith', 'we', 'will', 'be', 'able', 'to', 'work', 'together,', 'to', 'pray', 'together,', 'to', 'struggle', 'together,', 'to', 'go', 'to', 'jail', 'together,', 'to', 'stand', 'up', 'for', 'freedom', 'together,', 'knowing', 'that', 'we', 'will', 'be', 'free', 'one', 'day.', 'this', 'will', 'be', 'the', 'day', 'when', 'all', 'of', \"god's\", 'children', 'will', 'be', 'able', 'to', 'sing', 'with', 'a', 'new', 'meaning,', '\"my', 'country,', \"'tis\", 'of', 'thee,', 'sweet', 'land', 'of', 'liberty,', 'of', 'thee', 'i', 'sing.', 'land', 'where', 'my', 'fathers', 'died,', 'land', 'of', 'the', \"pilgrim's\", 'pride,', 'from', 'every', 'mountainside,', 'let', 'freedom', 'ring.\"', 'and', 'if', 'america', 'is', 'to', 'be', 'a', 'great', 'nation', 'this', 'must', 'become', 'true.', 'so', 'let', 'freedom', 'ring', 'from', 'the', 'prodigious', 'hilltops', 'of', 'new', 'hampshire.', 'let', 'freedom', 'ring', 'from', 'the', 'mighty', 'mountains', 'of', 'new', 'york.', 'let', 'freedom', 'ring', 'from', 'the', 'heightening', 'alleghenies', 'of', 'pennsylvania!', 'let', 'freedom', 'ring', 'from', 'the', 'snowcapped', 'rockies', 'of', 'colorado!', 'let', 'freedom', 'ring', 'from', 'the', 'curvaceous', 'slopes', 'of', 'california!', 'but', 'not', 'only', 'that;', 'let', 'freedom', 'ring', 'from', 'stone', 'mountain', 'of', 'georgia!', 'let', 'freedom', 'ring', 'from', 'lookout', 'mountain', 'of', 'tennessee!', 'let', 'freedom', 'ring', 'from', 'every', 'hill', 'and', 'molehill', 'of', 'mississippi.', 'from', 'every', 'mountainside,', 'let', 'freedom', 'ring.', 'and', 'when', 'this', 'happens,', 'when', 'we', 'allow', 'freedom', 'to', 'ring,', 'when', 'we', 'let', 'it', 'ring', 'from', 'every', 'village', 'and', 'every', 'hamlet,', 'from', 'every', 'state', 'and', 'every', 'city,', 'we', 'will', 'be', 'able', 'to', 'speed', 'up', 'that', 'day', 'when', 'all', 'of', \"god's\", 'children,', 'black', 'men', 'and', 'white', 'men,', 'jews', 'and', 'gentiles,', 'protestants', 'and', 'catholics,', 'will', 'be', 'able', 'to', 'join', 'hands', 'and', 'sing', 'in', 'the', 'words', 'of', 'the', 'old', 'negro', 'spiritual,', '\"free', 'at', 'last!', 'free', 'at', 'last!', 'thank', 'god', 'almighty,', 'we', 'are', 'free', 'at', 'last!\"']\n"
          ]
        }
      ]
    },
    {
      "cell_type": "code",
      "source": [
        "# 3글자 이하인 단어 제외\n",
        "msg_wd2 = []\n",
        "\n",
        "for wd in msg_wd1:\n",
        "  if len(wd) > 3:  # 단어의 길이가 3초과일 경우\n",
        "    msg_wd2.append(wd)  # msg_wd2 리스트에 단어를 append\n",
        "\n",
        "print(msg_wd2)"
      ],
      "metadata": {
        "colab": {
          "base_uri": "https://localhost:8080/"
        },
        "id": "L3VLV24OYrpP",
        "outputId": "1f024c9c-d5a7-428c-9169-6bdbf28b84eb"
      },
      "execution_count": 55,
      "outputs": [
        {
          "output_type": "stream",
          "name": "stdout",
          "text": [
            "['happy', 'join', 'with', 'today', 'what', 'will', 'down', 'history', 'greatest', 'demonstration', 'freedom', 'history', 'nation.', 'five', 'score', 'years', 'ago,', 'great', 'american,', 'whose', 'symbolic', 'shadow', 'stand', 'today,', 'signed', 'emancipation', 'proclamation.', 'this', 'momentous', 'decree', 'came', 'great', 'beacon', 'light', 'hope', 'millions', 'negro', 'slaves', 'been', 'seared', 'flames', 'withering', 'injustice.', 'came', 'joyous', 'daybreak', 'long', 'night', 'their', 'captivity.', 'hundred', 'years', 'later,', 'negro', 'still', 'free.', 'hundred', 'years', 'later,', 'life', 'negro', 'still', 'sadly', 'crippled', 'manacles', 'segregation', 'chains', 'discrimination.', 'hundred', 'years', 'later,', 'negro', 'lives', 'lonely', 'island', 'poverty', 'midst', 'vast', 'ocean', 'material', 'prosperity.', 'hundred', 'years', 'later,', 'negro', 'still', 'languishing', 'corners', 'american', 'society', 'finds', 'himself', 'exile', 'land.', 'have', 'come', 'here', 'today', 'dramatize', 'shameful', 'condition.', 'sense', 'have', 'come', \"nation's\", 'capital', 'cash', 'check.', 'when', 'architects', 'republic', 'wrote', 'magnificent', 'words', 'constitution', 'declaration', 'independence,', 'they', 'were', 'signing', 'promissory', 'note', 'which', 'every', 'american', 'fall', 'heir.', 'this', 'note', 'promise', 'that', 'men,', '-yes,', 'black', 'well', 'white', 'men,-', 'would', 'guaranteed', 'unalienable', 'rights', 'life,', 'liberty,', 'pursuit', 'happiness.', 'obvious', 'today', 'that', 'america', 'defaulted', 'this', 'promissory', 'note', 'insofar', 'citizens', 'color', 'concerned.', 'instead', 'honoring', 'this', 'sacred', 'obligation,', 'america', 'given', 'negro', 'people', 'check,', 'check', 'which', 'come', 'back', 'marked', '\"insufficient', 'funds.\"', 'refuse', 'believe', 'that', 'bank', 'justice', 'bankrupt.', 'refuse', 'believe', 'that', 'there', 'insufficient', 'funds', 'great', 'vaults', 'opportunity', 'this', 'nation.', 'have', 'come', 'cash', 'this', 'check', 'check', 'that', 'will', 'give', 'upon', 'demand', 'riches', 'freedom', 'security', 'justice.', 'have', 'also', 'come', 'this', 'hallowed', 'spot', 'remind', 'america', 'fierce', 'urgency', 'now.', 'this', 'time', 'engage', 'luxury', 'cooling', 'take', 'tranquilizing', 'drug', 'gradualism.', 'time', 'make', 'real', 'promises', 'democracy.', 'time', 'rise', 'from', 'dark', 'desolate', 'valley', 'segregation', 'sunlit', 'path', 'racial', 'justice.', 'time', 'lift', 'nation', 'from', 'quick', 'sands', 'racial', 'injustice', 'solid', 'rock', 'brotherhood.', 'time', 'make', 'justice', 'reality', \"god's\", 'children.', 'would', 'fatal', 'nation', 'overlook', 'urgency', 'moment.', 'this', 'sweltering', 'summer', \"negro's\", 'legitimate', 'discontent', 'will', 'pass', 'until', 'there', 'invigorating', 'autumn', 'freedom', 'equality.', 'nineteen', 'sixty-three', 'end,', 'beginning.', 'those', 'hope', 'that', 'negro', 'needed', 'blow', 'steam', 'will', 'content', 'will', 'have', 'rude', 'awakening', 'nation', 'returns', 'business', 'usual.', 'there', 'will', 'neither', 'rest', 'tranquility', 'america', 'until', 'negro', 'granted', 'citizenship', 'rights.', 'whirlwinds', 'revolt', 'will', 'continue', 'shake', 'foundations', 'nation', 'until', 'bright', 'justice', 'emerges.', 'there', 'something', 'that', 'must', 'people', 'stand', 'warm', 'threshold', 'which', 'leads', 'into', 'palace', 'justice.', 'process', 'gaining', 'rightful', 'place', 'must', 'guilty', 'wrongful', 'deeds.', 'seek', 'satisfy', 'thirst', 'freedom', 'drinking', 'from', 'bitterness', 'hatred.', 'must', 'forever', 'conduct', 'struggle', 'high', 'plane', 'dignity', 'discipline.', 'must', 'allow', 'creative', 'protest', 'degenerate', 'into', 'physical', 'violence.', 'again', 'again', 'must', 'rise', 'majestic', 'heights', 'meeting', 'physical', 'force', 'with', 'soul', 'force.', 'marvelous', 'militancy', 'which', 'engulfed', 'negro', 'community', 'must', 'lead', 'distrust', 'white', 'people,', 'many', 'white', 'brothers,', 'evidenced', 'their', 'presence', 'here', 'today,', 'have', 'come', 'realize', 'that', 'their', 'destiny', 'tied', 'with', 'destiny.', 'they', 'have', 'come', 'realize', 'that', 'their', 'freedom', 'inextricably', 'bound', 'freedom.', 'cannot', 'walk', 'alone.', 'walk,', 'must', 'make', 'pledge', 'that', 'shall', 'always', 'march', 'ahead.', 'cannot', 'turn', 'back.', 'there', 'those', 'asking', 'devotees', 'civil', 'rights,', '\"when', 'will', 'satisfied?\"', 'never', 'satisfied', 'long', 'negro', 'victim', 'unspeakable', 'horrors', 'police', 'brutality.', 'never', 'satisfied,', 'long', 'bodies,', 'heavy', 'with', 'fatigue', 'travel,', 'cannot', 'gain', 'lodging', 'motels', 'highways', 'hotels', 'cities.', 'cannot', 'satisfied', 'long', \"negro's\", 'basic', 'mobility', 'from', 'smaller', 'ghetto', 'larger', 'one.', 'never', 'satisfied', 'long', 'children', 'stripped', 'their', 'selfhood', 'robbed', 'their', 'dignity', 'signs', 'stating', '\"for', 'whites', 'only\".', 'cannot', 'satisfied', 'long', 'negro', 'mississippi', 'cannot', 'vote', 'negro', 'york', 'believes', 'nothing', 'which', 'vote.', 'satisfied,', 'will', 'satisfied', 'until', 'justice', 'rolls', 'down', 'like', 'waters', 'righteousness', 'like', 'mighty', 'stream.', 'unmindful', 'that', 'some', 'have', 'come', 'here', 'great', 'trials', 'tribulations.', 'some', 'have', 'come', 'fresh', 'from', 'narrow', 'jail', 'cells.', 'some', 'have', 'come', 'from', 'areas', 'where', 'your', 'quest', 'freedom', 'left', 'battered', 'storms', 'persecution', 'staggered', 'winds', 'police', 'brutality.', 'have', 'been', 'veterans', 'creative', 'suffering.', 'continue', 'work', 'with', 'faith', 'that', 'unearned', 'suffering', 'redemptive.', 'back', 'mississippi,', 'back', 'alabama,', 'back', 'south', 'carolina,', 'back', 'georgia,', 'back', 'louisiana,', 'back', 'slums', 'ghettos', 'northern', 'cities,', 'knowing', 'that', 'somehow', 'this', 'situation', 'will', 'changed.', 'wallow', 'valley', 'despair.', 'today,', 'friends,', 'even', 'though', 'face', 'difficulties', 'today', 'tomorrow,', 'still', 'have', 'dream.', 'dream', 'deeply', 'rooted', 'american', 'dream.', 'have', 'dream', 'that', 'this', 'nation', 'will', 'rise', 'live', 'true', 'meaning', 'creed:', 'hold', 'these', 'truths', 'self-evident:', 'that', 'created', 'equal.\"', 'have', 'dream', 'that', 'hills', 'georgia', 'sons', 'former', 'slaves', 'sons', 'former', 'slave', 'owners', 'will', 'able', 'down', 'together', 'table', 'brotherhood.', 'have', 'dream', 'that', 'even', 'state', 'mississippi,', 'state', 'sweltering', 'with', 'heat', 'injustice,', 'sweltering', 'with', 'heat', 'oppression,', 'will', 'transformed', 'into', 'oasis', 'freedom', 'justice.', 'have', 'dream', 'that', 'four', 'little', 'children', 'will', 'live', 'nation', 'where', 'they', 'will', 'judged', 'color', 'their', 'skin,', 'content', 'their', 'character.', 'have', 'dream', 'today.', 'have', 'dream', 'that', 'day,', 'down', 'alabama,', 'with', 'vicious', 'racists,', 'with', 'governor', 'having', 'lips', 'dripping', 'with', 'words', 'interposition', 'nullification;', 'right', 'there', 'alabama,', 'little', 'black', 'boys', 'black', 'girls', 'will', 'able', 'join', 'hands', 'with', 'little', 'white', 'boys', 'white', 'girls', 'sisters', 'brothers.', 'have', 'dream', 'today.', 'have', 'dream', 'that', 'every', 'valley', 'shall', 'exalted,', 'every', 'hill', 'mountain', 'shall', 'made', 'low,', 'rough', 'places', 'will', 'made', 'plain,', 'crooked', 'places', 'will', 'made', 'straight,', 'glory', 'lord', 'shall', 'revealed,', 'flesh', 'shall', 'together.', 'this', 'hope.', 'this', 'faith', 'that', 'back', 'south', 'with.', 'with', 'this', 'faith', 'will', 'able', 'mountain', 'despair', 'stone', 'hope.', 'with', 'this', 'faith', 'will', 'able', 'transform', 'jangling', 'discords', 'nation', 'into', 'beautiful', 'symphony', 'brotherhood.', 'with', 'this', 'faith', 'will', 'able', 'work', 'together,', 'pray', 'together,', 'struggle', 'together,', 'jail', 'together,', 'stand', 'freedom', 'together,', 'knowing', 'that', 'will', 'free', 'day.', 'this', 'will', 'when', \"god's\", 'children', 'will', 'able', 'sing', 'with', 'meaning,', 'country,', \"'tis\", 'thee,', 'sweet', 'land', 'liberty,', 'thee', 'sing.', 'land', 'where', 'fathers', 'died,', 'land', \"pilgrim's\", 'pride,', 'from', 'every', 'mountainside,', 'freedom', 'ring.\"', 'america', 'great', 'nation', 'this', 'must', 'become', 'true.', 'freedom', 'ring', 'from', 'prodigious', 'hilltops', 'hampshire.', 'freedom', 'ring', 'from', 'mighty', 'mountains', 'york.', 'freedom', 'ring', 'from', 'heightening', 'alleghenies', 'pennsylvania!', 'freedom', 'ring', 'from', 'snowcapped', 'rockies', 'colorado!', 'freedom', 'ring', 'from', 'curvaceous', 'slopes', 'california!', 'only', 'that;', 'freedom', 'ring', 'from', 'stone', 'mountain', 'georgia!', 'freedom', 'ring', 'from', 'lookout', 'mountain', 'tennessee!', 'freedom', 'ring', 'from', 'every', 'hill', 'molehill', 'mississippi.', 'from', 'every', 'mountainside,', 'freedom', 'ring.', 'when', 'this', 'happens,', 'when', 'allow', 'freedom', 'ring,', 'when', 'ring', 'from', 'every', 'village', 'every', 'hamlet,', 'from', 'every', 'state', 'every', 'city,', 'will', 'able', 'speed', 'that', 'when', \"god's\", 'children,', 'black', 'white', 'men,', 'jews', 'gentiles,', 'protestants', 'catholics,', 'will', 'able', 'join', 'hands', 'sing', 'words', 'negro', 'spiritual,', '\"free', 'last!', 'free', 'last!', 'thank', 'almighty,', 'free', 'last!\"']\n"
          ]
        }
      ]
    },
    {
      "cell_type": "code",
      "source": [
        "# 단어별 개수 세기\n",
        "char_count = {}  # 딕셔너리를 만들기 위한 빈 세트 만들기\n",
        "\n",
        "for ch in msg_wd2:  # txt 문자열에서 하나씩 조회하기\n",
        "    if ch in char_count.keys():  # char_count 세트에 ch가 있다면\n",
        "        char_count[ch] += 1  # 해당 ch 키에 해당하는 값을 1 증가시킴(update)\n",
        "    else:  # char_count 세트에 ch가 없다면\n",
        "        char_count[ch] = 1  # ch를 키로하고 값은 1로 insert\n",
        "\n",
        "print(char_count)"
      ],
      "metadata": {
        "colab": {
          "base_uri": "https://localhost:8080/"
        },
        "id": "mtgSHhNAZZfP",
        "outputId": "b044b725-3b6e-4da1-9c61-5b40bd839eba"
      },
      "execution_count": 56,
      "outputs": [
        {
          "output_type": "stream",
          "name": "stdout",
          "text": [
            "{'happy': 1, 'join': 3, 'with': 15, 'today': 4, 'what': 1, 'will': 26, 'down': 4, 'history': 2, 'greatest': 1, 'demonstration': 1, 'freedom': 19, 'nation.': 2, 'five': 1, 'score': 1, 'years': 5, 'ago,': 1, 'great': 5, 'american,': 1, 'whose': 1, 'symbolic': 1, 'shadow': 1, 'stand': 3, 'today,': 3, 'signed': 1, 'emancipation': 1, 'proclamation.': 1, 'this': 19, 'momentous': 1, 'decree': 1, 'came': 2, 'beacon': 1, 'light': 1, 'hope': 2, 'millions': 1, 'negro': 13, 'slaves': 2, 'been': 2, 'seared': 1, 'flames': 1, 'withering': 1, 'injustice.': 1, 'joyous': 1, 'daybreak': 1, 'long': 6, 'night': 1, 'their': 8, 'captivity.': 1, 'hundred': 4, 'later,': 4, 'still': 4, 'free.': 1, 'life': 1, 'sadly': 1, 'crippled': 1, 'manacles': 1, 'segregation': 2, 'chains': 1, 'discrimination.': 1, 'lives': 1, 'lonely': 1, 'island': 1, 'poverty': 1, 'midst': 1, 'vast': 1, 'ocean': 1, 'material': 1, 'prosperity.': 1, 'languishing': 1, 'corners': 1, 'american': 3, 'society': 1, 'finds': 1, 'himself': 1, 'exile': 1, 'land.': 1, 'have': 20, 'come': 10, 'here': 3, 'dramatize': 1, 'shameful': 1, 'condition.': 1, 'sense': 1, \"nation's\": 1, 'capital': 1, 'cash': 2, 'check.': 1, 'when': 6, 'architects': 1, 'republic': 1, 'wrote': 1, 'magnificent': 1, 'words': 3, 'constitution': 1, 'declaration': 1, 'independence,': 1, 'they': 3, 'were': 1, 'signing': 1, 'promissory': 2, 'note': 3, 'which': 5, 'every': 10, 'fall': 1, 'heir.': 1, 'promise': 1, 'that': 23, 'men,': 2, '-yes,': 1, 'black': 4, 'well': 1, 'white': 6, 'men,-': 1, 'would': 2, 'guaranteed': 1, 'unalienable': 1, 'rights': 1, 'life,': 1, 'liberty,': 2, 'pursuit': 1, 'happiness.': 1, 'obvious': 1, 'america': 5, 'defaulted': 1, 'insofar': 1, 'citizens': 1, 'color': 2, 'concerned.': 1, 'instead': 1, 'honoring': 1, 'sacred': 1, 'obligation,': 1, 'given': 1, 'people': 2, 'check,': 1, 'check': 3, 'back': 8, 'marked': 1, '\"insufficient': 1, 'funds.\"': 1, 'refuse': 2, 'believe': 2, 'bank': 1, 'justice': 4, 'bankrupt.': 1, 'there': 6, 'insufficient': 1, 'funds': 1, 'vaults': 1, 'opportunity': 1, 'give': 1, 'upon': 1, 'demand': 1, 'riches': 1, 'security': 1, 'justice.': 4, 'also': 1, 'hallowed': 1, 'spot': 1, 'remind': 1, 'fierce': 1, 'urgency': 2, 'now.': 1, 'time': 5, 'engage': 1, 'luxury': 1, 'cooling': 1, 'take': 1, 'tranquilizing': 1, 'drug': 1, 'gradualism.': 1, 'make': 3, 'real': 1, 'promises': 1, 'democracy.': 1, 'rise': 3, 'from': 18, 'dark': 1, 'desolate': 1, 'valley': 3, 'sunlit': 1, 'path': 1, 'racial': 2, 'lift': 1, 'nation': 8, 'quick': 1, 'sands': 1, 'injustice': 1, 'solid': 1, 'rock': 1, 'brotherhood.': 3, 'reality': 1, \"god's\": 3, 'children.': 1, 'fatal': 1, 'overlook': 1, 'moment.': 1, 'sweltering': 3, 'summer': 1, \"negro's\": 2, 'legitimate': 1, 'discontent': 1, 'pass': 1, 'until': 4, 'invigorating': 1, 'autumn': 1, 'equality.': 1, 'nineteen': 1, 'sixty-three': 1, 'end,': 1, 'beginning.': 1, 'those': 2, 'needed': 1, 'blow': 1, 'steam': 1, 'content': 2, 'rude': 1, 'awakening': 1, 'returns': 1, 'business': 1, 'usual.': 1, 'neither': 1, 'rest': 1, 'tranquility': 1, 'granted': 1, 'citizenship': 1, 'rights.': 1, 'whirlwinds': 1, 'revolt': 1, 'continue': 2, 'shake': 1, 'foundations': 1, 'bright': 1, 'emerges.': 1, 'something': 1, 'must': 8, 'warm': 1, 'threshold': 1, 'leads': 1, 'into': 4, 'palace': 1, 'process': 1, 'gaining': 1, 'rightful': 1, 'place': 1, 'guilty': 1, 'wrongful': 1, 'deeds.': 1, 'seek': 1, 'satisfy': 1, 'thirst': 1, 'drinking': 1, 'bitterness': 1, 'hatred.': 1, 'forever': 1, 'conduct': 1, 'struggle': 2, 'high': 1, 'plane': 1, 'dignity': 2, 'discipline.': 1, 'allow': 2, 'creative': 2, 'protest': 1, 'degenerate': 1, 'physical': 2, 'violence.': 1, 'again': 2, 'majestic': 1, 'heights': 1, 'meeting': 1, 'force': 1, 'soul': 1, 'force.': 1, 'marvelous': 1, 'militancy': 1, 'engulfed': 1, 'community': 1, 'lead': 1, 'distrust': 1, 'people,': 1, 'many': 1, 'brothers,': 1, 'evidenced': 1, 'presence': 1, 'realize': 2, 'destiny': 1, 'tied': 1, 'destiny.': 1, 'inextricably': 1, 'bound': 1, 'freedom.': 1, 'cannot': 6, 'walk': 1, 'alone.': 1, 'walk,': 1, 'pledge': 1, 'shall': 5, 'always': 1, 'march': 1, 'ahead.': 1, 'turn': 1, 'back.': 1, 'asking': 1, 'devotees': 1, 'civil': 1, 'rights,': 1, '\"when': 1, 'satisfied?\"': 1, 'never': 3, 'satisfied': 5, 'victim': 1, 'unspeakable': 1, 'horrors': 1, 'police': 2, 'brutality.': 2, 'satisfied,': 2, 'bodies,': 1, 'heavy': 1, 'fatigue': 1, 'travel,': 1, 'gain': 1, 'lodging': 1, 'motels': 1, 'highways': 1, 'hotels': 1, 'cities.': 1, 'basic': 1, 'mobility': 1, 'smaller': 1, 'ghetto': 1, 'larger': 1, 'one.': 1, 'children': 3, 'stripped': 1, 'selfhood': 1, 'robbed': 1, 'signs': 1, 'stating': 1, '\"for': 1, 'whites': 1, 'only\".': 1, 'mississippi': 1, 'vote': 1, 'york': 1, 'believes': 1, 'nothing': 1, 'vote.': 1, 'rolls': 1, 'like': 2, 'waters': 1, 'righteousness': 1, 'mighty': 2, 'stream.': 1, 'unmindful': 1, 'some': 3, 'trials': 1, 'tribulations.': 1, 'fresh': 1, 'narrow': 1, 'jail': 2, 'cells.': 1, 'areas': 1, 'where': 3, 'your': 1, 'quest': 1, 'left': 1, 'battered': 1, 'storms': 1, 'persecution': 1, 'staggered': 1, 'winds': 1, 'veterans': 1, 'suffering.': 1, 'work': 2, 'faith': 5, 'unearned': 1, 'suffering': 1, 'redemptive.': 1, 'mississippi,': 2, 'alabama,': 3, 'south': 2, 'carolina,': 1, 'georgia,': 1, 'louisiana,': 1, 'slums': 1, 'ghettos': 1, 'northern': 1, 'cities,': 1, 'knowing': 2, 'somehow': 1, 'situation': 1, 'changed.': 1, 'wallow': 1, 'despair.': 1, 'friends,': 1, 'even': 2, 'though': 1, 'face': 1, 'difficulties': 1, 'tomorrow,': 1, 'dream.': 2, 'dream': 9, 'deeply': 1, 'rooted': 1, 'live': 2, 'true': 1, 'meaning': 1, 'creed:': 1, 'hold': 1, 'these': 1, 'truths': 1, 'self-evident:': 1, 'created': 1, 'equal.\"': 1, 'hills': 1, 'georgia': 1, 'sons': 2, 'former': 2, 'slave': 1, 'owners': 1, 'able': 8, 'together': 1, 'table': 1, 'state': 3, 'heat': 2, 'injustice,': 1, 'oppression,': 1, 'transformed': 1, 'oasis': 1, 'four': 1, 'little': 3, 'judged': 1, 'skin,': 1, 'character.': 1, 'today.': 2, 'day,': 1, 'vicious': 1, 'racists,': 1, 'governor': 1, 'having': 1, 'lips': 1, 'dripping': 1, 'interposition': 1, 'nullification;': 1, 'right': 1, 'boys': 2, 'girls': 2, 'hands': 2, 'sisters': 1, 'brothers.': 1, 'exalted,': 1, 'hill': 2, 'mountain': 4, 'made': 3, 'low,': 1, 'rough': 1, 'places': 2, 'plain,': 1, 'crooked': 1, 'straight,': 1, 'glory': 1, 'lord': 1, 'revealed,': 1, 'flesh': 1, 'together.': 1, 'hope.': 2, 'with.': 1, 'despair': 1, 'stone': 2, 'transform': 1, 'jangling': 1, 'discords': 1, 'beautiful': 1, 'symphony': 1, 'together,': 5, 'pray': 1, 'free': 3, 'day.': 1, 'sing': 2, 'meaning,': 1, 'country,': 1, \"'tis\": 1, 'thee,': 1, 'sweet': 1, 'land': 3, 'thee': 1, 'sing.': 1, 'fathers': 1, 'died,': 1, \"pilgrim's\": 1, 'pride,': 1, 'mountainside,': 2, 'ring.\"': 1, 'become': 1, 'true.': 1, 'ring': 9, 'prodigious': 1, 'hilltops': 1, 'hampshire.': 1, 'mountains': 1, 'york.': 1, 'heightening': 1, 'alleghenies': 1, 'pennsylvania!': 1, 'snowcapped': 1, 'rockies': 1, 'colorado!': 1, 'curvaceous': 1, 'slopes': 1, 'california!': 1, 'only': 1, 'that;': 1, 'georgia!': 1, 'lookout': 1, 'tennessee!': 1, 'molehill': 1, 'mississippi.': 1, 'ring.': 1, 'happens,': 1, 'ring,': 1, 'village': 1, 'hamlet,': 1, 'city,': 1, 'speed': 1, 'children,': 1, 'jews': 1, 'gentiles,': 1, 'protestants': 1, 'catholics,': 1, 'spiritual,': 1, '\"free': 1, 'last!': 2, 'thank': 1, 'almighty,': 1, 'last!\"': 1}\n"
          ]
        }
      ]
    },
    {
      "cell_type": "code",
      "source": [
        "# (GPT)등장 횟수가 많은 문자 10개 출력\n",
        "top_10 = sorted(char_count.items(), key=lambda x: x[1], reverse=True)[:10]\n",
        "print(top_10)"
      ],
      "metadata": {
        "colab": {
          "base_uri": "https://localhost:8080/"
        },
        "id": "Uzu2Wxd0aWcO",
        "outputId": "7939f0d9-5b9a-42d7-dec9-163dd58acfc9"
      },
      "execution_count": 57,
      "outputs": [
        {
          "output_type": "stream",
          "name": "stdout",
          "text": [
            "[('will', 26), ('that', 23), ('have', 20), ('freedom', 19), ('this', 19), ('from', 18), ('with', 15), ('negro', 13), ('come', 10), ('every', 10)]\n"
          ]
        }
      ]
    },
    {
      "cell_type": "markdown",
      "source": [
        "- items(): 키와 값을 튜플 형태로 출력\n",
        "- sorted(정렬할 대상, 정렬 기준 key 지정, reverse 여부): 여기서는 items로 뽑아낸 튜플의 1번 인덱스(개수)를 기준으로 내림차순 정렬\n"
      ],
      "metadata": {
        "id": "Bw6WOmcceZgN"
      }
    },
    {
      "cell_type": "code",
      "source": [
        "# 위의 과정을 사용자 정의 함수로 만들기\n",
        "def top_ten_word(msg):\n",
        "  # 단어를 공백 기준으로 리스트에 집어넣기\n",
        "  msg = msg.lower()  # 모두 소문자로 바꾸기\n",
        "  msg = msg.replace('\\n', ' ')  # 엔터를 공백으로 처리하기\n",
        "  msg_wd1 = msg.split()  # 공백을 기준으로 나누기\n",
        "\n",
        "  # 3글자 이하인 단어 제외\n",
        "  msg_wd2 = []\n",
        "  for wd in msg_wd1:\n",
        "    if len(wd) > 3:  # 단어의 길이가 3초과일 경우\n",
        "      msg_wd2.append(wd)  # msg_wd2 리스트에 단어를 append\n",
        "\n",
        "  # 단어별 개수 세기\n",
        "  char_count = {}  # 딕셔너리를 만들기 위한 빈 세트 만들기\n",
        "  for ch in msg_wd2:  # txt 문자열에서 하나씩 조회하기\n",
        "    if ch in char_count.keys():  # char_count 세트에 ch가 있다면\n",
        "      char_count[ch] += 1  # 해당 ch 키에 해당하는 값을 1 증가시킴(update)\n",
        "    else:  # char_count 세트에 ch가 없다면\n",
        "      char_count[ch] = 1  # ch를 키로하고 값은 1로 insert\n",
        "\n",
        "  # 등장 횟수가 많은 문자 10개 출력\n",
        "  top_10 = sorted(char_count.items(), key=lambda x: x[1], reverse=True)[:10]\n",
        "\n",
        "  return top_10"
      ],
      "metadata": {
        "id": "4vSiuaXgeFRt"
      },
      "execution_count": 58,
      "outputs": []
    },
    {
      "cell_type": "code",
      "source": [
        "print(top_ten_word(msg))"
      ],
      "metadata": {
        "colab": {
          "base_uri": "https://localhost:8080/"
        },
        "id": "daRVQsPMfgKM",
        "outputId": "be7dadef-aeb7-418e-cf8c-ca7744076a8a"
      },
      "execution_count": 59,
      "outputs": [
        {
          "output_type": "stream",
          "name": "stdout",
          "text": [
            "[('will', 26), ('that', 23), ('have', 20), ('freedom', 19), ('this', 19), ('from', 18), ('with', 15), ('negro', 13), ('come', 10), ('every', 10)]\n"
          ]
        }
      ]
    },
    {
      "cell_type": "markdown",
      "source": [
        "내 풀이(2)"
      ],
      "metadata": {
        "id": "So6zgus1xlAH"
      }
    },
    {
      "cell_type": "code",
      "source": [
        "# 단어를 공백 기준으로 리스트에 집어넣기\n",
        "msg = msg.replace('\\n', ' ')  # 엔터를 공백으로 처리하기\n",
        "msg = msg.lower()  # 모두 소문자로 바꾸기\n",
        "msg_wd1 = msg.split()  # 공백을 기준으로 나누기\n",
        "msg_wd1 = sorted(msg_wd1)\n",
        "print(msg_wd1)"
      ],
      "metadata": {
        "colab": {
          "base_uri": "https://localhost:8080/"
        },
        "id": "eYLGvk33xlyY",
        "outputId": "886b943a-abbb-405d-fa91-8284cd232bca"
      },
      "execution_count": 60,
      "outputs": [
        {
          "output_type": "stream",
          "name": "stdout",
          "text": [
            "['\"for', '\"free', '\"insufficient', '\"my', '\"we', '\"when', \"'tis\", '-yes,', 'a', 'a', 'a', 'a', 'a', 'a', 'a', 'a', 'a', 'a', 'a', 'a', 'a', 'a', 'a', 'a', 'a', 'a', 'a', 'a', 'a', 'a', 'a', 'a', 'a', 'a', 'a', 'a', 'a', 'a', 'a', 'a', 'a', 'a', 'a', 'a', 'a', 'a', 'able', 'able', 'able', 'able', 'able', 'able', 'able', 'able', 'again', 'again', 'ago,', 'ahead.', 'alabama,', 'alabama,', 'alabama,', 'all', 'all', 'all', 'all', 'all', 'all', 'all', 'alleghenies', 'allow', 'allow', 'almighty,', 'alone.', 'also', 'always', 'am', 'am', 'america', 'america', 'america', 'america', 'america', 'american', 'american', 'american', 'american,', 'an', 'an', 'an', 'an', 'and', 'and', 'and', 'and', 'and', 'and', 'and', 'and', 'and', 'and', 'and', 'and', 'and', 'and', 'and', 'and', 'and', 'and', 'and', 'and', 'and', 'and', 'and', 'and', 'and', 'and', 'and', 'and', 'and', 'and', 'and', 'and', 'and', 'and', 'and', 'and', 'and', 'and', 'and', 'and', 'and', 'architects', 'are', 'are', 'are', 'are', 'are', 'are', 'are', 'are', 'areas', 'as', 'as', 'as', 'as', 'as', 'as', 'as', 'as', 'as', 'as', 'as', 'as', 'as', 'as', 'as', 'as', 'as', 'as', 'as', 'as', 'asking', 'at', 'at', 'at', 'at', 'autumn', 'awakening', 'back', 'back', 'back', 'back', 'back', 'back', 'back', 'back', 'back.', 'bad', 'bank', 'bankrupt.', 'basic', 'battered', 'be', 'be', 'be', 'be', 'be', 'be', 'be', 'be', 'be', 'be', 'be', 'be', 'be', 'be', 'be', 'be', 'be', 'be', 'be', 'be', 'be', 'be', 'be', 'be', 'be', 'be', 'be', 'be', 'be', 'be', 'be', 'be', 'beacon', 'beautiful', 'become', 'been', 'been', 'beginning.', 'believe', 'believe', 'believes', 'bitterness', 'black', 'black', 'black', 'black', 'blow', 'bodies,', 'bound', 'boys', 'boys', 'bright', 'brotherhood.', 'brotherhood.', 'brotherhood.', 'brothers,', 'brothers.', 'brutality.', 'brutality.', 'business', 'but', 'but', 'but', 'but', 'but', 'but', 'by', 'by', 'by', 'by', 'by', 'by', 'by', 'by', 'california!', 'came', 'came', 'can', 'can', 'can', 'can', 'cannot', 'cannot', 'cannot', 'cannot', 'cannot', 'cannot', 'capital', 'captivity.', 'carolina,', 'cash', 'cash', 'catholics,', 'cells.', 'chains', 'changed.', 'character.', 'check', 'check', 'check', 'check,', 'check.', 'children', 'children', 'children', 'children,', 'children.', 'cities,', 'cities.', 'citizens', 'citizenship', 'city,', 'civil', 'color', 'color', 'colorado!', 'come', 'come', 'come', 'come', 'come', 'come', 'come', 'come', 'come', 'come', 'community', 'concerned.', 'condition.', 'conduct', 'constitution', 'content', 'content', 'continue', 'continue', 'cooling', 'corners', 'country,', 'created', 'creative', 'creative', 'creed:', 'crippled', 'crooked', 'cup', 'curvaceous', 'dark', 'day', 'day', 'day', 'day', 'day', 'day', 'day', 'day', 'day', 'day,', 'day.', 'daybreak', 'declaration', 'decree', 'deeds.', 'deeply', 'defaulted', 'degenerate', 'demand', 'democracy.', 'demonstration', 'desolate', 'despair', 'despair.', 'destiny', 'destiny.', 'devotees', 'died,', 'difficulties', 'dignity', 'dignity', 'discipline.', 'discontent', 'discords', 'discrimination.', 'distrust', 'down', 'down', 'down', 'down', 'dramatize', 'dream', 'dream', 'dream', 'dream', 'dream', 'dream', 'dream', 'dream', 'dream', 'dream.', 'dream.', 'drinking', 'dripping', 'drug', 'emancipation', 'emerges.', 'end', 'end,', 'engage', 'engulfed', 'equal.\"', 'equality.', 'even', 'even', 'every', 'every', 'every', 'every', 'every', 'every', 'every', 'every', 'every', 'every', 'evidenced', 'exalted,', 'exile', 'face', 'faith', 'faith', 'faith', 'faith', 'faith', 'fall', 'fatal', 'fathers', 'fatigue', 'fierce', 'finds', 'five', 'flames', 'flesh', 'for', 'for', 'for', 'for', 'for', 'for', 'for', 'for', 'force', 'force.', 'forever', 'former', 'former', 'foundations', 'four', 'free', 'free', 'free', 'free.', 'freedom', 'freedom', 'freedom', 'freedom', 'freedom', 'freedom', 'freedom', 'freedom', 'freedom', 'freedom', 'freedom', 'freedom', 'freedom', 'freedom', 'freedom', 'freedom', 'freedom', 'freedom', 'freedom', 'freedom.', 'fresh', 'friends,', 'from', 'from', 'from', 'from', 'from', 'from', 'from', 'from', 'from', 'from', 'from', 'from', 'from', 'from', 'from', 'from', 'from', 'from', 'funds', 'funds.\"', 'gain', 'gaining', 'gentiles,', 'georgia', 'georgia!', 'georgia,', 'ghetto', 'ghettos', 'girls', 'girls', 'give', 'given', 'glory', 'go', 'go', 'go', 'go', 'go', 'go', 'go', 'go', 'go', 'god', \"god's\", \"god's\", \"god's\", 'governor', 'gradualism.', 'granted', 'great', 'great', 'great', 'great', 'great', 'greatest', 'guaranteed', 'guilty', 'had', 'hallowed', 'hamlet,', 'hampshire.', 'hands', 'hands', 'happens,', 'happiness.', 'happy', 'has', 'has', 'has', 'has', 'has', 'hatred.', 'have', 'have', 'have', 'have', 'have', 'have', 'have', 'have', 'have', 'have', 'have', 'have', 'have', 'have', 'have', 'have', 'have', 'have', 'have', 'have', 'having', 'he', 'heat', 'heat', 'heavy', 'heightening', 'heights', 'heir.', 'her', 'here', 'here', 'here', 'hew', 'high', 'highways', 'hill', 'hill', 'hills', 'hilltops', 'himself', 'his', 'his', 'his', 'history', 'history', 'hold', 'honoring', 'hope', 'hope', 'hope.', 'hope.', 'horrors', 'hotels', 'hundred', 'hundred', 'hundred', 'hundred', 'i', 'i', 'i', 'i', 'i', 'i', 'i', 'i', 'i', 'i', 'i', 'i', 'i', 'i', 'i', 'if', 'if', 'in', 'in', 'in', 'in', 'in', 'in', 'in', 'in', 'in', 'in', 'in', 'in', 'in', 'in', 'in', 'in', 'in', 'in', 'in', 'in', 'in', 'in', 'independence,', 'inextricably', 'injustice', 'injustice,', 'injustice.', 'insofar', 'instead', 'insufficient', 'interposition', 'into', 'into', 'into', 'into', 'invigorating', 'is', 'is', 'is', 'is', 'is', 'is', 'is', 'is', 'is', 'is', 'is', 'is', 'is', 'is', 'is', 'is', 'is', 'is', 'is', 'is', 'is', 'is', 'is', 'island', 'it', 'it', 'it', 'it', 'it', 'it', 'its', 'its', 'its', 'jail', 'jail', 'jangling', 'jews', 'join', 'join', 'join', 'joyous', 'judged', 'justice', 'justice', 'justice', 'justice', 'justice.', 'justice.', 'justice.', 'justice.', 'knowing', 'knowing', 'land', 'land', 'land', 'land.', 'languishing', 'larger', 'last!', 'last!', 'last!\"', 'later,', 'later,', 'later,', 'later,', 'lead', 'leads', 'left', 'legitimate', 'let', 'let', 'let', 'let', 'let', 'let', 'let', 'let', 'let', 'let', 'let', 'let', 'let', 'liberty,', 'liberty,', 'life', 'life,', 'lift', 'light', 'like', 'like', 'lips', 'little', 'little', 'little', 'live', 'live', 'lives', 'lodging', 'lonely', 'long', 'long', 'long', 'long', 'long', 'long', 'lookout', 'lord', 'louisiana,', 'low,', 'luxury', 'made', 'made', 'made', 'magnificent', 'majestic', 'make', 'make', 'make', 'manacles', 'many', 'march', 'marked', 'marvelous', 'material', 'meaning', 'meaning,', 'meeting', 'men', 'men', 'men', 'men,', 'men,', 'men,-', 'midst', 'mighty', 'mighty', 'militancy', 'millions', 'mississippi', 'mississippi,', 'mississippi,', 'mississippi.', 'mobility', 'molehill', 'moment.', 'momentous', 'motels', 'mountain', 'mountain', 'mountain', 'mountain', 'mountains', 'mountainside,', 'mountainside,', 'must', 'must', 'must', 'must', 'must', 'must', 'must', 'must', 'my', 'my', 'my', 'my', 'narrow', 'nation', 'nation', 'nation', 'nation', 'nation', 'nation', 'nation', 'nation', \"nation's\", 'nation.', 'nation.', 'needed', 'negro', 'negro', 'negro', 'negro', 'negro', 'negro', 'negro', 'negro', 'negro', 'negro', 'negro', 'negro', 'negro', \"negro's\", \"negro's\", 'neither', 'never', 'never', 'never', 'new', 'new', 'new', 'new', 'new', 'night', 'nineteen', 'no', 'no,', 'no,', 'nor', 'northern', 'not', 'not', 'not', 'not', 'not', 'not', 'not', 'not', 'not', 'not', 'not', 'not', 'not', 'note', 'note', 'note', 'nothing', 'now', 'now', 'now', 'now', 'now', 'now.', 'nullification;', 'oasis', 'obligation,', 'obvious', 'ocean', 'of', 'of', 'of', 'of', 'of', 'of', 'of', 'of', 'of', 'of', 'of', 'of', 'of', 'of', 'of', 'of', 'of', 'of', 'of', 'of', 'of', 'of', 'of', 'of', 'of', 'of', 'of', 'of', 'of', 'of', 'of', 'of', 'of', 'of', 'of', 'of', 'of', 'of', 'of', 'of', 'of', 'of', 'of', 'of', 'of', 'of', 'of', 'of', 'of', 'of', 'of', 'of', 'of', 'of', 'of', 'of', 'of', 'of', 'of', 'of', 'of', 'of', 'of', 'of', 'of', 'of', 'of', 'of', 'of', 'of', 'of', 'of', 'of', 'of', 'of', 'of', 'of', 'of', 'of', 'of', 'of', 'of', 'of', 'of', 'of', 'of', 'of', 'of', 'of', 'of', 'of', 'of', 'of', 'of', 'of', 'of', 'of', 'of', 'of', 'off', 'off', 'old', 'on', 'on', 'on', 'on', 'on', 'one', 'one', 'one', 'one', 'one', 'one', 'one', 'one', 'one', 'one', 'one', 'one', 'one.', 'only', 'only\".', 'opportunity', 'oppression,', 'or', 'our', 'our', 'our', 'our', 'our', 'our', 'our', 'our', 'our', 'our', 'our', 'our', 'our', 'our', 'our', 'our', 'our', 'out', 'out', 'out', 'overlook', 'own', 'owners', 'palace', 'pass', 'path', 'pennsylvania!', 'people', 'people', 'people,', 'persecution', 'physical', 'physical', \"pilgrim's\", 'place', 'places', 'places', 'plain,', 'plane', 'pledge', 'police', 'police', 'poverty', 'pray', 'presence', 'pride,', 'process', 'proclamation.', 'prodigious', 'promise', 'promises', 'promissory', 'promissory', 'prosperity.', 'protest', 'protestants', 'pursuit', 'quest', 'quick', 'racial', 'racial', 'racists,', 'real', 'reality', 'realize', 'realize', 'red', 'redemptive.', 'refuse', 'refuse', 'remind', 'republic', 'rest', 'returns', 'revealed,', 'revolt', 'riches', 'right', 'righteousness', 'rightful', 'rights', 'rights,', 'rights.', 'ring', 'ring', 'ring', 'ring', 'ring', 'ring', 'ring', 'ring', 'ring', 'ring,', 'ring.', 'ring.\"', 'rise', 'rise', 'rise', 'robbed', 'rock', 'rockies', 'rolls', 'rooted', 'rough', 'rude', 'sacred', 'sadly', 'sands', 'satisfied', 'satisfied', 'satisfied', 'satisfied', 'satisfied', 'satisfied,', 'satisfied,', 'satisfied?\"', 'satisfy', 'say', 'say', 'score', 'seared', 'security', 'see', 'seek', 'segregation', 'segregation', 'self-evident:', 'selfhood', 'sense', 'shadow', 'shake', 'shall', 'shall', 'shall', 'shall', 'shall', 'shameful', 'signed', 'signing', 'signs', 'sing', 'sing', 'sing.', 'sisters', 'sit', 'situation', 'sixty-three', 'skin,', 'slave', 'slaves', 'slaves', 'slopes', 'slums', 'smaller', 'snowcapped', 'so', 'so', 'so', 'so', 'society', 'solid', 'some', 'some', 'some', 'somehow', 'something', 'sons', 'sons', 'soul', 'south', 'south', 'speed', 'spiritual,', 'spot', 'staggered', 'stand', 'stand', 'stand', 'state', 'state', 'state', 'stating', 'steam', 'still', 'still', 'still', 'still', 'stone', 'stone', 'storms', 'straight,', 'stream.', 'stripped', 'struggle', 'struggle', 'suffering', 'suffering.', 'summer', 'sunlit', 'sweet', 'sweltering', 'sweltering', 'sweltering', 'symbolic', 'symphony', 'table', 'take', 'tennessee!', 'thank', 'that', 'that', 'that', 'that', 'that', 'that', 'that', 'that', 'that', 'that', 'that', 'that', 'that', 'that', 'that', 'that', 'that', 'that', 'that', 'that', 'that', 'that', 'that', 'that;', 'the', 'the', 'the', 'the', 'the', 'the', 'the', 'the', 'the', 'the', 'the', 'the', 'the', 'the', 'the', 'the', 'the', 'the', 'the', 'the', 'the', 'the', 'the', 'the', 'the', 'the', 'the', 'the', 'the', 'the', 'the', 'the', 'the', 'the', 'the', 'the', 'the', 'the', 'the', 'the', 'the', 'the', 'the', 'the', 'the', 'the', 'the', 'the', 'the', 'the', 'the', 'the', 'the', 'the', 'the', 'the', 'the', 'the', 'the', 'the', 'the', 'the', 'the', 'the', 'the', 'the', 'the', 'the', 'the', 'the', 'the', 'the', 'the', 'the', 'the', 'the', 'the', 'the', 'the', 'the', 'the', 'the', 'the', 'the', 'the', 'the', 'the', 'the', 'the', 'the', 'the', 'the', 'the', 'the', 'the', 'the', 'the', 'the', 'the', 'the', 'the', 'the', 'thee', 'thee,', 'their', 'their', 'their', 'their', 'their', 'their', 'their', 'their', 'there', 'there', 'there', 'there', 'there', 'there', 'these', 'they', 'they', 'they', 'thirst', 'this', 'this', 'this', 'this', 'this', 'this', 'this', 'this', 'this', 'this', 'this', 'this', 'this', 'this', 'this', 'this', 'this', 'this', 'this', 'those', 'those', 'though', 'threshold', 'tied', 'time', 'time', 'time', 'time', 'time', 'to', 'to', 'to', 'to', 'to', 'to', 'to', 'to', 'to', 'to', 'to', 'to', 'to', 'to', 'to', 'to', 'to', 'to', 'to', 'to', 'to', 'to', 'to', 'to', 'to', 'to', 'to', 'to', 'to', 'to', 'to', 'to', 'to', 'to', 'to', 'to', 'to', 'to', 'to', 'to', 'to', 'to', 'to', 'to', 'to', 'to', 'to', 'to', 'to', 'to', 'to', 'to', 'to', 'to', 'to', 'to', 'to', 'to', 'to', 'to', 'today', 'today', 'today', 'today', 'today,', 'today,', 'today,', 'today.', 'today.', 'together', 'together,', 'together,', 'together,', 'together,', 'together,', 'together.', 'tomorrow,', 'tranquility', 'tranquilizing', 'transform', 'transformed', 'travel,', 'trials', 'tribulations.', 'true', 'true.', 'truths', 'turn', 'unalienable', 'unearned', 'unmindful', 'unspeakable', 'until', 'until', 'until', 'until', 'up', 'up', 'up', 'up', 'upon', 'urgency', 'urgency', 'us', 'us', 'us', 'us', 'usual.', 'valley', 'valley', 'valley', 'vast', 'vaults', 'veterans', 'vicious', 'victim', 'village', 'violence.', 'vote', 'vote.', 'walk', 'walk,', 'wallow', 'warm', 'was', 'was', 'waters', 'we', 'we', 'we', 'we', 'we', 'we', 'we', 'we', 'we', 'we', 'we', 'we', 'we', 'we', 'we', 'we', 'we', 'we', 'we', 'we', 'we', 'we', 'we', 'we', 'we', 'we', 'we', 'we', 'we', 'we', 'we', 'we', 'well', 'were', 'what', 'when', 'when', 'when', 'when', 'when', 'when', 'where', 'where', 'where', 'which', 'which', 'which', 'which', 'which', 'whirlwinds', 'white', 'white', 'white', 'white', 'white', 'white', 'whites', 'who', 'who', 'who', 'who', 'whose', 'will', 'will', 'will', 'will', 'will', 'will', 'will', 'will', 'will', 'will', 'will', 'will', 'will', 'will', 'will', 'will', 'will', 'will', 'will', 'will', 'will', 'will', 'will', 'will', 'will', 'will', 'winds', 'with', 'with', 'with', 'with', 'with', 'with', 'with', 'with', 'with', 'with', 'with', 'with', 'with', 'with', 'with', 'with.', 'withering', 'words', 'words', 'words', 'work', 'work', 'would', 'would', 'wrongful', 'wrote', 'years', 'years', 'years', 'years', 'years', 'york', 'york.', 'you', 'you', 'you', 'you', 'you', 'you', 'you', 'you', 'your', '—']\n"
          ]
        }
      ]
    },
    {
      "cell_type": "code",
      "source": [
        "# 3글자 이하인 단어 제외 + 문자가 아닌 경우 제외(ex. \"for, -yes 등)\n",
        "msg_wd2 = []\n",
        "\n",
        "for wd in msg_wd1:\n",
        "  if len(wd) > 3 and wd.isalpha():  # 단어의 길이가 3초과일 경우 그리고 문자가 아닌 경우 제외\n",
        "    msg_wd2.append(wd)  # msg_wd2 리스트에 단어를 append\n",
        "\n",
        "print(msg_wd2)"
      ],
      "metadata": {
        "colab": {
          "base_uri": "https://localhost:8080/"
        },
        "id": "aQNw-v011c4t",
        "outputId": "d35832ae-b237-4039-f68d-a2ed93c0da7e"
      },
      "execution_count": 61,
      "outputs": [
        {
          "output_type": "stream",
          "name": "stdout",
          "text": [
            "['able', 'able', 'able', 'able', 'able', 'able', 'able', 'able', 'again', 'again', 'alleghenies', 'allow', 'allow', 'also', 'always', 'america', 'america', 'america', 'america', 'america', 'american', 'american', 'american', 'architects', 'areas', 'asking', 'autumn', 'awakening', 'back', 'back', 'back', 'back', 'back', 'back', 'back', 'back', 'bank', 'basic', 'battered', 'beacon', 'beautiful', 'become', 'been', 'been', 'believe', 'believe', 'believes', 'bitterness', 'black', 'black', 'black', 'black', 'blow', 'bound', 'boys', 'boys', 'bright', 'business', 'came', 'came', 'cannot', 'cannot', 'cannot', 'cannot', 'cannot', 'cannot', 'capital', 'cash', 'cash', 'chains', 'check', 'check', 'check', 'children', 'children', 'children', 'citizens', 'citizenship', 'civil', 'color', 'color', 'come', 'come', 'come', 'come', 'come', 'come', 'come', 'come', 'come', 'come', 'community', 'conduct', 'constitution', 'content', 'content', 'continue', 'continue', 'cooling', 'corners', 'created', 'creative', 'creative', 'crippled', 'crooked', 'curvaceous', 'dark', 'daybreak', 'declaration', 'decree', 'deeply', 'defaulted', 'degenerate', 'demand', 'demonstration', 'desolate', 'despair', 'destiny', 'devotees', 'difficulties', 'dignity', 'dignity', 'discontent', 'discords', 'distrust', 'down', 'down', 'down', 'down', 'dramatize', 'dream', 'dream', 'dream', 'dream', 'dream', 'dream', 'dream', 'dream', 'dream', 'drinking', 'dripping', 'drug', 'emancipation', 'engage', 'engulfed', 'even', 'even', 'every', 'every', 'every', 'every', 'every', 'every', 'every', 'every', 'every', 'every', 'evidenced', 'exile', 'face', 'faith', 'faith', 'faith', 'faith', 'faith', 'fall', 'fatal', 'fathers', 'fatigue', 'fierce', 'finds', 'five', 'flames', 'flesh', 'force', 'forever', 'former', 'former', 'foundations', 'four', 'free', 'free', 'free', 'freedom', 'freedom', 'freedom', 'freedom', 'freedom', 'freedom', 'freedom', 'freedom', 'freedom', 'freedom', 'freedom', 'freedom', 'freedom', 'freedom', 'freedom', 'freedom', 'freedom', 'freedom', 'freedom', 'fresh', 'from', 'from', 'from', 'from', 'from', 'from', 'from', 'from', 'from', 'from', 'from', 'from', 'from', 'from', 'from', 'from', 'from', 'from', 'funds', 'gain', 'gaining', 'georgia', 'ghetto', 'ghettos', 'girls', 'girls', 'give', 'given', 'glory', 'governor', 'granted', 'great', 'great', 'great', 'great', 'great', 'greatest', 'guaranteed', 'guilty', 'hallowed', 'hands', 'hands', 'happy', 'have', 'have', 'have', 'have', 'have', 'have', 'have', 'have', 'have', 'have', 'have', 'have', 'have', 'have', 'have', 'have', 'have', 'have', 'have', 'have', 'having', 'heat', 'heat', 'heavy', 'heightening', 'heights', 'here', 'here', 'here', 'high', 'highways', 'hill', 'hill', 'hills', 'hilltops', 'himself', 'history', 'history', 'hold', 'honoring', 'hope', 'hope', 'horrors', 'hotels', 'hundred', 'hundred', 'hundred', 'hundred', 'inextricably', 'injustice', 'insofar', 'instead', 'insufficient', 'interposition', 'into', 'into', 'into', 'into', 'invigorating', 'island', 'jail', 'jail', 'jangling', 'jews', 'join', 'join', 'join', 'joyous', 'judged', 'justice', 'justice', 'justice', 'justice', 'knowing', 'knowing', 'land', 'land', 'land', 'languishing', 'larger', 'lead', 'leads', 'left', 'legitimate', 'life', 'lift', 'light', 'like', 'like', 'lips', 'little', 'little', 'little', 'live', 'live', 'lives', 'lodging', 'lonely', 'long', 'long', 'long', 'long', 'long', 'long', 'lookout', 'lord', 'luxury', 'made', 'made', 'made', 'magnificent', 'majestic', 'make', 'make', 'make', 'manacles', 'many', 'march', 'marked', 'marvelous', 'material', 'meaning', 'meeting', 'midst', 'mighty', 'mighty', 'militancy', 'millions', 'mississippi', 'mobility', 'molehill', 'momentous', 'motels', 'mountain', 'mountain', 'mountain', 'mountain', 'mountains', 'must', 'must', 'must', 'must', 'must', 'must', 'must', 'must', 'narrow', 'nation', 'nation', 'nation', 'nation', 'nation', 'nation', 'nation', 'nation', 'needed', 'negro', 'negro', 'negro', 'negro', 'negro', 'negro', 'negro', 'negro', 'negro', 'negro', 'negro', 'negro', 'negro', 'neither', 'never', 'never', 'never', 'night', 'nineteen', 'northern', 'note', 'note', 'note', 'nothing', 'oasis', 'obvious', 'ocean', 'only', 'opportunity', 'overlook', 'owners', 'palace', 'pass', 'path', 'people', 'people', 'persecution', 'physical', 'physical', 'place', 'places', 'places', 'plane', 'pledge', 'police', 'police', 'poverty', 'pray', 'presence', 'process', 'prodigious', 'promise', 'promises', 'promissory', 'promissory', 'protest', 'protestants', 'pursuit', 'quest', 'quick', 'racial', 'racial', 'real', 'reality', 'realize', 'realize', 'refuse', 'refuse', 'remind', 'republic', 'rest', 'returns', 'revolt', 'riches', 'right', 'righteousness', 'rightful', 'rights', 'ring', 'ring', 'ring', 'ring', 'ring', 'ring', 'ring', 'ring', 'ring', 'rise', 'rise', 'rise', 'robbed', 'rock', 'rockies', 'rolls', 'rooted', 'rough', 'rude', 'sacred', 'sadly', 'sands', 'satisfied', 'satisfied', 'satisfied', 'satisfied', 'satisfied', 'satisfy', 'score', 'seared', 'security', 'seek', 'segregation', 'segregation', 'selfhood', 'sense', 'shadow', 'shake', 'shall', 'shall', 'shall', 'shall', 'shall', 'shameful', 'signed', 'signing', 'signs', 'sing', 'sing', 'sisters', 'situation', 'slave', 'slaves', 'slaves', 'slopes', 'slums', 'smaller', 'snowcapped', 'society', 'solid', 'some', 'some', 'some', 'somehow', 'something', 'sons', 'sons', 'soul', 'south', 'south', 'speed', 'spot', 'staggered', 'stand', 'stand', 'stand', 'state', 'state', 'state', 'stating', 'steam', 'still', 'still', 'still', 'still', 'stone', 'stone', 'storms', 'stripped', 'struggle', 'struggle', 'suffering', 'summer', 'sunlit', 'sweet', 'sweltering', 'sweltering', 'sweltering', 'symbolic', 'symphony', 'table', 'take', 'thank', 'that', 'that', 'that', 'that', 'that', 'that', 'that', 'that', 'that', 'that', 'that', 'that', 'that', 'that', 'that', 'that', 'that', 'that', 'that', 'that', 'that', 'that', 'that', 'thee', 'their', 'their', 'their', 'their', 'their', 'their', 'their', 'their', 'there', 'there', 'there', 'there', 'there', 'there', 'these', 'they', 'they', 'they', 'thirst', 'this', 'this', 'this', 'this', 'this', 'this', 'this', 'this', 'this', 'this', 'this', 'this', 'this', 'this', 'this', 'this', 'this', 'this', 'this', 'those', 'those', 'though', 'threshold', 'tied', 'time', 'time', 'time', 'time', 'time', 'today', 'today', 'today', 'today', 'together', 'tranquility', 'tranquilizing', 'transform', 'transformed', 'trials', 'true', 'truths', 'turn', 'unalienable', 'unearned', 'unmindful', 'unspeakable', 'until', 'until', 'until', 'until', 'upon', 'urgency', 'urgency', 'valley', 'valley', 'valley', 'vast', 'vaults', 'veterans', 'vicious', 'victim', 'village', 'vote', 'walk', 'wallow', 'warm', 'waters', 'well', 'were', 'what', 'when', 'when', 'when', 'when', 'when', 'when', 'where', 'where', 'where', 'which', 'which', 'which', 'which', 'which', 'whirlwinds', 'white', 'white', 'white', 'white', 'white', 'white', 'whites', 'whose', 'will', 'will', 'will', 'will', 'will', 'will', 'will', 'will', 'will', 'will', 'will', 'will', 'will', 'will', 'will', 'will', 'will', 'will', 'will', 'will', 'will', 'will', 'will', 'will', 'will', 'will', 'winds', 'with', 'with', 'with', 'with', 'with', 'with', 'with', 'with', 'with', 'with', 'with', 'with', 'with', 'with', 'with', 'withering', 'words', 'words', 'words', 'work', 'work', 'would', 'would', 'wrongful', 'wrote', 'years', 'years', 'years', 'years', 'years', 'york', 'your']\n"
          ]
        }
      ]
    },
    {
      "cell_type": "code",
      "source": [
        "# 단어별 개수 세기\n",
        "char_count = {}  # 딕셔너리를 만들기 위한 빈 세트 만들기\n",
        "\n",
        "for ch in msg_wd2:  # txt 문자열에서 하나씩 조회하기\n",
        "  if ch in char_count.keys():  # char_count 세트에 ch가 있다면\n",
        "    char_count[ch] += 1  # 해당 ch 키에 해당하는 값을 1 증가시킴(update)\n",
        "  else:  # char_count 세트에 ch가 없다면\n",
        "    char_count[ch] = 1  # ch를 키로하고 값은 1로 insert\n",
        "\n",
        "print(char_count)"
      ],
      "metadata": {
        "colab": {
          "base_uri": "https://localhost:8080/"
        },
        "id": "4aRv0XDe1roy",
        "outputId": "bb9ad944-c5ae-4f23-d126-1120ecfc5d44"
      },
      "execution_count": 62,
      "outputs": [
        {
          "output_type": "stream",
          "name": "stdout",
          "text": [
            "{'able': 8, 'again': 2, 'alleghenies': 1, 'allow': 2, 'also': 1, 'always': 1, 'america': 5, 'american': 3, 'architects': 1, 'areas': 1, 'asking': 1, 'autumn': 1, 'awakening': 1, 'back': 8, 'bank': 1, 'basic': 1, 'battered': 1, 'beacon': 1, 'beautiful': 1, 'become': 1, 'been': 2, 'believe': 2, 'believes': 1, 'bitterness': 1, 'black': 4, 'blow': 1, 'bound': 1, 'boys': 2, 'bright': 1, 'business': 1, 'came': 2, 'cannot': 6, 'capital': 1, 'cash': 2, 'chains': 1, 'check': 3, 'children': 3, 'citizens': 1, 'citizenship': 1, 'civil': 1, 'color': 2, 'come': 10, 'community': 1, 'conduct': 1, 'constitution': 1, 'content': 2, 'continue': 2, 'cooling': 1, 'corners': 1, 'created': 1, 'creative': 2, 'crippled': 1, 'crooked': 1, 'curvaceous': 1, 'dark': 1, 'daybreak': 1, 'declaration': 1, 'decree': 1, 'deeply': 1, 'defaulted': 1, 'degenerate': 1, 'demand': 1, 'demonstration': 1, 'desolate': 1, 'despair': 1, 'destiny': 1, 'devotees': 1, 'difficulties': 1, 'dignity': 2, 'discontent': 1, 'discords': 1, 'distrust': 1, 'down': 4, 'dramatize': 1, 'dream': 9, 'drinking': 1, 'dripping': 1, 'drug': 1, 'emancipation': 1, 'engage': 1, 'engulfed': 1, 'even': 2, 'every': 10, 'evidenced': 1, 'exile': 1, 'face': 1, 'faith': 5, 'fall': 1, 'fatal': 1, 'fathers': 1, 'fatigue': 1, 'fierce': 1, 'finds': 1, 'five': 1, 'flames': 1, 'flesh': 1, 'force': 1, 'forever': 1, 'former': 2, 'foundations': 1, 'four': 1, 'free': 3, 'freedom': 19, 'fresh': 1, 'from': 18, 'funds': 1, 'gain': 1, 'gaining': 1, 'georgia': 1, 'ghetto': 1, 'ghettos': 1, 'girls': 2, 'give': 1, 'given': 1, 'glory': 1, 'governor': 1, 'granted': 1, 'great': 5, 'greatest': 1, 'guaranteed': 1, 'guilty': 1, 'hallowed': 1, 'hands': 2, 'happy': 1, 'have': 20, 'having': 1, 'heat': 2, 'heavy': 1, 'heightening': 1, 'heights': 1, 'here': 3, 'high': 1, 'highways': 1, 'hill': 2, 'hills': 1, 'hilltops': 1, 'himself': 1, 'history': 2, 'hold': 1, 'honoring': 1, 'hope': 2, 'horrors': 1, 'hotels': 1, 'hundred': 4, 'inextricably': 1, 'injustice': 1, 'insofar': 1, 'instead': 1, 'insufficient': 1, 'interposition': 1, 'into': 4, 'invigorating': 1, 'island': 1, 'jail': 2, 'jangling': 1, 'jews': 1, 'join': 3, 'joyous': 1, 'judged': 1, 'justice': 4, 'knowing': 2, 'land': 3, 'languishing': 1, 'larger': 1, 'lead': 1, 'leads': 1, 'left': 1, 'legitimate': 1, 'life': 1, 'lift': 1, 'light': 1, 'like': 2, 'lips': 1, 'little': 3, 'live': 2, 'lives': 1, 'lodging': 1, 'lonely': 1, 'long': 6, 'lookout': 1, 'lord': 1, 'luxury': 1, 'made': 3, 'magnificent': 1, 'majestic': 1, 'make': 3, 'manacles': 1, 'many': 1, 'march': 1, 'marked': 1, 'marvelous': 1, 'material': 1, 'meaning': 1, 'meeting': 1, 'midst': 1, 'mighty': 2, 'militancy': 1, 'millions': 1, 'mississippi': 1, 'mobility': 1, 'molehill': 1, 'momentous': 1, 'motels': 1, 'mountain': 4, 'mountains': 1, 'must': 8, 'narrow': 1, 'nation': 8, 'needed': 1, 'negro': 13, 'neither': 1, 'never': 3, 'night': 1, 'nineteen': 1, 'northern': 1, 'note': 3, 'nothing': 1, 'oasis': 1, 'obvious': 1, 'ocean': 1, 'only': 1, 'opportunity': 1, 'overlook': 1, 'owners': 1, 'palace': 1, 'pass': 1, 'path': 1, 'people': 2, 'persecution': 1, 'physical': 2, 'place': 1, 'places': 2, 'plane': 1, 'pledge': 1, 'police': 2, 'poverty': 1, 'pray': 1, 'presence': 1, 'process': 1, 'prodigious': 1, 'promise': 1, 'promises': 1, 'promissory': 2, 'protest': 1, 'protestants': 1, 'pursuit': 1, 'quest': 1, 'quick': 1, 'racial': 2, 'real': 1, 'reality': 1, 'realize': 2, 'refuse': 2, 'remind': 1, 'republic': 1, 'rest': 1, 'returns': 1, 'revolt': 1, 'riches': 1, 'right': 1, 'righteousness': 1, 'rightful': 1, 'rights': 1, 'ring': 9, 'rise': 3, 'robbed': 1, 'rock': 1, 'rockies': 1, 'rolls': 1, 'rooted': 1, 'rough': 1, 'rude': 1, 'sacred': 1, 'sadly': 1, 'sands': 1, 'satisfied': 5, 'satisfy': 1, 'score': 1, 'seared': 1, 'security': 1, 'seek': 1, 'segregation': 2, 'selfhood': 1, 'sense': 1, 'shadow': 1, 'shake': 1, 'shall': 5, 'shameful': 1, 'signed': 1, 'signing': 1, 'signs': 1, 'sing': 2, 'sisters': 1, 'situation': 1, 'slave': 1, 'slaves': 2, 'slopes': 1, 'slums': 1, 'smaller': 1, 'snowcapped': 1, 'society': 1, 'solid': 1, 'some': 3, 'somehow': 1, 'something': 1, 'sons': 2, 'soul': 1, 'south': 2, 'speed': 1, 'spot': 1, 'staggered': 1, 'stand': 3, 'state': 3, 'stating': 1, 'steam': 1, 'still': 4, 'stone': 2, 'storms': 1, 'stripped': 1, 'struggle': 2, 'suffering': 1, 'summer': 1, 'sunlit': 1, 'sweet': 1, 'sweltering': 3, 'symbolic': 1, 'symphony': 1, 'table': 1, 'take': 1, 'thank': 1, 'that': 23, 'thee': 1, 'their': 8, 'there': 6, 'these': 1, 'they': 3, 'thirst': 1, 'this': 19, 'those': 2, 'though': 1, 'threshold': 1, 'tied': 1, 'time': 5, 'today': 4, 'together': 1, 'tranquility': 1, 'tranquilizing': 1, 'transform': 1, 'transformed': 1, 'trials': 1, 'true': 1, 'truths': 1, 'turn': 1, 'unalienable': 1, 'unearned': 1, 'unmindful': 1, 'unspeakable': 1, 'until': 4, 'upon': 1, 'urgency': 2, 'valley': 3, 'vast': 1, 'vaults': 1, 'veterans': 1, 'vicious': 1, 'victim': 1, 'village': 1, 'vote': 1, 'walk': 1, 'wallow': 1, 'warm': 1, 'waters': 1, 'well': 1, 'were': 1, 'what': 1, 'when': 6, 'where': 3, 'which': 5, 'whirlwinds': 1, 'white': 6, 'whites': 1, 'whose': 1, 'will': 26, 'winds': 1, 'with': 15, 'withering': 1, 'words': 3, 'work': 2, 'would': 2, 'wrongful': 1, 'wrote': 1, 'years': 5, 'york': 1, 'your': 1}\n"
          ]
        }
      ]
    },
    {
      "cell_type": "code",
      "source": [
        "# 등장횟수가 많은 문자 TOP 10 출력\n",
        "top_10 = sorted(char_count.items(), key=lambda x: x[1], reverse=True)  # 값을 기준으로 딕셔너리 내림차순 정렬\n",
        "cnt = 0  # 상위 10개까지 카운트하기 위해 cnt 변수 초기화\n",
        "answer_list = []  # 상위 10개에 해당하는 단어를 담을 리스트 초기화\n",
        "\n",
        "for i in top_10:\n",
        "  answer_list.append(i[0])  # 정답 리스트에 i의 key만 append\n",
        "  cnt += 1  #  append 횟수 카운트\n",
        "  if cnt == 10:  # append 횟수가 10이 된다면 반복문 멈추기\n",
        "    break\n",
        "\n",
        "print(answer_list)"
      ],
      "metadata": {
        "colab": {
          "base_uri": "https://localhost:8080/"
        },
        "id": "wL3NHBfP6kH7",
        "outputId": "23348aa6-1e73-4617-bd84-6bb7f2e346c4"
      },
      "execution_count": 63,
      "outputs": [
        {
          "output_type": "stream",
          "name": "stdout",
          "text": [
            "['will', 'that', 'have', 'freedom', 'this', 'from', 'with', 'negro', 'come', 'every']\n"
          ]
        }
      ]
    },
    {
      "cell_type": "markdown",
      "source": [
        "- items(): 키와 값을 튜플 형태로 출력\n",
        "- sorted(정렬할 대상, 정렬 기준 key 지정, reverse 여부): 여기서는 items로 뽑아낸 튜플의 1번 인덱스(개수)를 기준으로 내림차순 정렬"
      ],
      "metadata": {
        "id": "_LMdaMzFUF2q"
      }
    },
    {
      "cell_type": "code",
      "source": [
        "# 위의 과정을 사용자 정의 함수로 만들기\n",
        "def top_ten_word2(msg):\n",
        "  # 단어를 공백 기준으로 리스트에 집어넣기\n",
        "  msg = msg.replace('\\n', ' ')  # 엔터를 공백으로 처리하기\n",
        "  msg = msg.lower()  # 모두 소문자로 바꾸기\n",
        "  msg_wd1 = msg.split()  # 공백을 기준으로 나누기\n",
        "  msg_wd1 = sorted(msg_wd1)\n",
        "\n",
        "  # 3글자 이하인 단어 제외 + 문자가 아닌 경우 제외(ex. \"for, -yes 등)\n",
        "  msg_wd2 = []\n",
        "  for wd in msg_wd1:\n",
        "    if len(wd) > 3 and wd.isalpha():  # 단어의 길이가 3초과일 경우\n",
        "      msg_wd2.append(wd)  # msg_wd2 리스트에 단어를 append\n",
        "\n",
        "  # 단어별 개수 세기\n",
        "  char_count = {}  # 딕셔너리를 만들기 위한 빈 세트 만들기\n",
        "  for ch in msg_wd2:  # txt 문자열에서 하나씩 조회하기\n",
        "    if ch in char_count.keys():  # char_count 세트에 ch가 있다면\n",
        "      char_count[ch] += 1  # 해당 ch 키에 해당하는 값을 1 증가시킴(update)\n",
        "    else:  # char_count 세트에 ch가 없다면\n",
        "      char_count[ch] = 1  # ch를 키로하고 값은 1로 insert\n",
        "\n",
        "  # 등장횟수가 많은 문자 TOP 10 출력\n",
        "  top_10 = sorted(char_count.items(), key=lambda x: x[1], reverse=True)  # 값을 기준으로 딕셔너리 내림차순 정렬\n",
        "  cnt = 0  # 상위 10개까지 카운트하기 위해 cnt 변수 초기화\n",
        "  answer_list = []  # 상위 10개에 해당하는 단어를 담을 리스트 초기화\n",
        "  for i in top_10:\n",
        "    answer_list.append(i[0])  # 정답 리스트에 i의 key만 append\n",
        "    cnt += 1  #  append 횟수 카운트\n",
        "    if cnt == 10:  # append 횟수가 10이 된다면 반복문 멈추기\n",
        "      break\n",
        "\n",
        "  return answer_list"
      ],
      "metadata": {
        "id": "bzF0gwofEPv7"
      },
      "execution_count": 64,
      "outputs": []
    },
    {
      "cell_type": "code",
      "source": [
        "print(answer_list)"
      ],
      "metadata": {
        "colab": {
          "base_uri": "https://localhost:8080/"
        },
        "id": "FwcvVgNlFRy6",
        "outputId": "250ce7e2-fa91-4fe9-ac89-1533e0ca0a71"
      },
      "execution_count": 65,
      "outputs": [
        {
          "output_type": "stream",
          "name": "stdout",
          "text": [
            "['will', 'that', 'have', 'freedom', 'this', 'from', 'with', 'negro', 'come', 'every']\n"
          ]
        }
      ]
    }
  ]
}