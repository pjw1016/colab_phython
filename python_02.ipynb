{
  "nbformat": 4,
  "nbformat_minor": 0,
  "metadata": {
    "colab": {
      "provenance": [],
      "authorship_tag": "ABX9TyNxa7UcfnxUcVX4QzYjcJ6K",
      "include_colab_link": true
    },
    "kernelspec": {
      "name": "python3",
      "display_name": "Python 3"
    },
    "language_info": {
      "name": "python"
    }
  },
  "cells": [
    {
      "cell_type": "markdown",
      "metadata": {
        "id": "view-in-github",
        "colab_type": "text"
      },
      "source": [
        "<a href=\"https://colab.research.google.com/github/pjw1016/colab_phython/blob/main/python_02.ipynb\" target=\"_parent\"><img src=\"https://colab.research.google.com/assets/colab-badge.svg\" alt=\"Open In Colab\"/></a>"
      ]
    },
    {
      "cell_type": "markdown",
      "source": [
        "# **<파이썬 프로그래밍 기초(2)>**"
      ],
      "metadata": {
        "id": "7zTCpJbX1R7G"
      }
    },
    {
      "cell_type": "markdown",
      "source": [
        "**리스트**"
      ],
      "metadata": {
        "id": "QQx-zuseOAaq"
      }
    },
    {
      "cell_type": "code",
      "execution_count": 1,
      "metadata": {
        "id": "BARZKn26edUW"
      },
      "outputs": [],
      "source": [
        "members = ['윤하원','손형민','오수성','박지원','조재홍',\n",
        "           '이재권','이상욱','강호현','정송희','서민지',\n",
        "           '이랑','백지윤','류효주','이재현','김종현',\n",
        "           '이대현','이효재','두소진','이득규','김재헌',\n",
        "           '김준영','김영경']"
      ]
    },
    {
      "cell_type": "code",
      "source": [
        "print((2025+4+29)%22)\n",
        "print(members[(2025+4+29)%len(members)])  # 날짜를 멤버의 수로 나눈 나머지에 해당하는 값을 리스트의 인덱스로 채택(랜덤 뽑기 느낌)"
      ],
      "metadata": {
        "colab": {
          "base_uri": "https://localhost:8080/"
        },
        "id": "RyhaDElu-zvJ",
        "outputId": "f314d1e9-eab1-4d4a-bdbd-8f65d4cab5af"
      },
      "execution_count": 2,
      "outputs": [
        {
          "output_type": "stream",
          "name": "stdout",
          "text": [
            "12\n",
            "류효주\n"
          ]
        }
      ]
    },
    {
      "cell_type": "markdown",
      "source": [
        "- 인덱스 하나만 지정하면 ‘값’으로 출력됨"
      ],
      "metadata": {
        "id": "tj7hGVcr-9LS"
      }
    },
    {
      "cell_type": "code",
      "source": [
        "members[(2025+4+29)%len(members):(2025+4+29)%len(members)+1]"
      ],
      "metadata": {
        "colab": {
          "base_uri": "https://localhost:8080/"
        },
        "id": "UkuNITL19kwp",
        "outputId": "49fdfa77-8333-47ae-91e8-bc6bca1a30e6"
      },
      "execution_count": 3,
      "outputs": [
        {
          "output_type": "execute_result",
          "data": {
            "text/plain": [
              "['류효주']"
            ]
          },
          "metadata": {},
          "execution_count": 3
        }
      ]
    },
    {
      "cell_type": "markdown",
      "source": [
        "- 인덱스를 범위로 지정하면 리스트로 출력됨"
      ],
      "metadata": {
        "id": "-P0bvXJo_Apr"
      }
    },
    {
      "cell_type": "code",
      "source": [
        "members[(2025+4+29)%len(members):(2025+4+29)%len(members)+2]"
      ],
      "metadata": {
        "colab": {
          "base_uri": "https://localhost:8080/"
        },
        "id": "46ye7EaMAIOK",
        "outputId": "0cbac91f-6fbc-4cf8-f8ef-da1b70ab2f7f"
      },
      "execution_count": 4,
      "outputs": [
        {
          "output_type": "execute_result",
          "data": {
            "text/plain": [
              "['류효주', '이재현']"
            ]
          },
          "metadata": {},
          "execution_count": 4
        }
      ]
    },
    {
      "cell_type": "markdown",
      "source": [
        "- 2개를 출력하고 싶으면 [n:n+2]를 해야 리스트 형태로 값 2개 출력함"
      ],
      "metadata": {
        "id": "XoVCuYyuB2wk"
      }
    },
    {
      "cell_type": "code",
      "source": [
        "# check가 1이면 이름 출력(1)\n",
        "check = [1,0,1,1,0,\n",
        "         1,0,0,0,1,\n",
        "         1,1,0,0,1,\n",
        "         1,1,1,1,0,\n",
        "         0,1]"
      ],
      "metadata": {
        "id": "wra0lcIzwOph"
      },
      "execution_count": 5,
      "outputs": []
    },
    {
      "cell_type": "code",
      "source": [
        "idx = 0\n",
        "\n",
        "for name in members:\n",
        "  if check[idx] == 1:  # check 리스트의 값이 1인 경우 조건문 실행\n",
        "    print(f'안녕하세요~ 제 이름은 {name}입니다!')  # f스트링을 활용하여 이름 출력\n",
        "  idx += 1  # 인덱스를 1씩 증가시키면서 mebers에 있는 이름을 차례로 조회함"
      ],
      "metadata": {
        "colab": {
          "base_uri": "https://localhost:8080/"
        },
        "id": "oGJIC9OJvAW7",
        "outputId": "0b4c376e-e02b-40be-d58f-6f1e152da61d"
      },
      "execution_count": 6,
      "outputs": [
        {
          "output_type": "stream",
          "name": "stdout",
          "text": [
            "안녕하세요~ 제 이름은 윤하원입니다!\n",
            "안녕하세요~ 제 이름은 오수성입니다!\n",
            "안녕하세요~ 제 이름은 박지원입니다!\n",
            "안녕하세요~ 제 이름은 이재권입니다!\n",
            "안녕하세요~ 제 이름은 서민지입니다!\n",
            "안녕하세요~ 제 이름은 이랑입니다!\n",
            "안녕하세요~ 제 이름은 백지윤입니다!\n",
            "안녕하세요~ 제 이름은 김종현입니다!\n",
            "안녕하세요~ 제 이름은 이대현입니다!\n",
            "안녕하세요~ 제 이름은 이효재입니다!\n",
            "안녕하세요~ 제 이름은 두소진입니다!\n",
            "안녕하세요~ 제 이름은 이득규입니다!\n",
            "안녕하세요~ 제 이름은 김영경입니다!\n"
          ]
        }
      ]
    },
    {
      "cell_type": "code",
      "source": [
        "# check가 1이면 이름 출력(2): enumerate()함수 활용\n",
        "for idx, name in enumerate(members):  # enumerate(mebers): members 리스트의 인덱스(idx)와 값(name)을 동시에 받음\n",
        "#  print(idx, name)\n",
        "  if check[idx] == 1:\n",
        "    print(f'안녕하세요~ 제 이름은 {name}입니다!')"
      ],
      "metadata": {
        "colab": {
          "base_uri": "https://localhost:8080/"
        },
        "id": "DzbH4stuy2gA",
        "outputId": "e78ed459-10c5-4f5d-cb9d-863f2f179028"
      },
      "execution_count": 7,
      "outputs": [
        {
          "output_type": "stream",
          "name": "stdout",
          "text": [
            "안녕하세요~ 제 이름은 윤하원입니다!\n",
            "안녕하세요~ 제 이름은 오수성입니다!\n",
            "안녕하세요~ 제 이름은 박지원입니다!\n",
            "안녕하세요~ 제 이름은 이재권입니다!\n",
            "안녕하세요~ 제 이름은 서민지입니다!\n",
            "안녕하세요~ 제 이름은 이랑입니다!\n",
            "안녕하세요~ 제 이름은 백지윤입니다!\n",
            "안녕하세요~ 제 이름은 김종현입니다!\n",
            "안녕하세요~ 제 이름은 이대현입니다!\n",
            "안녕하세요~ 제 이름은 이효재입니다!\n",
            "안녕하세요~ 제 이름은 두소진입니다!\n",
            "안녕하세요~ 제 이름은 이득규입니다!\n",
            "안녕하세요~ 제 이름은 김영경입니다!\n"
          ]
        }
      ]
    },
    {
      "cell_type": "markdown",
      "source": [
        "- enumerate(a): 1개의 리스트에서 해당 데이터의 인덱스와 값을 출력"
      ],
      "metadata": {
        "id": "GShFN_-X2EVB"
      }
    },
    {
      "cell_type": "code",
      "source": [
        "# check가 1이면 이름 출력(3): check()함수 활용\n",
        "for name, chk in zip(members, check):  # zip(members, check): members와 check의 0번째 인덱스 값을 동시에 받음\n",
        "#  print(name, chk)\n",
        "  if chk == 1:\n",
        "    print(f'안녕하세요~ 제 이름은 {name}입니다!')"
      ],
      "metadata": {
        "colab": {
          "base_uri": "https://localhost:8080/"
        },
        "id": "CsMAgcduy-_p",
        "outputId": "48bba00d-c9b7-477f-e6e4-1f2feacbec06"
      },
      "execution_count": 8,
      "outputs": [
        {
          "output_type": "stream",
          "name": "stdout",
          "text": [
            "안녕하세요~ 제 이름은 윤하원입니다!\n",
            "안녕하세요~ 제 이름은 오수성입니다!\n",
            "안녕하세요~ 제 이름은 박지원입니다!\n",
            "안녕하세요~ 제 이름은 이재권입니다!\n",
            "안녕하세요~ 제 이름은 서민지입니다!\n",
            "안녕하세요~ 제 이름은 이랑입니다!\n",
            "안녕하세요~ 제 이름은 백지윤입니다!\n",
            "안녕하세요~ 제 이름은 김종현입니다!\n",
            "안녕하세요~ 제 이름은 이대현입니다!\n",
            "안녕하세요~ 제 이름은 이효재입니다!\n",
            "안녕하세요~ 제 이름은 두소진입니다!\n",
            "안녕하세요~ 제 이름은 이득규입니다!\n",
            "안녕하세요~ 제 이름은 김영경입니다!\n"
          ]
        }
      ]
    },
    {
      "cell_type": "markdown",
      "source": [
        "- zip(a, b): 2개의 리스트에서 같은 인덱스에 해당하는 값을 쌍으로 출력"
      ],
      "metadata": {
        "id": "PSPkg3GQ2mSp"
      }
    },
    {
      "cell_type": "code",
      "source": [
        "# check가 1인 사람들의 이름만 리스트로 출력\n",
        "chk_names = []  # 빈 리스트를 만듦\n",
        "\n",
        "for name, chk in zip(members, check):  # zip함수를 활용하여 2개의 리스트로부터 값을 쌍으로 순차 조회\n",
        "  if chk == 1:\n",
        "    chk_names.append(name)  # check의 값이 1이라면 빈 리스트에 이름을 append\n",
        "\n",
        "print(chk_names)"
      ],
      "metadata": {
        "colab": {
          "base_uri": "https://localhost:8080/"
        },
        "id": "2-d6pl2PzmmS",
        "outputId": "8ac3ab95-f503-48c9-fd5a-09ea6b75992c"
      },
      "execution_count": 9,
      "outputs": [
        {
          "output_type": "stream",
          "name": "stdout",
          "text": [
            "['윤하원', '오수성', '박지원', '이재권', '서민지', '이랑', '백지윤', '김종현', '이대현', '이효재', '두소진', '이득규', '김영경']\n"
          ]
        }
      ]
    },
    {
      "cell_type": "markdown",
      "source": [
        "**함수**"
      ],
      "metadata": {
        "id": "Z95_i-nwrxFb"
      }
    },
    {
      "cell_type": "code",
      "source": [
        "# check가 1인 사람을 출력하는 함수 만들기(1): c가 1인 사람 출력\n",
        "def find_checked_names(names, checks):  # def문을 통해 함수이름과 매개변수를 지정\n",
        "  retNames = []  # return할 이름을 담을 빈 리스트 변수 선언\n",
        "\n",
        "  for n, c in zip(names, checks):  # zip함수를 통해 두 리스트의 값을 쌍으로 n, c에 할당\n",
        "    if c == 1:\n",
        "      retNames.append(n)  # c가 1일 경우 retNames 리스트에 이름을 append\n",
        "  return retNames  # retNames 리스트 반환"
      ],
      "metadata": {
        "id": "0tqHkHyl0w5K"
      },
      "execution_count": 10,
      "outputs": []
    },
    {
      "cell_type": "code",
      "source": [
        "ret = find_checked_names(members, check)  # ret 변수에 위에서 선언한 함수의 반환값을 저장\n",
        "print(ret)  # 함수 반환값 출력"
      ],
      "metadata": {
        "colab": {
          "base_uri": "https://localhost:8080/"
        },
        "id": "DZEFtwuG1UiB",
        "outputId": "a1b63625-2354-4b77-893d-5d544dfdd416"
      },
      "execution_count": 11,
      "outputs": [
        {
          "output_type": "stream",
          "name": "stdout",
          "text": [
            "['윤하원', '오수성', '박지원', '이재권', '서민지', '이랑', '백지윤', '김종현', '이대현', '이효재', '두소진', '이득규', '김영경']\n"
          ]
        }
      ]
    },
    {
      "cell_type": "code",
      "source": [
        "# check가 1인 사람을 출력하는 함수 만들기(2): c가 num인 사람 출력(좀 더 소프트 코딩을 함)\n",
        "def find_checked_names(names, checks, num):  # num 매개변수를 3번째로 추가\n",
        "  retNames = []\n",
        "\n",
        "  for n, c in zip(names, checks):\n",
        "    if c == num:  # c가 함수의 3번째 매개변수인 num과 비교하여 1일 경우 조건문 실행\n",
        "      retNames.append(n)\n",
        "  return retNames"
      ],
      "metadata": {
        "id": "ETGgGk524VrK"
      },
      "execution_count": 12,
      "outputs": []
    },
    {
      "cell_type": "code",
      "source": [
        "ret = find_checked_names(members, check, 0) # c가 0인 사람 출력\n",
        "print(ret)"
      ],
      "metadata": {
        "colab": {
          "base_uri": "https://localhost:8080/"
        },
        "id": "l1os6e7v4rHB",
        "outputId": "d6c4926c-0a47-43b4-e36f-d91d2b28daad"
      },
      "execution_count": 13,
      "outputs": [
        {
          "output_type": "stream",
          "name": "stdout",
          "text": [
            "['손형민', '조재홍', '이상욱', '강호현', '정송희', '류효주', '이재현', '김재헌', '김준영']\n"
          ]
        }
      ]
    },
    {
      "cell_type": "code",
      "source": [
        "# check가 1인 사람을 출력하는 함수 만들기(3): c가 num인 사람 출력(단, num의 디폴트값은 1로 지정)\n",
        "def find_checked_names(names, checks, num=1):\n",
        "  retNames = []\n",
        "\n",
        "  for n, c in zip(names, checks):\n",
        "    if c == num:\n",
        "      retNames.append(n)\n",
        "  return retNames"
      ],
      "metadata": {
        "id": "Go9R96Ol45Wq"
      },
      "execution_count": 14,
      "outputs": []
    },
    {
      "cell_type": "code",
      "source": [
        "ret = find_checked_names(members, check) # c가 1인 사람 출력(num 파라미터를 생략하면 1로 인식)\n",
        "print(ret)"
      ],
      "metadata": {
        "colab": {
          "base_uri": "https://localhost:8080/"
        },
        "id": "yMHM9InV5AIR",
        "outputId": "30fd9f9f-81a3-4a73-8499-a69a3f53a423"
      },
      "execution_count": 15,
      "outputs": [
        {
          "output_type": "stream",
          "name": "stdout",
          "text": [
            "['윤하원', '오수성', '박지원', '이재권', '서민지', '이랑', '백지윤', '김종현', '이대현', '이효재', '두소진', '이득규', '김영경']\n"
          ]
        }
      ]
    },
    {
      "cell_type": "code",
      "source": [
        "# x^2+y^2= Z^2인 x, y, z를 한 묶음의 리스트로 출력\n",
        "a = []  # [x, y, z]를 담을 빈 리스트 선언\n",
        "\n",
        "for x in range(1, 30):\n",
        "  for y in range(1, 30):\n",
        "    for z in range(1, 30):\n",
        "      if x**2 + y**2 == z**2:\n",
        "        a.append([x, y, z])  # 문제 조건을 만족한 경우 빈 리스트에 append\n",
        "\n",
        "print(a)"
      ],
      "metadata": {
        "colab": {
          "base_uri": "https://localhost:8080/"
        },
        "id": "fwr4NV9T9hEZ",
        "outputId": "8034a831-b290-434d-f34b-23c82a5c8afc"
      },
      "execution_count": 16,
      "outputs": [
        {
          "output_type": "stream",
          "name": "stdout",
          "text": [
            "[[3, 4, 5], [4, 3, 5], [5, 12, 13], [6, 8, 10], [7, 24, 25], [8, 6, 10], [8, 15, 17], [9, 12, 15], [10, 24, 26], [12, 5, 13], [12, 9, 15], [12, 16, 20], [15, 8, 17], [15, 20, 25], [16, 12, 20], [20, 15, 25], [20, 21, 29], [21, 20, 29], [24, 7, 25], [24, 10, 26]]\n"
          ]
        }
      ]
    },
    {
      "cell_type": "code",
      "source": [
        "# x^2+y^2= Z^2인 x, y, z를 한 묶음의 리스트로 출력(중첩 제외)\n",
        "a = []\n",
        "\n",
        "for x in range(1, 30):\n",
        "  for y in range(x, 30):  # x부터 29까지\n",
        "    for z in range(y, 30):  # y부터 29까지\n",
        "      if x**2 + y**2 == z**2:\n",
        "        a.append([x, y, z])\n",
        "\n",
        "print(a)"
      ],
      "metadata": {
        "colab": {
          "base_uri": "https://localhost:8080/"
        },
        "id": "cNDo5yBODnLf",
        "outputId": "b6ae9083-27e6-43db-d333-98fbafc9feea"
      },
      "execution_count": 17,
      "outputs": [
        {
          "output_type": "stream",
          "name": "stdout",
          "text": [
            "[[3, 4, 5], [5, 12, 13], [6, 8, 10], [7, 24, 25], [8, 15, 17], [9, 12, 15], [10, 24, 26], [12, 16, 20], [15, 20, 25], [20, 21, 29]]\n"
          ]
        }
      ]
    },
    {
      "cell_type": "code",
      "source": [
        "# 위의 문제를 간략하게 풀이하는 법(중첩 제외)\n",
        "a = [[x,y,z] for x in range(1, 30) for y in range(x, 30) for z in range(y, 30) if (x*x + y*y == z*z)]\n",
        "print(a)"
      ],
      "metadata": {
        "colab": {
          "base_uri": "https://localhost:8080/"
        },
        "id": "8AImeZCzIpP4",
        "outputId": "0357f272-68dd-41d3-a12c-35e968ad9b10"
      },
      "execution_count": 18,
      "outputs": [
        {
          "output_type": "stream",
          "name": "stdout",
          "text": [
            "[[3, 4, 5], [5, 12, 13], [6, 8, 10], [7, 24, 25], [8, 15, 17], [9, 12, 15], [10, 24, 26], [12, 16, 20], [15, 20, 25], [20, 21, 29]]\n"
          ]
        }
      ]
    },
    {
      "cell_type": "markdown",
      "source": [
        "- 이 방식을 파이썬 인터프리터는 더 선호"
      ],
      "metadata": {
        "id": "KXCMwkxjJCoP"
      }
    },
    {
      "cell_type": "code",
      "source": [
        "# ???심화: x^2+y^2= Z^2인 x, y, z를 한 묶음의 리스트로 출력(중첩 제외, for문 2번만 쓰기)\n",
        "a = []\n",
        "\n",
        "for x in range(1, 30):\n",
        "  for y in range(x, 30):  # x부터 29까지\n",
        "    z = (x**2 + y**2)**(1/2)  # 제곱근은 **(1/2)를 하면 됨. 만약 sqrt()를 쓰려면 from math import sqrt를 해야함.\n",
        "    zi = int(z)  # 위에서 z는 제곱근을 했기 때문에 실수형(float)이 되어버림. 따라서 정수 형변환 필요.\n",
        "    if (z == zi and z < 30):  # z가 정수이면서 동시에 z가 30보다 작은 경우 조건문 실행.\n",
        "      a.append([x,y,zi])\n",
        "\n",
        "print(a)"
      ],
      "metadata": {
        "colab": {
          "base_uri": "https://localhost:8080/"
        },
        "id": "D7ucNOeiEGlX",
        "outputId": "eb9263d2-31f6-4024-f4f3-5c1a75f31ecf"
      },
      "execution_count": 19,
      "outputs": [
        {
          "output_type": "stream",
          "name": "stdout",
          "text": [
            "[[3, 4, 5], [5, 12, 13], [6, 8, 10], [7, 24, 25], [8, 15, 17], [9, 12, 15], [10, 24, 26], [12, 16, 20], [15, 20, 25], [20, 21, 29]]\n"
          ]
        }
      ]
    },
    {
      "cell_type": "code",
      "source": [
        "# ???심화: 가장 많이 나온 숫자 출력하기\n",
        "testlst = [x for x in range(20)] + [x for x in range(5)] + [x for x in range(1,20,2)]\n",
        "print(testlst)"
      ],
      "metadata": {
        "colab": {
          "base_uri": "https://localhost:8080/"
        },
        "id": "tKqUhQwdMsvo",
        "outputId": "1bd50cf0-3aa5-4889-c34b-e1bb30c4810b"
      },
      "execution_count": 20,
      "outputs": [
        {
          "output_type": "stream",
          "name": "stdout",
          "text": [
            "[0, 1, 2, 3, 4, 5, 6, 7, 8, 9, 10, 11, 12, 13, 14, 15, 16, 17, 18, 19, 0, 1, 2, 3, 4, 1, 3, 5, 7, 9, 11, 13, 15, 17, 19]\n"
          ]
        }
      ]
    },
    {
      "cell_type": "code",
      "source": [
        "print(set(testlst))  # 집합(set)은 중복을 제거함"
      ],
      "metadata": {
        "colab": {
          "base_uri": "https://localhost:8080/"
        },
        "id": "2fVHEhFSSiIx",
        "outputId": "d0cb7077-967d-4010-f41f-dd540c5710d3"
      },
      "execution_count": 21,
      "outputs": [
        {
          "output_type": "stream",
          "name": "stdout",
          "text": [
            "{0, 1, 2, 3, 4, 5, 6, 7, 8, 9, 10, 11, 12, 13, 14, 15, 16, 17, 18, 19}\n"
          ]
        }
      ]
    },
    {
      "cell_type": "code",
      "source": [
        "maxValue = 0  # 개수가 가장 많은 값의 value\n",
        "maxCnt = 0  # 개수가 가장 많은 값의 count\n",
        "\n",
        "for i in set(testlst):  # 집합(set)으로 형 변환하여 중복 제거\n",
        "  if maxCnt <= testlst.count(i):  # 현재의 maxCnt보다 크거나 같은 개수가 나오면 해당 값으로 업데이트\n",
        "    maxCnt = testlst.count(i)\n",
        "    maxValue = i  # 큰 개수가 나온 값 i를 Value로 저장\n",
        "\n",
        "print(maxValue, maxCnt)"
      ],
      "metadata": {
        "colab": {
          "base_uri": "https://localhost:8080/"
        },
        "id": "GvASTinmPzFJ",
        "outputId": "213dd84c-28ca-4d09-a2b6-b044ff82a198"
      },
      "execution_count": 22,
      "outputs": [
        {
          "output_type": "stream",
          "name": "stdout",
          "text": [
            "3 3\n"
          ]
        }
      ]
    },
    {
      "cell_type": "markdown",
      "source": [
        "- 이 경우 maxCnt <= testlst.count(i)이기 때문에 개수가 가장 많은 값이 중복될 경우 list의 마지막에 있는 값이 출력됨"
      ],
      "metadata": {
        "id": "zwWVPCoPwMRg"
      }
    },
    {
      "cell_type": "code",
      "source": [
        "maxValue = 0  # 개수가 가장 많은 값의 value\n",
        "maxCnt = 0  # 개수가 가장 많은 값의 count\n",
        "\n",
        "for i in set(testlst):  # 집합(set)으로 형 변환하여 중복 제거\n",
        "  if maxCnt < testlst.count(i):  # 현재의 maxCnt보다 큰 개수가 나오면 해당 값으로 업데이트\n",
        "    maxCnt = testlst.count(i)\n",
        "    maxValue = i  # 새로운 값 i를 value로 저장\n",
        "\n",
        "print(maxValue, maxCnt)"
      ],
      "metadata": {
        "colab": {
          "base_uri": "https://localhost:8080/"
        },
        "id": "dyuaxKOdv3I4",
        "outputId": "75c86819-0073-4ccf-ae56-1c0848c9750b"
      },
      "execution_count": 23,
      "outputs": [
        {
          "output_type": "stream",
          "name": "stdout",
          "text": [
            "1 3\n"
          ]
        }
      ]
    },
    {
      "cell_type": "markdown",
      "source": [
        "- 이 경우 maxCnt < testlst.count(i)이기 때문에 개수가 가장 많은 값이 중복될 경우 list의 첫번째에 있는 값이 출력됨"
      ],
      "metadata": {
        "id": "hdsy8BRjwcaQ"
      }
    },
    {
      "cell_type": "code",
      "source": [
        "# 가장 많이 나온 숫자 출력하는 함수 정의하기\n",
        "def find_maxValue_maxCount(lst):  # lst를 매개변수로 받는 사용자 정의 함수\n",
        "  maxValue = 0\n",
        "  maxCnt = 0\n",
        "\n",
        "  for i in set(lst):  # 집합(set)으로 형 변환하여 중복 제거\n",
        "    if maxCnt <= lst.count(i):\n",
        "      maxCnt = lst.count(i)\n",
        "      maxValue = i  # 새로운 값 i를 value로 저장\n",
        "  return maxValue, maxCnt"
      ],
      "metadata": {
        "id": "kfOetWXdWAq_"
      },
      "execution_count": 24,
      "outputs": []
    },
    {
      "cell_type": "code",
      "source": [
        "x, y = find_maxValue_maxCount(testlst)\n",
        "print(x, y)"
      ],
      "metadata": {
        "colab": {
          "base_uri": "https://localhost:8080/"
        },
        "id": "Cx5Q7OBrWg6o",
        "outputId": "6c062868-6651-48f5-91f9-6534bfbbccb7"
      },
      "execution_count": 25,
      "outputs": [
        {
          "output_type": "stream",
          "name": "stdout",
          "text": [
            "3 3\n"
          ]
        }
      ]
    }
  ]
}