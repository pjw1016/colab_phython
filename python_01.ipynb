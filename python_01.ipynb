{
  "nbformat": 4,
  "nbformat_minor": 0,
  "metadata": {
    "colab": {
      "provenance": [],
      "authorship_tag": "ABX9TyMF2XnkStp57BIlt6EV8We9",
      "include_colab_link": true
    },
    "kernelspec": {
      "name": "python3",
      "display_name": "Python 3"
    },
    "language_info": {
      "name": "python"
    }
  },
  "cells": [
    {
      "cell_type": "markdown",
      "metadata": {
        "id": "view-in-github",
        "colab_type": "text"
      },
      "source": [
        "<a href=\"https://colab.research.google.com/github/pjw1016/phython_practice/blob/main/python_01.ipynb\" target=\"_parent\"><img src=\"https://colab.research.google.com/assets/colab-badge.svg\" alt=\"Open In Colab\"/></a>"
      ]
    },
    {
      "cell_type": "markdown",
      "source": [
        "# **<파이썬 프로그래밍 기초(1)>**"
      ],
      "metadata": {
        "id": "pV14bS7vEkH5"
      }
    },
    {
      "cell_type": "code",
      "source": [
        "a = 10\n",
        "print(a)"
      ],
      "metadata": {
        "id": "RHlP7IyaEctZ",
        "colab": {
          "base_uri": "https://localhost:8080/"
        },
        "outputId": "fb7a30b5-bebe-4ee9-d4a1-e10b2a6c7ec9"
      },
      "execution_count": 1,
      "outputs": [
        {
          "output_type": "stream",
          "name": "stdout",
          "text": [
            "10\n"
          ]
        }
      ]
    },
    {
      "cell_type": "code",
      "source": [
        "a = 100\n",
        "print(a)"
      ],
      "metadata": {
        "id": "OFQY-m_lFHrp",
        "colab": {
          "base_uri": "https://localhost:8080/"
        },
        "outputId": "c2a923a7-5a45-4ebc-86b5-ef7340fe9b56"
      },
      "execution_count": 2,
      "outputs": [
        {
          "output_type": "stream",
          "name": "stdout",
          "text": [
            "100\n"
          ]
        }
      ]
    },
    {
      "cell_type": "markdown",
      "source": [
        "**if문**"
      ],
      "metadata": {
        "id": "TyBabt3_xnyj"
      }
    },
    {
      "cell_type": "code",
      "source": [
        "if a > 10:\n",
        "  print(a)\n",
        "print('done')"
      ],
      "metadata": {
        "colab": {
          "base_uri": "https://localhost:8080/"
        },
        "id": "0cllhndvICgg",
        "outputId": "3cfa3014-ed86-4e06-e326-07cc973afb61"
      },
      "execution_count": 3,
      "outputs": [
        {
          "output_type": "stream",
          "name": "stdout",
          "text": [
            "100\n",
            "done\n"
          ]
        }
      ]
    },
    {
      "cell_type": "markdown",
      "source": [
        "**반복문(for문)**"
      ],
      "metadata": {
        "id": "pVOuSY13tvES"
      }
    },
    {
      "cell_type": "code",
      "source": [
        "for a in [1, 2, 3]:\n",
        "  for b in [10, 20, 30]:\n",
        "    if a != 2:\n",
        "     print(b)\n",
        "  print(a)\n",
        "print('done')"
      ],
      "metadata": {
        "colab": {
          "base_uri": "https://localhost:8080/"
        },
        "id": "7FSUiMitt1Z5",
        "outputId": "8b46bab0-f74b-4b57-a671-266d6a90c704"
      },
      "execution_count": 4,
      "outputs": [
        {
          "output_type": "stream",
          "name": "stdout",
          "text": [
            "10\n",
            "20\n",
            "30\n",
            "1\n",
            "2\n",
            "10\n",
            "20\n",
            "30\n",
            "3\n",
            "done\n"
          ]
        }
      ]
    },
    {
      "cell_type": "code",
      "source": [
        "# [문제] a = 2 일때 b를 출력하지 않기\n",
        "for a in [1, 2, 3]:\n",
        "    for b in [10, 20, 30]:\n",
        "      if b != 20:\n",
        "        print(b)\n",
        "    print(a)\n",
        "print('done')"
      ],
      "metadata": {
        "colab": {
          "base_uri": "https://localhost:8080/"
        },
        "id": "DonYPHsTyheg",
        "outputId": "60d19b11-3e52-42bc-b39c-b0fb05f7c504"
      },
      "execution_count": 5,
      "outputs": [
        {
          "output_type": "stream",
          "name": "stdout",
          "text": [
            "10\n",
            "30\n",
            "1\n",
            "10\n",
            "30\n",
            "2\n",
            "10\n",
            "30\n",
            "3\n",
            "done\n"
          ]
        }
      ]
    },
    {
      "cell_type": "code",
      "source": [
        "# [문제] 위의 틀을 유지한 채 10, 30, 1, 10, 30, 2, 10, 30, 3 의 결과가 나올 수 있도록 구문을 수정해보기\n",
        "for a in [1, 2, 3]:\n",
        "    for b in [10, 20, 30]:\n",
        "      if a == 1 and b != 10:\n",
        "        print(b)\n",
        "      elif a == 2 and b != 20:\n",
        "        print(b)\n",
        "      elif a == 3 and b != 30:\n",
        "        print(b)\n",
        "    print(a)\n",
        "print('done')"
      ],
      "metadata": {
        "colab": {
          "base_uri": "https://localhost:8080/"
        },
        "id": "0S77j7ptzknw",
        "outputId": "69bc5566-98fe-448c-df22-cd452b9b7c54"
      },
      "execution_count": 6,
      "outputs": [
        {
          "output_type": "stream",
          "name": "stdout",
          "text": [
            "20\n",
            "30\n",
            "1\n",
            "10\n",
            "30\n",
            "2\n",
            "10\n",
            "20\n",
            "3\n",
            "done\n"
          ]
        }
      ]
    },
    {
      "cell_type": "markdown",
      "source": [
        "내 방식"
      ],
      "metadata": {
        "id": "nHHYp77i1tqn"
      }
    },
    {
      "cell_type": "code",
      "source": [
        "for a in [1, 2, 3]:\n",
        "    for b in [10, 20, 30]:\n",
        "      if a*10 != b:\n",
        "        print(b)\n",
        "    print(a)\n",
        "print('done')"
      ],
      "metadata": {
        "colab": {
          "base_uri": "https://localhost:8080/"
        },
        "id": "epAzrBqP1d2f",
        "outputId": "6c5e66d2-faf6-4df3-fcb9-e1f8662f4a2f"
      },
      "execution_count": 7,
      "outputs": [
        {
          "output_type": "stream",
          "name": "stdout",
          "text": [
            "20\n",
            "30\n",
            "1\n",
            "10\n",
            "30\n",
            "2\n",
            "10\n",
            "20\n",
            "3\n",
            "done\n"
          ]
        }
      ]
    },
    {
      "cell_type": "markdown",
      "source": [
        "강사님 방식"
      ],
      "metadata": {
        "id": "giWCQCJ_1r1f"
      }
    },
    {
      "cell_type": "code",
      "source": [
        "for a in [1, 2, 3]:\n",
        "    for b in [10, 20, 30]:\n",
        "      if b//a != 10:\n",
        "        print(b)\n",
        "    print(a)\n",
        "print('done')"
      ],
      "metadata": {
        "colab": {
          "base_uri": "https://localhost:8080/"
        },
        "id": "sfuiGt-A13Tf",
        "outputId": "4d180878-54a9-4df2-9733-b1cc3618669e"
      },
      "execution_count": 8,
      "outputs": [
        {
          "output_type": "stream",
          "name": "stdout",
          "text": [
            "20\n",
            "30\n",
            "1\n",
            "10\n",
            "30\n",
            "2\n",
            "10\n",
            "20\n",
            "3\n",
            "done\n"
          ]
        }
      ]
    },
    {
      "cell_type": "markdown",
      "source": [
        "크루님 방식: b를 a로 나눈 몫이 10이 아닐 때 출력"
      ],
      "metadata": {
        "id": "a0Yr3Yxl133f"
      }
    },
    {
      "cell_type": "markdown",
      "source": [
        "**반복문(while문)**"
      ],
      "metadata": {
        "id": "D3txInXj3hOQ"
      }
    },
    {
      "cell_type": "code",
      "source": [
        "i = 0\n",
        "a = 0\n",
        "while True:\n",
        "  print(a)\n",
        "  if i < 5:\n",
        "    i += 1  # i = i + 1\n",
        "  else:\n",
        "    break\n",
        "print('done')"
      ],
      "metadata": {
        "colab": {
          "base_uri": "https://localhost:8080/"
        },
        "id": "APVBWpzt3j8P",
        "outputId": "4d39588d-c988-430c-a39f-31ff94fe215a"
      },
      "execution_count": 9,
      "outputs": [
        {
          "output_type": "stream",
          "name": "stdout",
          "text": [
            "0\n",
            "0\n",
            "0\n",
            "0\n",
            "0\n",
            "0\n",
            "done\n"
          ]
        }
      ]
    },
    {
      "cell_type": "code",
      "source": [
        "i = 0\n",
        "a = 0\n",
        "while i < 5:\n",
        "  print(a)\n",
        "  i += 1  # i = i + 1\n",
        "print('done')"
      ],
      "metadata": {
        "colab": {
          "base_uri": "https://localhost:8080/"
        },
        "id": "q_BrthQ64tkH",
        "outputId": "cf02a577-3593-4603-9c9c-0248b7789ea1"
      },
      "execution_count": 10,
      "outputs": [
        {
          "output_type": "stream",
          "name": "stdout",
          "text": [
            "0\n",
            "0\n",
            "0\n",
            "0\n",
            "0\n",
            "done\n"
          ]
        }
      ]
    },
    {
      "cell_type": "markdown",
      "source": [
        "- 위 방식(a를 6번 출력)과 달리 이 방식은 조건을 먼저 걸고 출력('print(a)')을 했기 때문에 a가 5번 출력됨."
      ],
      "metadata": {
        "id": "wBa7oNj25R6W"
      }
    },
    {
      "cell_type": "code",
      "source": [
        "# [문제] 1, 2, 2, 3, 3, 3, 4, 4, 4, 4 가 찍히는 코드를 작성하시오.\n",
        "i = 1\n",
        "while i < 5:\n",
        "  print((str(i)) * i, end='')\n",
        "  i += 1"
      ],
      "metadata": {
        "colab": {
          "base_uri": "https://localhost:8080/"
        },
        "id": "wbdoyfyH5uU3",
        "outputId": "767151da-0af9-401a-c0af-f5315eda5b09"
      },
      "execution_count": 11,
      "outputs": [
        {
          "output_type": "stream",
          "name": "stdout",
          "text": [
            "1223334444"
          ]
        }
      ]
    },
    {
      "cell_type": "markdown",
      "source": [
        "내 방식"
      ],
      "metadata": {
        "id": "G5Rf2zp67WPH"
      }
    },
    {
      "cell_type": "code",
      "source": [
        "for a in [1,2,3,4]:\n",
        "  i = a\n",
        "  while i > 0:\n",
        "    print(a, end=' ')\n",
        "    i -= 1"
      ],
      "metadata": {
        "colab": {
          "base_uri": "https://localhost:8080/"
        },
        "id": "0CnPtwAD7ZIX",
        "outputId": "f7211f86-22d8-4569-b629-112904a201a4"
      },
      "execution_count": 12,
      "outputs": [
        {
          "output_type": "stream",
          "name": "stdout",
          "text": [
            "1 2 2 3 3 3 4 4 4 4 "
          ]
        }
      ]
    },
    {
      "cell_type": "markdown",
      "source": [
        "강사님 방식: i가 0보다 작아질 때까지 a를 출력함. 즉, a = 4면 4를 4번 출력함."
      ],
      "metadata": {
        "id": "sWZdxvxo7XSt"
      }
    },
    {
      "cell_type": "code",
      "source": [
        "# list에 있는 값을 순차적으로 출력\n",
        "list1 = [1,3,4,5,6,7,4,3,5,7,7]\n",
        "\n",
        "for i in list1:\n",
        "  print(i)"
      ],
      "metadata": {
        "colab": {
          "base_uri": "https://localhost:8080/"
        },
        "id": "PPIW3opNB-Oe",
        "outputId": "c2582628-b262-40e7-b313-3f52ab1eb68a"
      },
      "execution_count": 13,
      "outputs": [
        {
          "output_type": "stream",
          "name": "stdout",
          "text": [
            "1\n",
            "3\n",
            "4\n",
            "5\n",
            "6\n",
            "7\n",
            "4\n",
            "3\n",
            "5\n",
            "7\n",
            "7\n"
          ]
        }
      ]
    },
    {
      "cell_type": "code",
      "source": [
        "print(list1)\n",
        "print(list1[-5:-1]) # -1번째 인덱스는 출력에서 제외됨(끝 제외)\n",
        "print(list1[-5:])  # -1번째 인덱스도 출력하려면 끝을 비워야 함\n",
        "print(list1[::2])  # 3번째 인자는 step: 몇 칸씩 뛰어쓸지. 리스트를 2칸씩 출력\n",
        "print(list1[::-1])  # 리스트 거꾸로 출력\n",
        "print(list1[::-2])  # 리스트 거꾸로 2칸씩 출력"
      ],
      "metadata": {
        "colab": {
          "base_uri": "https://localhost:8080/"
        },
        "id": "yMxFtj5aE3P1",
        "outputId": "354ea790-081b-4592-db67-5e7281923c3b"
      },
      "execution_count": 14,
      "outputs": [
        {
          "output_type": "stream",
          "name": "stdout",
          "text": [
            "[1, 3, 4, 5, 6, 7, 4, 3, 5, 7, 7]\n",
            "[4, 3, 5, 7]\n",
            "[4, 3, 5, 7, 7]\n",
            "[1, 4, 6, 4, 5, 7]\n",
            "[7, 7, 5, 3, 4, 7, 6, 5, 4, 3, 1]\n",
            "[7, 5, 4, 6, 4, 1]\n"
          ]
        }
      ]
    },
    {
      "cell_type": "code",
      "source": [
        "list1.append([5, 6, 7])\n",
        "print(list1)"
      ],
      "metadata": {
        "id": "7Yh12E7KNp07",
        "colab": {
          "base_uri": "https://localhost:8080/"
        },
        "outputId": "e92d6e31-e0fb-4c84-c5fe-66f56683b13f"
      },
      "execution_count": 15,
      "outputs": [
        {
          "output_type": "stream",
          "name": "stdout",
          "text": [
            "[1, 3, 4, 5, 6, 7, 4, 3, 5, 7, 7, [5, 6, 7]]\n"
          ]
        }
      ]
    },
    {
      "cell_type": "code",
      "source": [
        "list1.extend([5, 6, 7])\n",
        "print(list1)"
      ],
      "metadata": {
        "colab": {
          "base_uri": "https://localhost:8080/"
        },
        "id": "fScQsk95O_VN",
        "outputId": "cac41e0d-1b0d-4405-8dc3-f67e0bb79f9b"
      },
      "execution_count": 16,
      "outputs": [
        {
          "output_type": "stream",
          "name": "stdout",
          "text": [
            "[1, 3, 4, 5, 6, 7, 4, 3, 5, 7, 7, [5, 6, 7], 5, 6, 7]\n"
          ]
        }
      ]
    },
    {
      "cell_type": "code",
      "source": [
        "print(list1)\n",
        "print(list1.count(4))\n",
        "print(list1[-5:-1].count(4))\n",
        "print(list.count(list1[3:8], 4))"
      ],
      "metadata": {
        "colab": {
          "base_uri": "https://localhost:8080/"
        },
        "id": "RoKAp_DqQuSJ",
        "outputId": "3a0a9137-2a21-4217-a1f1-b8642ce7e9d8"
      },
      "execution_count": 17,
      "outputs": [
        {
          "output_type": "stream",
          "name": "stdout",
          "text": [
            "[1, 3, 4, 5, 6, 7, 4, 3, 5, 7, 7, [5, 6, 7], 5, 6, 7]\n",
            "2\n",
            "0\n",
            "1\n"
          ]
        }
      ]
    },
    {
      "cell_type": "code",
      "source": [
        "print(list1)\n",
        "print(list1.index(4))"
      ],
      "metadata": {
        "colab": {
          "base_uri": "https://localhost:8080/"
        },
        "id": "2RbER1-SQPY4",
        "outputId": "1fdd0e94-cbb8-4e7d-8e53-b437bbb5ad50"
      },
      "execution_count": 18,
      "outputs": [
        {
          "output_type": "stream",
          "name": "stdout",
          "text": [
            "[1, 3, 4, 5, 6, 7, 4, 3, 5, 7, 7, [5, 6, 7], 5, 6, 7]\n",
            "2\n"
          ]
        }
      ]
    },
    {
      "cell_type": "code",
      "source": [
        "print(list1)\n",
        "print(list1.pop())"
      ],
      "metadata": {
        "colab": {
          "base_uri": "https://localhost:8080/"
        },
        "id": "OVf6APmaQPUL",
        "outputId": "29dd6241-9f5e-4145-d50f-81ed60d6b0c7"
      },
      "execution_count": 19,
      "outputs": [
        {
          "output_type": "stream",
          "name": "stdout",
          "text": [
            "[1, 3, 4, 5, 6, 7, 4, 3, 5, 7, 7, [5, 6, 7], 5, 6, 7]\n",
            "7\n"
          ]
        }
      ]
    },
    {
      "cell_type": "code",
      "source": [
        "print(list1)"
      ],
      "metadata": {
        "colab": {
          "base_uri": "https://localhost:8080/"
        },
        "id": "IPge31PFQPG-",
        "outputId": "f89a710c-85af-4808-f640-c219573ee39f"
      },
      "execution_count": 20,
      "outputs": [
        {
          "output_type": "stream",
          "name": "stdout",
          "text": [
            "[1, 3, 4, 5, 6, 7, 4, 3, 5, 7, 7, [5, 6, 7], 5, 6]\n"
          ]
        }
      ]
    },
    {
      "cell_type": "code",
      "source": [
        "print(list1)\n",
        "list1.remove([5, 6, 7])\n",
        "print(list1)"
      ],
      "metadata": {
        "colab": {
          "base_uri": "https://localhost:8080/"
        },
        "id": "aRZneuyiRBU_",
        "outputId": "05b4af3a-b4c4-439d-8f3a-f62eed594b8f"
      },
      "execution_count": 21,
      "outputs": [
        {
          "output_type": "stream",
          "name": "stdout",
          "text": [
            "[1, 3, 4, 5, 6, 7, 4, 3, 5, 7, 7, [5, 6, 7], 5, 6]\n",
            "[1, 3, 4, 5, 6, 7, 4, 3, 5, 7, 7, 5, 6]\n"
          ]
        }
      ]
    },
    {
      "cell_type": "code",
      "source": [
        "list2 = sorted(list1)\n",
        "print(list1)\n",
        "print(list2)"
      ],
      "metadata": {
        "colab": {
          "base_uri": "https://localhost:8080/"
        },
        "id": "JjsX1D57Ury6",
        "outputId": "2df3dfcf-d770-45cb-c578-05c08c607b9a"
      },
      "execution_count": 22,
      "outputs": [
        {
          "output_type": "stream",
          "name": "stdout",
          "text": [
            "[1, 3, 4, 5, 6, 7, 4, 3, 5, 7, 7, 5, 6]\n",
            "[1, 3, 3, 4, 4, 5, 5, 5, 6, 6, 7, 7, 7]\n"
          ]
        }
      ]
    },
    {
      "cell_type": "code",
      "source": [
        "list1.sort()\n",
        "print(list1)"
      ],
      "metadata": {
        "colab": {
          "base_uri": "https://localhost:8080/"
        },
        "id": "-6Nd1zLmSRac",
        "outputId": "6b92a813-a368-4f63-a000-aa039b7d8c7f"
      },
      "execution_count": 23,
      "outputs": [
        {
          "output_type": "stream",
          "name": "stdout",
          "text": [
            "[1, 3, 3, 4, 4, 5, 5, 5, 6, 6, 7, 7, 7]\n"
          ]
        }
      ]
    }
  ]
}