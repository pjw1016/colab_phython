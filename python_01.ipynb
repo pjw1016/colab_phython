{
  "nbformat": 4,
  "nbformat_minor": 0,
  "metadata": {
    "colab": {
      "provenance": [],
      "authorship_tag": "ABX9TyPbT/kQRwMhF7/zdorwDc5Z",
      "include_colab_link": true
    },
    "kernelspec": {
      "name": "python3",
      "display_name": "Python 3"
    },
    "language_info": {
      "name": "python"
    }
  },
  "cells": [
    {
      "cell_type": "markdown",
      "metadata": {
        "id": "view-in-github",
        "colab_type": "text"
      },
      "source": [
        "<a href=\"https://colab.research.google.com/github/pjw1016/phython_practice/blob/main/python_01.ipynb\" target=\"_parent\"><img src=\"https://colab.research.google.com/assets/colab-badge.svg\" alt=\"Open In Colab\"/></a>"
      ]
    },
    {
      "cell_type": "markdown",
      "source": [
        "# **<파이썬 1일차 실습 예제>**"
      ],
      "metadata": {
        "id": "pV14bS7vEkH5"
      }
    },
    {
      "cell_type": "code",
      "execution_count": 1,
      "metadata": {
        "id": "Njh0GURbCVp9",
        "colab": {
          "base_uri": "https://localhost:8080/"
        },
        "outputId": "2884ace3-fb9f-4879-d70f-f8cf2b57fc41"
      },
      "outputs": [
        {
          "output_type": "execute_result",
          "data": {
            "text/plain": [
              "2"
            ]
          },
          "metadata": {},
          "execution_count": 1
        }
      ],
      "source": [
        "1+1"
      ]
    },
    {
      "cell_type": "code",
      "source": [
        "a = 10\n"
      ],
      "metadata": {
        "id": "RHlP7IyaEctZ"
      },
      "execution_count": 2,
      "outputs": []
    },
    {
      "cell_type": "code",
      "source": [
        "print(a)"
      ],
      "metadata": {
        "colab": {
          "base_uri": "https://localhost:8080/"
        },
        "id": "wWYLNt0WFMBR",
        "outputId": "c9fa4d33-fff7-4977-9d4d-45020ca84e23"
      },
      "execution_count": 3,
      "outputs": [
        {
          "output_type": "stream",
          "name": "stdout",
          "text": [
            "10\n"
          ]
        }
      ]
    },
    {
      "cell_type": "code",
      "source": [
        "a = 100"
      ],
      "metadata": {
        "id": "OFQY-m_lFHrp"
      },
      "execution_count": 4,
      "outputs": []
    },
    {
      "cell_type": "code",
      "source": [
        "if a > 10:\n",
        "  print(a)\n",
        "print('done')"
      ],
      "metadata": {
        "colab": {
          "base_uri": "https://localhost:8080/"
        },
        "id": "0cllhndvICgg",
        "outputId": "0f37a131-052f-4606-c845-d0685a472771"
      },
      "execution_count": 5,
      "outputs": [
        {
          "output_type": "stream",
          "name": "stdout",
          "text": [
            "100\n",
            "done\n"
          ]
        }
      ]
    },
    {
      "cell_type": "markdown",
      "source": [
        "**반복문(for문)**"
      ],
      "metadata": {
        "id": "pVOuSY13tvES"
      }
    },
    {
      "cell_type": "code",
      "source": [
        "for a in [1, 2, 3]:\n",
        "  for b in [10, 20, 30]:\n",
        "    if a != 2:\n",
        "     print(b)\n",
        "  print(a)\n",
        "print('done')"
      ],
      "metadata": {
        "colab": {
          "base_uri": "https://localhost:8080/"
        },
        "id": "7FSUiMitt1Z5",
        "outputId": "4a48f798-f67f-4e80-e24e-378434ac9971"
      },
      "execution_count": 6,
      "outputs": [
        {
          "output_type": "stream",
          "name": "stdout",
          "text": [
            "10\n",
            "20\n",
            "30\n",
            "1\n",
            "2\n",
            "10\n",
            "20\n",
            "30\n",
            "3\n",
            "done\n"
          ]
        }
      ]
    },
    {
      "cell_type": "code",
      "source": [
        "# [문제] a = 2 일때 b를 출력하지 않기\n",
        "for a in [1, 2, 3]:\n",
        "    for b in [10, 20, 30]:\n",
        "      if b != 20:\n",
        "        print(b)\n",
        "    print(a)\n",
        "print('done')"
      ],
      "metadata": {
        "colab": {
          "base_uri": "https://localhost:8080/"
        },
        "id": "DonYPHsTyheg",
        "outputId": "7f4a1240-ca85-442f-fe98-c09ef0fb0d8a"
      },
      "execution_count": 7,
      "outputs": [
        {
          "output_type": "stream",
          "name": "stdout",
          "text": [
            "10\n",
            "30\n",
            "1\n",
            "10\n",
            "30\n",
            "2\n",
            "10\n",
            "30\n",
            "3\n",
            "done\n"
          ]
        }
      ]
    },
    {
      "cell_type": "markdown",
      "source": [
        "내 방식"
      ],
      "metadata": {
        "id": "nHHYp77i1tqn"
      }
    },
    {
      "cell_type": "code",
      "source": [
        "# [문제] 위의 틀을 유지한 채 10, 30, 1, 10, 30, 2, 10, 30, 3 의 결과가 나올 수 있도록 구문을 수정해보기\n",
        "for a in [1, 2, 3]:\n",
        "    for b in [10, 20, 30]:\n",
        "      if a == 1 and b != 10:\n",
        "        print(b)\n",
        "      elif a == 2 and b != 20:\n",
        "        print(b)\n",
        "      elif a == 3 and b != 30:\n",
        "        print(b)\n",
        "    print(a)\n",
        "print('done')"
      ],
      "metadata": {
        "colab": {
          "base_uri": "https://localhost:8080/"
        },
        "id": "0S77j7ptzknw",
        "outputId": "815c75a2-d350-446f-cd2e-3b79e62db864"
      },
      "execution_count": 8,
      "outputs": [
        {
          "output_type": "stream",
          "name": "stdout",
          "text": [
            "20\n",
            "30\n",
            "1\n",
            "10\n",
            "30\n",
            "2\n",
            "10\n",
            "20\n",
            "3\n",
            "done\n"
          ]
        }
      ]
    },
    {
      "cell_type": "markdown",
      "source": [
        "강사님 방식"
      ],
      "metadata": {
        "id": "giWCQCJ_1r1f"
      }
    },
    {
      "cell_type": "code",
      "source": [
        "for a in [1, 2, 3]:\n",
        "    for b in [10, 20, 30]:\n",
        "      if a*10 != b:\n",
        "        print(b)\n",
        "    print(a)\n",
        "print('done')"
      ],
      "metadata": {
        "colab": {
          "base_uri": "https://localhost:8080/"
        },
        "id": "epAzrBqP1d2f",
        "outputId": "5025ef78-e4d1-4f27-bfd5-7d092ab4ad42"
      },
      "execution_count": 9,
      "outputs": [
        {
          "output_type": "stream",
          "name": "stdout",
          "text": [
            "20\n",
            "30\n",
            "1\n",
            "10\n",
            "30\n",
            "2\n",
            "10\n",
            "20\n",
            "3\n",
            "done\n"
          ]
        }
      ]
    },
    {
      "cell_type": "markdown",
      "source": [
        "크루님 방식: b를 a로 나눈 몫이 10이 아닐 때 출력"
      ],
      "metadata": {
        "id": "a0Yr3Yxl133f"
      }
    },
    {
      "cell_type": "code",
      "source": [
        "for a in [1, 2, 3]:\n",
        "    for b in [10, 20, 30]:\n",
        "      if b//a != 10:\n",
        "        print(b)\n",
        "    print(a)\n",
        "print('done')"
      ],
      "metadata": {
        "colab": {
          "base_uri": "https://localhost:8080/"
        },
        "id": "sfuiGt-A13Tf",
        "outputId": "f96fab88-5e2f-477e-8a95-aada00e8a4a4"
      },
      "execution_count": 10,
      "outputs": [
        {
          "output_type": "stream",
          "name": "stdout",
          "text": [
            "20\n",
            "30\n",
            "1\n",
            "10\n",
            "30\n",
            "2\n",
            "10\n",
            "20\n",
            "3\n",
            "done\n"
          ]
        }
      ]
    },
    {
      "cell_type": "markdown",
      "source": [
        "**반복문(while문)**"
      ],
      "metadata": {
        "id": "D3txInXj3hOQ"
      }
    },
    {
      "cell_type": "code",
      "source": [
        "i = 0\n",
        "a = 0\n",
        "while True:\n",
        "  print(a)\n",
        "  if i < 5:\n",
        "    i += 1  # i = i + 1\n",
        "  else:\n",
        "    break\n",
        "print('done')"
      ],
      "metadata": {
        "colab": {
          "base_uri": "https://localhost:8080/"
        },
        "id": "APVBWpzt3j8P",
        "outputId": "68153d74-7f80-45a8-a507-9a0a52d194f2"
      },
      "execution_count": 11,
      "outputs": [
        {
          "output_type": "stream",
          "name": "stdout",
          "text": [
            "0\n",
            "0\n",
            "0\n",
            "0\n",
            "0\n",
            "0\n",
            "done\n"
          ]
        }
      ]
    },
    {
      "cell_type": "code",
      "source": [
        "i = 0\n",
        "a = 0\n",
        "while i < 5:\n",
        "  print(a)\n",
        "  i += 1  # i = i + 1\n",
        "print('done')"
      ],
      "metadata": {
        "colab": {
          "base_uri": "https://localhost:8080/"
        },
        "id": "q_BrthQ64tkH",
        "outputId": "aa0a2f97-8563-490f-89e5-7cc19ed37b13"
      },
      "execution_count": 12,
      "outputs": [
        {
          "output_type": "stream",
          "name": "stdout",
          "text": [
            "0\n",
            "0\n",
            "0\n",
            "0\n",
            "0\n",
            "done\n"
          ]
        }
      ]
    },
    {
      "cell_type": "markdown",
      "source": [
        "- 위 방식(a를 6번 출력)과 달리 이 방식은 조건을 먼저 걸고 출력('print(a)')을 했기 때문에 a가 5번 출력됨."
      ],
      "metadata": {
        "id": "wBa7oNj25R6W"
      }
    },
    {
      "cell_type": "markdown",
      "source": [
        "내 방식"
      ],
      "metadata": {
        "id": "G5Rf2zp67WPH"
      }
    },
    {
      "cell_type": "code",
      "source": [
        "# [문제] 1, 2, 2, 3, 3, 3, 4, 4, 4, 4 가 찍히는 코드를 작성하시오.\n",
        "i = 1\n",
        "while i < 5:\n",
        "  print((str(i)) * i, end='')\n",
        "  i += 1"
      ],
      "metadata": {
        "colab": {
          "base_uri": "https://localhost:8080/"
        },
        "id": "wbdoyfyH5uU3",
        "outputId": "f89c5665-47ed-4057-b5fb-acaaa59f9f82"
      },
      "execution_count": 13,
      "outputs": [
        {
          "output_type": "stream",
          "name": "stdout",
          "text": [
            "1223334444"
          ]
        }
      ]
    },
    {
      "cell_type": "markdown",
      "source": [
        "!강사님 방식: i가 0보다 작아질 때까지 a를 출력함. 즉, a = 4면 4를 4번 출력함."
      ],
      "metadata": {
        "id": "sWZdxvxo7XSt"
      }
    },
    {
      "cell_type": "code",
      "source": [
        "for a in [1,2,3,4]:\n",
        "  i = a\n",
        "  while i > 0:\n",
        "    print(a, end=' ')\n",
        "    i -= 1"
      ],
      "metadata": {
        "colab": {
          "base_uri": "https://localhost:8080/"
        },
        "id": "0CnPtwAD7ZIX",
        "outputId": "c38d72e2-3918-450c-fdbb-90c1c53787c7"
      },
      "execution_count": 14,
      "outputs": [
        {
          "output_type": "stream",
          "name": "stdout",
          "text": [
            "1 2 2 3 3 3 4 4 4 4 "
          ]
        }
      ]
    },
    {
      "cell_type": "code",
      "source": [
        "# list에 있는 값을 순차적으로 출력\n",
        "list1 = [1,3,4,5,6,7,4,3,5,7,7]\n",
        "\n",
        "for i in list1:\n",
        "  print(i)"
      ],
      "metadata": {
        "colab": {
          "base_uri": "https://localhost:8080/"
        },
        "id": "PPIW3opNB-Oe",
        "outputId": "27aaf937-99ed-4c8e-ada9-ff1f9be89e4e"
      },
      "execution_count": 15,
      "outputs": [
        {
          "output_type": "stream",
          "name": "stdout",
          "text": [
            "1\n",
            "3\n",
            "4\n",
            "5\n",
            "6\n",
            "7\n",
            "4\n",
            "3\n",
            "5\n",
            "7\n",
            "7\n"
          ]
        }
      ]
    },
    {
      "cell_type": "code",
      "source": [
        "print(list1)\n",
        "print(list1[-5:-1]) # -1번째 인덱스는 출력에서 제외됨(끝 제외)\n",
        "print(list1[-5:])  # -1번째 인덱스도 출력하려면 끝을 비워야 함\n",
        "print(list1[::2])  # 3번째 인자는 step: 몇 칸씩 뛰어쓸지. 리스트를 2칸씩 출력\n",
        "print(list1[::-1])  # 리스트 거꾸로 출력\n",
        "print(list1[::-2])  # 리스트 거꾸로 2칸씩 출력"
      ],
      "metadata": {
        "colab": {
          "base_uri": "https://localhost:8080/"
        },
        "id": "yMxFtj5aE3P1",
        "outputId": "b76e75aa-e4cd-4666-b826-18b1c8deaf46"
      },
      "execution_count": 16,
      "outputs": [
        {
          "output_type": "stream",
          "name": "stdout",
          "text": [
            "[1, 3, 4, 5, 6, 7, 4, 3, 5, 7, 7]\n",
            "[4, 3, 5, 7]\n",
            "[4, 3, 5, 7, 7]\n",
            "[1, 4, 6, 4, 5, 7]\n",
            "[7, 7, 5, 3, 4, 7, 6, 5, 4, 3, 1]\n",
            "[7, 5, 4, 6, 4, 1]\n"
          ]
        }
      ]
    },
    {
      "cell_type": "code",
      "source": [
        "list1.append([5, 6, 7])\n",
        "print(list1)"
      ],
      "metadata": {
        "id": "7Yh12E7KNp07",
        "colab": {
          "base_uri": "https://localhost:8080/"
        },
        "outputId": "7a5eddde-0554-41e9-bc2b-06dc1b52b04a"
      },
      "execution_count": 17,
      "outputs": [
        {
          "output_type": "stream",
          "name": "stdout",
          "text": [
            "[1, 3, 4, 5, 6, 7, 4, 3, 5, 7, 7, [5, 6, 7]]\n"
          ]
        }
      ]
    },
    {
      "cell_type": "code",
      "source": [
        "list1.extend([5, 6, 7])\n",
        "print(list1)"
      ],
      "metadata": {
        "colab": {
          "base_uri": "https://localhost:8080/"
        },
        "id": "fScQsk95O_VN",
        "outputId": "2f8be794-2c95-43d7-90fa-83eddf49818d"
      },
      "execution_count": 18,
      "outputs": [
        {
          "output_type": "stream",
          "name": "stdout",
          "text": [
            "[1, 3, 4, 5, 6, 7, 4, 3, 5, 7, 7, [5, 6, 7], 5, 6, 7]\n"
          ]
        }
      ]
    },
    {
      "cell_type": "code",
      "source": [
        "print(list1)\n",
        "print(list1.count(4))\n",
        "print(list1[-5:-1].count(4))\n",
        "print(list.count(list1[3:8], 4))"
      ],
      "metadata": {
        "colab": {
          "base_uri": "https://localhost:8080/"
        },
        "id": "RoKAp_DqQuSJ",
        "outputId": "45117a7e-6cbb-4404-9443-c4a15a1b38f1"
      },
      "execution_count": 19,
      "outputs": [
        {
          "output_type": "stream",
          "name": "stdout",
          "text": [
            "[1, 3, 4, 5, 6, 7, 4, 3, 5, 7, 7, [5, 6, 7], 5, 6, 7]\n",
            "2\n",
            "0\n",
            "1\n"
          ]
        }
      ]
    },
    {
      "cell_type": "code",
      "source": [
        "print(list1)\n",
        "print(list1.index(4))"
      ],
      "metadata": {
        "colab": {
          "base_uri": "https://localhost:8080/"
        },
        "id": "2RbER1-SQPY4",
        "outputId": "2aaf76a1-f956-4f7d-ed93-2877ac31114a"
      },
      "execution_count": 20,
      "outputs": [
        {
          "output_type": "stream",
          "name": "stdout",
          "text": [
            "[1, 3, 4, 5, 6, 7, 4, 3, 5, 7, 7, [5, 6, 7], 5, 6, 7]\n",
            "2\n"
          ]
        }
      ]
    },
    {
      "cell_type": "code",
      "source": [
        "print(list1)\n",
        "print(list1.pop())"
      ],
      "metadata": {
        "colab": {
          "base_uri": "https://localhost:8080/"
        },
        "id": "OVf6APmaQPUL",
        "outputId": "29b15277-7aba-45c4-9dfb-98ffde875cd5"
      },
      "execution_count": 21,
      "outputs": [
        {
          "output_type": "stream",
          "name": "stdout",
          "text": [
            "[1, 3, 4, 5, 6, 7, 4, 3, 5, 7, 7, [5, 6, 7], 5, 6, 7]\n",
            "7\n"
          ]
        }
      ]
    },
    {
      "cell_type": "code",
      "source": [
        "print(list1)"
      ],
      "metadata": {
        "colab": {
          "base_uri": "https://localhost:8080/"
        },
        "id": "IPge31PFQPG-",
        "outputId": "401fc519-4b6f-4479-cdda-88e794ea2f75"
      },
      "execution_count": 22,
      "outputs": [
        {
          "output_type": "stream",
          "name": "stdout",
          "text": [
            "[1, 3, 4, 5, 6, 7, 4, 3, 5, 7, 7, [5, 6, 7], 5, 6]\n"
          ]
        }
      ]
    },
    {
      "cell_type": "code",
      "source": [
        "print(list1)\n",
        "list1.remove([5, 6, 7])\n",
        "print(list1)"
      ],
      "metadata": {
        "colab": {
          "base_uri": "https://localhost:8080/"
        },
        "id": "aRZneuyiRBU_",
        "outputId": "8f300d32-9dff-4f65-c91b-30f9e7d730c7"
      },
      "execution_count": 23,
      "outputs": [
        {
          "output_type": "stream",
          "name": "stdout",
          "text": [
            "[1, 3, 4, 5, 6, 7, 4, 3, 5, 7, 7, [5, 6, 7], 5, 6]\n",
            "[1, 3, 4, 5, 6, 7, 4, 3, 5, 7, 7, 5, 6]\n"
          ]
        }
      ]
    },
    {
      "cell_type": "code",
      "source": [
        "list2 = sorted(list1)\n",
        "print(list1)\n",
        "print(list2)"
      ],
      "metadata": {
        "colab": {
          "base_uri": "https://localhost:8080/"
        },
        "id": "JjsX1D57Ury6",
        "outputId": "305285f5-aa93-4ace-c047-6d3925ac7faa"
      },
      "execution_count": 24,
      "outputs": [
        {
          "output_type": "stream",
          "name": "stdout",
          "text": [
            "[1, 3, 4, 5, 6, 7, 4, 3, 5, 7, 7, 5, 6]\n",
            "[1, 3, 3, 4, 4, 5, 5, 5, 6, 6, 7, 7, 7]\n"
          ]
        }
      ]
    },
    {
      "cell_type": "code",
      "source": [
        "list1.sort()\n",
        "print(list1)"
      ],
      "metadata": {
        "colab": {
          "base_uri": "https://localhost:8080/"
        },
        "id": "-6Nd1zLmSRac",
        "outputId": "44ab3921-e800-4bd7-b78a-35bd7657ed31"
      },
      "execution_count": 25,
      "outputs": [
        {
          "output_type": "stream",
          "name": "stdout",
          "text": [
            "[1, 3, 3, 4, 4, 5, 5, 5, 6, 6, 7, 7, 7]\n"
          ]
        }
      ]
    }
  ]
}