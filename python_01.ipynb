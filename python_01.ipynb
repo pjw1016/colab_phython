{
  "nbformat": 4,
  "nbformat_minor": 0,
  "metadata": {
    "colab": {
      "provenance": [],
      "authorship_tag": "ABX9TyPbT/kQRwMhF7/zdorwDc5Z",
      "include_colab_link": true
    },
    "kernelspec": {
      "name": "python3",
      "display_name": "Python 3"
    },
    "language_info": {
      "name": "python"
    }
  },
  "cells": [
    {
      "cell_type": "markdown",
      "metadata": {
        "id": "view-in-github",
        "colab_type": "text"
      },
      "source": [
        "<a href=\"https://colab.research.google.com/github/pjw1016/phython_practice/blob/main/python_01.ipynb\" target=\"_parent\"><img src=\"https://colab.research.google.com/assets/colab-badge.svg\" alt=\"Open In Colab\"/></a>"
      ]
    },
    {
      "cell_type": "markdown",
      "source": [
        "# **<파이썬 1일차 실습 예제>**"
      ],
      "metadata": {
        "id": "pV14bS7vEkH5"
      }
    },
    {
      "cell_type": "code",
      "execution_count": null,
      "metadata": {
        "id": "Njh0GURbCVp9",
        "colab": {
          "base_uri": "https://localhost:8080/"
        },
        "outputId": "497a5ad6-a55e-4693-dbea-c67ef8fca3a5"
      },
      "outputs": [
        {
          "output_type": "execute_result",
          "data": {
            "text/plain": [
              "2"
            ]
          },
          "metadata": {},
          "execution_count": 1
        }
      ],
      "source": [
        "1+1"
      ]
    },
    {
      "cell_type": "code",
      "source": [
        "a = 10\n"
      ],
      "metadata": {
        "id": "RHlP7IyaEctZ"
      },
      "execution_count": null,
      "outputs": []
    },
    {
      "cell_type": "code",
      "source": [
        "print(a)"
      ],
      "metadata": {
        "colab": {
          "base_uri": "https://localhost:8080/"
        },
        "id": "wWYLNt0WFMBR",
        "outputId": "4a3bed7e-7edf-4851-ccda-1efd775156f5"
      },
      "execution_count": null,
      "outputs": [
        {
          "output_type": "stream",
          "name": "stdout",
          "text": [
            "10\n"
          ]
        }
      ]
    },
    {
      "cell_type": "code",
      "source": [
        "a = 100"
      ],
      "metadata": {
        "id": "OFQY-m_lFHrp"
      },
      "execution_count": null,
      "outputs": []
    },
    {
      "cell_type": "code",
      "source": [
        "if a > 10:\n",
        "  print(a)\n",
        "print('done')"
      ],
      "metadata": {
        "colab": {
          "base_uri": "https://localhost:8080/"
        },
        "id": "0cllhndvICgg",
        "outputId": "f7ff8a13-23dd-4320-d499-c6e8fa1064f1"
      },
      "execution_count": null,
      "outputs": [
        {
          "output_type": "stream",
          "name": "stdout",
          "text": [
            "100\n",
            "done\n"
          ]
        }
      ]
    },
    {
      "cell_type": "markdown",
      "source": [
        "**반복문(for문)**"
      ],
      "metadata": {
        "id": "pVOuSY13tvES"
      }
    },
    {
      "cell_type": "code",
      "source": [
        "for a in [1, 2, 3]:\n",
        "  for b in [10, 20, 30]:\n",
        "    if a != 2:\n",
        "     print(b)\n",
        "  print(a)\n",
        "print('done')"
      ],
      "metadata": {
        "colab": {
          "base_uri": "https://localhost:8080/"
        },
        "id": "7FSUiMitt1Z5",
        "outputId": "2802701e-2ff1-4c22-89b7-21e1eda570a6"
      },
      "execution_count": null,
      "outputs": [
        {
          "output_type": "stream",
          "name": "stdout",
          "text": [
            "10\n",
            "20\n",
            "30\n",
            "1\n",
            "2\n",
            "10\n",
            "20\n",
            "30\n",
            "3\n",
            "done\n"
          ]
        }
      ]
    },
    {
      "cell_type": "code",
      "source": [
        "# [문제] a = 2 일때 b를 출력하지 않기\n",
        "for a in [1, 2, 3]:\n",
        "    for b in [10, 20, 30]:\n",
        "      if b != 20:\n",
        "        print(b)\n",
        "    print(a)\n",
        "print('done')"
      ],
      "metadata": {
        "colab": {
          "base_uri": "https://localhost:8080/"
        },
        "id": "DonYPHsTyheg",
        "outputId": "37b4a19d-bd23-45b8-f335-22adcd5f957e"
      },
      "execution_count": null,
      "outputs": [
        {
          "output_type": "stream",
          "name": "stdout",
          "text": [
            "10\n",
            "30\n",
            "1\n",
            "10\n",
            "30\n",
            "2\n",
            "10\n",
            "30\n",
            "3\n",
            "done\n"
          ]
        }
      ]
    },
    {
      "cell_type": "markdown",
      "source": [
        "내 방식"
      ],
      "metadata": {
        "id": "nHHYp77i1tqn"
      }
    },
    {
      "cell_type": "code",
      "source": [
        "# [문제] 위의 틀을 유지한 채 10, 30, 1, 10, 30, 2, 10, 30, 3 의 결과가 나올 수 있도록 구문을 수정해보기\n",
        "for a in [1, 2, 3]:\n",
        "    for b in [10, 20, 30]:\n",
        "      if a == 1 and b != 10:\n",
        "        print(b)\n",
        "      elif a == 2 and b != 20:\n",
        "        print(b)\n",
        "      elif a == 3 and b != 30:\n",
        "        print(b)\n",
        "    print(a)\n",
        "print('done')"
      ],
      "metadata": {
        "colab": {
          "base_uri": "https://localhost:8080/"
        },
        "id": "0S77j7ptzknw",
        "outputId": "1cef35a1-a739-48be-dc15-f61f56e99cce"
      },
      "execution_count": null,
      "outputs": [
        {
          "output_type": "stream",
          "name": "stdout",
          "text": [
            "20\n",
            "30\n",
            "1\n",
            "10\n",
            "30\n",
            "2\n",
            "10\n",
            "20\n",
            "3\n",
            "done\n"
          ]
        }
      ]
    },
    {
      "cell_type": "markdown",
      "source": [
        "강사님 방식"
      ],
      "metadata": {
        "id": "giWCQCJ_1r1f"
      }
    },
    {
      "cell_type": "code",
      "source": [
        "for a in [1, 2, 3]:\n",
        "    for b in [10, 20, 30]:\n",
        "      if a*10 != b:\n",
        "        print(b)\n",
        "    print(a)\n",
        "print('done')"
      ],
      "metadata": {
        "colab": {
          "base_uri": "https://localhost:8080/"
        },
        "id": "epAzrBqP1d2f",
        "outputId": "a5d7cce8-ad00-4b99-8d71-b7ab3428d56e"
      },
      "execution_count": null,
      "outputs": [
        {
          "output_type": "stream",
          "name": "stdout",
          "text": [
            "20\n",
            "30\n",
            "1\n",
            "10\n",
            "30\n",
            "2\n",
            "10\n",
            "20\n",
            "3\n",
            "done\n"
          ]
        }
      ]
    },
    {
      "cell_type": "markdown",
      "source": [
        "크루님 방식: b를 a로 나눈 몫이 10이 아닐 때 출력"
      ],
      "metadata": {
        "id": "a0Yr3Yxl133f"
      }
    },
    {
      "cell_type": "code",
      "source": [
        "for a in [1, 2, 3]:\n",
        "    for b in [10, 20, 30]:\n",
        "      if b//a != 10:\n",
        "        print(b)\n",
        "    print(a)\n",
        "print('done')"
      ],
      "metadata": {
        "colab": {
          "base_uri": "https://localhost:8080/"
        },
        "id": "sfuiGt-A13Tf",
        "outputId": "809ebd9d-ec62-4750-873a-51d0845bbff4"
      },
      "execution_count": null,
      "outputs": [
        {
          "output_type": "stream",
          "name": "stdout",
          "text": [
            "20\n",
            "30\n",
            "1\n",
            "10\n",
            "30\n",
            "2\n",
            "10\n",
            "20\n",
            "3\n",
            "done\n"
          ]
        }
      ]
    },
    {
      "cell_type": "markdown",
      "source": [
        "**반복문(while문)**"
      ],
      "metadata": {
        "id": "D3txInXj3hOQ"
      }
    },
    {
      "cell_type": "code",
      "source": [
        "i = 0\n",
        "a = 0\n",
        "while True:\n",
        "  print(a)\n",
        "  if i < 5:\n",
        "    i += 1  # i = i + 1\n",
        "  else:\n",
        "    break\n",
        "print('done')"
      ],
      "metadata": {
        "colab": {
          "base_uri": "https://localhost:8080/"
        },
        "id": "APVBWpzt3j8P",
        "outputId": "c40ca931-2c71-4e7d-a200-a6b7149de911"
      },
      "execution_count": null,
      "outputs": [
        {
          "output_type": "stream",
          "name": "stdout",
          "text": [
            "0\n",
            "0\n",
            "0\n",
            "0\n",
            "0\n",
            "0\n",
            "done\n"
          ]
        }
      ]
    },
    {
      "cell_type": "code",
      "source": [
        "i = 0\n",
        "a = 0\n",
        "while i < 5:\n",
        "  print(a)\n",
        "  i += 1  # i = i + 1\n",
        "print('done')"
      ],
      "metadata": {
        "colab": {
          "base_uri": "https://localhost:8080/"
        },
        "id": "q_BrthQ64tkH",
        "outputId": "af3aad37-3b7c-4a79-fff8-9feb2c48bc05"
      },
      "execution_count": null,
      "outputs": [
        {
          "output_type": "stream",
          "name": "stdout",
          "text": [
            "0\n",
            "0\n",
            "0\n",
            "0\n",
            "0\n",
            "done\n"
          ]
        }
      ]
    },
    {
      "cell_type": "markdown",
      "source": [
        "- 위 방식(a를 6번 출력)과 달리 이 방식은 조건을 먼저 걸고 출력('print(a)')을 했기 때문에 a가 5번 출력됨."
      ],
      "metadata": {
        "id": "wBa7oNj25R6W"
      }
    },
    {
      "cell_type": "markdown",
      "source": [
        "내 방식"
      ],
      "metadata": {
        "id": "G5Rf2zp67WPH"
      }
    },
    {
      "cell_type": "code",
      "source": [
        "# [문제] 1, 2, 2, 3, 3, 3, 4, 4, 4, 4 가 찍히는 코드를 작성하시오.\n",
        "i = 1\n",
        "while i < 5:\n",
        "  print((str(i)) * i, end='')\n",
        "  i += 1"
      ],
      "metadata": {
        "colab": {
          "base_uri": "https://localhost:8080/"
        },
        "id": "wbdoyfyH5uU3",
        "outputId": "983fa586-3b41-4963-db4d-f79552778854"
      },
      "execution_count": null,
      "outputs": [
        {
          "output_type": "stream",
          "name": "stdout",
          "text": [
            "1223334444"
          ]
        }
      ]
    },
    {
      "cell_type": "markdown",
      "source": [
        "!강사님 방식: i가 0보다 작아질 때까지 a를 출력함. 즉, a = 4면 4를 4번 출력함."
      ],
      "metadata": {
        "id": "sWZdxvxo7XSt"
      }
    },
    {
      "cell_type": "code",
      "source": [
        "for a in [1,2,3,4]:\n",
        "  i = a\n",
        "  while i > 0:\n",
        "    print(a, end=' ')\n",
        "    i -= 1"
      ],
      "metadata": {
        "colab": {
          "base_uri": "https://localhost:8080/"
        },
        "id": "0CnPtwAD7ZIX",
        "outputId": "49e3e576-a2cf-4d95-9bbd-a93ed7c519b2"
      },
      "execution_count": null,
      "outputs": [
        {
          "output_type": "stream",
          "name": "stdout",
          "text": [
            "1 2 2 3 3 3 4 4 4 4 "
          ]
        }
      ]
    },
    {
      "cell_type": "code",
      "source": [
        "# list에 있는 값을 순차적으로 출력\n",
        "list1 = [1,3,4,5,6,7,4,3,5,7,7]\n",
        "\n",
        "for i in list1:\n",
        "  print(i)"
      ],
      "metadata": {
        "colab": {
          "base_uri": "https://localhost:8080/"
        },
        "id": "PPIW3opNB-Oe",
        "outputId": "866de35b-1386-4648-b79d-e3448f1b8ebd"
      },
      "execution_count": null,
      "outputs": [
        {
          "output_type": "stream",
          "name": "stdout",
          "text": [
            "1\n",
            "3\n",
            "4\n",
            "5\n",
            "6\n",
            "7\n",
            "4\n",
            "3\n",
            "5\n",
            "7\n",
            "7\n"
          ]
        }
      ]
    },
    {
      "cell_type": "code",
      "source": [
        "print(list1)\n",
        "print(list1[-5:-1]) # -1번째 인덱스는 출력에서 제외됨(끝 제외)\n",
        "print(list1[-5:])  # -1번째 인덱스도 출력하려면 끝을 비워야 함\n",
        "print(list1[::2])  # 3번째 인자는 step: 몇 칸씩 뛰어쓸지. 리스트를 2칸씩 출력\n",
        "print(list1[::-1])  # 리스트 거꾸로 출력\n",
        "print(list1[::-2])  # 리스트 거꾸로 2칸씩 출력"
      ],
      "metadata": {
        "colab": {
          "base_uri": "https://localhost:8080/"
        },
        "id": "yMxFtj5aE3P1",
        "outputId": "3ce2cc81-e40c-40cd-ed52-ff4d2e87a53e"
      },
      "execution_count": null,
      "outputs": [
        {
          "output_type": "stream",
          "name": "stdout",
          "text": [
            "[1, 3, 4, 5, 6, 7, 4, 3, 5, 7, 7]\n",
            "[4, 3, 5, 7]\n",
            "[4, 3, 5, 7, 7]\n",
            "[1, 4, 6, 4, 5, 7]\n",
            "[7, 7, 5, 3, 4, 7, 6, 5, 4, 3, 1]\n",
            "[7, 5, 4, 6, 4, 1]\n"
          ]
        }
      ]
    },
    {
      "cell_type": "code",
      "source": [
        "list1.append([5, 6, 7])\n",
        "print(list1)"
      ],
      "metadata": {
        "id": "7Yh12E7KNp07",
        "colab": {
          "base_uri": "https://localhost:8080/"
        },
        "outputId": "0a51fe76-528a-4520-e219-3910465cb648"
      },
      "execution_count": null,
      "outputs": [
        {
          "output_type": "stream",
          "name": "stdout",
          "text": [
            "[1, 3, 4, 5, 6, 7, 4, 3, 5, 7, 7, [5, 6, 7]]\n"
          ]
        }
      ]
    },
    {
      "cell_type": "code",
      "source": [
        "list1.extend([5, 6, 7])\n",
        "print(list1)"
      ],
      "metadata": {
        "colab": {
          "base_uri": "https://localhost:8080/"
        },
        "id": "fScQsk95O_VN",
        "outputId": "7fee657e-4cbb-4d7b-b81d-966da2bb4695"
      },
      "execution_count": null,
      "outputs": [
        {
          "output_type": "stream",
          "name": "stdout",
          "text": [
            "[1, 3, 4, 5, 6, 7, 4, 3, 5, 7, 7, [5, 6, 7], 5, 6, 7]\n"
          ]
        }
      ]
    },
    {
      "cell_type": "code",
      "source": [
        "print(list1)\n",
        "print(list1.count(4))\n",
        "print(list1[-5:-1].count(4))\n",
        "print(list.count(list1[3:8], 4))"
      ],
      "metadata": {
        "colab": {
          "base_uri": "https://localhost:8080/"
        },
        "id": "RoKAp_DqQuSJ",
        "outputId": "f09e0d10-ae2a-4442-eafc-fd826b7d8f0d"
      },
      "execution_count": null,
      "outputs": [
        {
          "output_type": "stream",
          "name": "stdout",
          "text": [
            "[1, 3, 4, 5, 6, 7, 4, 3, 5, 7, 7, [5, 6, 7], 5, 6, 7]\n",
            "2\n",
            "0\n",
            "1\n"
          ]
        }
      ]
    },
    {
      "cell_type": "code",
      "source": [
        "print(list1)\n",
        "print(list1.index(4))"
      ],
      "metadata": {
        "colab": {
          "base_uri": "https://localhost:8080/"
        },
        "id": "2RbER1-SQPY4",
        "outputId": "ffabe733-cb8b-4b62-d437-beef76c663a6"
      },
      "execution_count": null,
      "outputs": [
        {
          "output_type": "stream",
          "name": "stdout",
          "text": [
            "[1, 3, 4, 5, 6, 7, 4, 3, 5, 7, 7, [5, 6, 7], 5, 6, 7]\n",
            "2\n"
          ]
        }
      ]
    },
    {
      "cell_type": "code",
      "source": [
        "print(list1)\n",
        "print(list1.pop())"
      ],
      "metadata": {
        "colab": {
          "base_uri": "https://localhost:8080/"
        },
        "id": "OVf6APmaQPUL",
        "outputId": "a0ab6fa1-d7d6-4475-b96c-c128d2543b24"
      },
      "execution_count": null,
      "outputs": [
        {
          "output_type": "stream",
          "name": "stdout",
          "text": [
            "[1, 3, 4, 5, 6, 7, 4, 3, 5, 7, 7, [5, 6, 7], 5, 6, 7]\n",
            "7\n"
          ]
        }
      ]
    },
    {
      "cell_type": "code",
      "source": [
        "print(list1)"
      ],
      "metadata": {
        "colab": {
          "base_uri": "https://localhost:8080/"
        },
        "id": "IPge31PFQPG-",
        "outputId": "d446d9ac-a3f1-4dd8-f2ca-8278e56ac690"
      },
      "execution_count": null,
      "outputs": [
        {
          "output_type": "stream",
          "name": "stdout",
          "text": [
            "[1, 3, 4, 5, 6, 7, 4, 3, 5, 7, 7, [5, 6, 7], 5, 6]\n"
          ]
        }
      ]
    },
    {
      "cell_type": "code",
      "source": [
        "print(list1)\n",
        "list1.remove([5, 6, 7])\n",
        "print(list1)"
      ],
      "metadata": {
        "colab": {
          "base_uri": "https://localhost:8080/"
        },
        "id": "aRZneuyiRBU_",
        "outputId": "899dadeb-05fb-427d-f143-820f9a18ab21"
      },
      "execution_count": null,
      "outputs": [
        {
          "output_type": "stream",
          "name": "stdout",
          "text": [
            "[1, 3, 4, 5, 6, 7, 4, 3, 5, 7, 7, [5, 6, 7], 5, 6]\n",
            "[1, 3, 4, 5, 6, 7, 4, 3, 5, 7, 7, 5, 6]\n"
          ]
        }
      ]
    },
    {
      "cell_type": "code",
      "source": [
        "list2 = sorted(list1)\n",
        "print(list1)\n",
        "print(list2)"
      ],
      "metadata": {
        "colab": {
          "base_uri": "https://localhost:8080/"
        },
        "id": "JjsX1D57Ury6",
        "outputId": "6c76f0df-04eb-432a-ec9b-273b905e903d"
      },
      "execution_count": null,
      "outputs": [
        {
          "output_type": "stream",
          "name": "stdout",
          "text": [
            "[1, 3, 3, 4, 4, 5, 5, 5, 6, 6, 7, 7, 7]\n",
            "[1, 3, 3, 4, 4, 5, 5, 5, 6, 6, 7, 7, 7]\n"
          ]
        }
      ]
    },
    {
      "cell_type": "code",
      "source": [
        "list1.sort()\n",
        "print(list1)"
      ],
      "metadata": {
        "colab": {
          "base_uri": "https://localhost:8080/"
        },
        "id": "-6Nd1zLmSRac",
        "outputId": "7d8fec94-0af7-4d00-e79b-d239941178ec"
      },
      "execution_count": null,
      "outputs": [
        {
          "output_type": "stream",
          "name": "stdout",
          "text": [
            "[1, 3, 3, 4, 4, 5, 5, 5, 6, 6, 7, 7, 7]\n"
          ]
        }
      ]
    }
  ]
}